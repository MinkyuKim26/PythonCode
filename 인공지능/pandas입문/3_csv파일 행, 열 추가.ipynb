{
 "metadata": {
  "language_info": {
   "codemirror_mode": {
    "name": "ipython",
    "version": 3
   },
   "file_extension": ".py",
   "mimetype": "text/x-python",
   "name": "python",
   "nbconvert_exporter": "python",
   "pygments_lexer": "ipython3",
   "version": "3.8.5-final"
  },
  "orig_nbformat": 2,
  "kernelspec": {
   "name": "python3",
   "display_name": "Python 3",
   "language": "python"
  }
 },
 "nbformat": 4,
 "nbformat_minor": 2,
 "cells": [
  {
   "cell_type": "code",
   "execution_count": 1,
   "metadata": {},
   "outputs": [],
   "source": [
    "import pandas as pd"
   ]
  },
  {
   "cell_type": "code",
   "execution_count": 3,
   "metadata": {},
   "outputs": [
    {
     "output_type": "execute_result",
     "data": {
      "text/plain": [
       "   도시      인구수\n",
       "0  서울  9741381\n",
       "1  부산  3416918\n",
       "2  인천  2925967\n",
       "3  대구  2453041\n",
       "4  대전  1525849\n",
       "5  광주  1496172\n",
       "6  수원  1193894\n",
       "7  울산  1147037\n",
       "8  고양  1068641\n",
       "9  용인  1061440"
      ],
      "text/html": "<div>\n<style scoped>\n    .dataframe tbody tr th:only-of-type {\n        vertical-align: middle;\n    }\n\n    .dataframe tbody tr th {\n        vertical-align: top;\n    }\n\n    .dataframe thead th {\n        text-align: right;\n    }\n</style>\n<table border=\"1\" class=\"dataframe\">\n  <thead>\n    <tr style=\"text-align: right;\">\n      <th></th>\n      <th>도시</th>\n      <th>인구수</th>\n    </tr>\n  </thead>\n  <tbody>\n    <tr>\n      <th>0</th>\n      <td>서울</td>\n      <td>9741381</td>\n    </tr>\n    <tr>\n      <th>1</th>\n      <td>부산</td>\n      <td>3416918</td>\n    </tr>\n    <tr>\n      <th>2</th>\n      <td>인천</td>\n      <td>2925967</td>\n    </tr>\n    <tr>\n      <th>3</th>\n      <td>대구</td>\n      <td>2453041</td>\n    </tr>\n    <tr>\n      <th>4</th>\n      <td>대전</td>\n      <td>1525849</td>\n    </tr>\n    <tr>\n      <th>5</th>\n      <td>광주</td>\n      <td>1496172</td>\n    </tr>\n    <tr>\n      <th>6</th>\n      <td>수원</td>\n      <td>1193894</td>\n    </tr>\n    <tr>\n      <th>7</th>\n      <td>울산</td>\n      <td>1147037</td>\n    </tr>\n    <tr>\n      <th>8</th>\n      <td>고양</td>\n      <td>1068641</td>\n    </tr>\n    <tr>\n      <th>9</th>\n      <td>용인</td>\n      <td>1061440</td>\n    </tr>\n  </tbody>\n</table>\n</div>"
     },
     "metadata": {},
     "execution_count": 3
    }
   ],
   "source": [
    "data = pd.read_csv('/Users/minguinho/Downloads/데이콘/pandas 입문/Data/data02.csv') # 이전 시간에 만들었던 데이터 불러오기 \n",
    "data"
   ]
  },
  {
   "cell_type": "code",
   "execution_count": 4,
   "metadata": {},
   "outputs": [],
   "source": [
    "# 새로운 데이터를 컬럼에 추가 -> 특징 추가? \n",
    "man = [4757642, 1680933, 1472081, 1218326, 765718, 745122, 601097, 589233, 523803, 526824]\n",
    "woman = [4984229, 1735985, 1453886, 1234715, 760131, 751050, 592797, 557804, 544838, 534617]"
   ]
  },
  {
   "cell_type": "code",
   "execution_count": 5,
   "metadata": {},
   "outputs": [
    {
     "output_type": "execute_result",
     "data": {
      "text/plain": [
       "   도시      인구수       남자       여자\n",
       "0  서울  9741381  4757642  4984229\n",
       "1  부산  3416918  1680933  1735985\n",
       "2  인천  2925967  1472081  1453886\n",
       "3  대구  2453041  1218326  1234715\n",
       "4  대전  1525849   765718   760131\n",
       "5  광주  1496172   745122   751050\n",
       "6  수원  1193894   601097   592797\n",
       "7  울산  1147037   589233   557804\n",
       "8  고양  1068641   523803   544838\n",
       "9  용인  1061440   526824   534617"
      ],
      "text/html": "<div>\n<style scoped>\n    .dataframe tbody tr th:only-of-type {\n        vertical-align: middle;\n    }\n\n    .dataframe tbody tr th {\n        vertical-align: top;\n    }\n\n    .dataframe thead th {\n        text-align: right;\n    }\n</style>\n<table border=\"1\" class=\"dataframe\">\n  <thead>\n    <tr style=\"text-align: right;\">\n      <th></th>\n      <th>도시</th>\n      <th>인구수</th>\n      <th>남자</th>\n      <th>여자</th>\n    </tr>\n  </thead>\n  <tbody>\n    <tr>\n      <th>0</th>\n      <td>서울</td>\n      <td>9741381</td>\n      <td>4757642</td>\n      <td>4984229</td>\n    </tr>\n    <tr>\n      <th>1</th>\n      <td>부산</td>\n      <td>3416918</td>\n      <td>1680933</td>\n      <td>1735985</td>\n    </tr>\n    <tr>\n      <th>2</th>\n      <td>인천</td>\n      <td>2925967</td>\n      <td>1472081</td>\n      <td>1453886</td>\n    </tr>\n    <tr>\n      <th>3</th>\n      <td>대구</td>\n      <td>2453041</td>\n      <td>1218326</td>\n      <td>1234715</td>\n    </tr>\n    <tr>\n      <th>4</th>\n      <td>대전</td>\n      <td>1525849</td>\n      <td>765718</td>\n      <td>760131</td>\n    </tr>\n    <tr>\n      <th>5</th>\n      <td>광주</td>\n      <td>1496172</td>\n      <td>745122</td>\n      <td>751050</td>\n    </tr>\n    <tr>\n      <th>6</th>\n      <td>수원</td>\n      <td>1193894</td>\n      <td>601097</td>\n      <td>592797</td>\n    </tr>\n    <tr>\n      <th>7</th>\n      <td>울산</td>\n      <td>1147037</td>\n      <td>589233</td>\n      <td>557804</td>\n    </tr>\n    <tr>\n      <th>8</th>\n      <td>고양</td>\n      <td>1068641</td>\n      <td>523803</td>\n      <td>544838</td>\n    </tr>\n    <tr>\n      <th>9</th>\n      <td>용인</td>\n      <td>1061440</td>\n      <td>526824</td>\n      <td>534617</td>\n    </tr>\n  </tbody>\n</table>\n</div>"
     },
     "metadata": {},
     "execution_count": 5
    }
   ],
   "source": [
    "# 이런식으로 추가할 수 있다. 이거 그 뭐냐 파이썬 클래스 초기화할 때 클래스 변수 추가하는거 보는 느낌이 든다. 없던 종류의 원소인데 이런식으로 추가하는거지. \n",
    "data['남자'] = man\n",
    "data['여자'] = woman\n",
    "data"
   ]
  },
  {
   "cell_type": "code",
   "execution_count": 6,
   "metadata": {},
   "outputs": [
    {
     "output_type": "execute_result",
     "data": {
      "text/plain": [
       "도시     서울부산인천대구대전광주수원울산고양용인\n",
       "인구수                26030340\n",
       "남자                 12880779\n",
       "여자                 13150052\n",
       "dtype: object"
      ]
     },
     "metadata": {},
     "execution_count": 6
    }
   ],
   "source": [
    "# 인구수 종합 열(로우) 추가\n",
    "data.sum() # 데이터 요소를 다 더한 로우를 보여준다. 도시 이름도 다 더해져있고 인구도 다 더해져있음"
   ]
  },
  {
   "cell_type": "code",
   "execution_count": 7,
   "metadata": {},
   "outputs": [
    {
     "output_type": "execute_result",
     "data": {
      "text/plain": [
       "                      도시       인구수        남자        여자\n",
       "0                     서울   9741381   4757642   4984229\n",
       "1                     부산   3416918   1680933   1735985\n",
       "2                     인천   2925967   1472081   1453886\n",
       "3                     대구   2453041   1218326   1234715\n",
       "4                     대전   1525849    765718    760131\n",
       "5                     광주   1496172    745122    751050\n",
       "6                     수원   1193894    601097    592797\n",
       "7                     울산   1147037    589233    557804\n",
       "8                     고양   1068641    523803    544838\n",
       "9                     용인   1061440    526824    534617\n",
       "10  서울부산인천대구대전광주수원울산고양용인  26030340  12880779  13150052"
      ],
      "text/html": "<div>\n<style scoped>\n    .dataframe tbody tr th:only-of-type {\n        vertical-align: middle;\n    }\n\n    .dataframe tbody tr th {\n        vertical-align: top;\n    }\n\n    .dataframe thead th {\n        text-align: right;\n    }\n</style>\n<table border=\"1\" class=\"dataframe\">\n  <thead>\n    <tr style=\"text-align: right;\">\n      <th></th>\n      <th>도시</th>\n      <th>인구수</th>\n      <th>남자</th>\n      <th>여자</th>\n    </tr>\n  </thead>\n  <tbody>\n    <tr>\n      <th>0</th>\n      <td>서울</td>\n      <td>9741381</td>\n      <td>4757642</td>\n      <td>4984229</td>\n    </tr>\n    <tr>\n      <th>1</th>\n      <td>부산</td>\n      <td>3416918</td>\n      <td>1680933</td>\n      <td>1735985</td>\n    </tr>\n    <tr>\n      <th>2</th>\n      <td>인천</td>\n      <td>2925967</td>\n      <td>1472081</td>\n      <td>1453886</td>\n    </tr>\n    <tr>\n      <th>3</th>\n      <td>대구</td>\n      <td>2453041</td>\n      <td>1218326</td>\n      <td>1234715</td>\n    </tr>\n    <tr>\n      <th>4</th>\n      <td>대전</td>\n      <td>1525849</td>\n      <td>765718</td>\n      <td>760131</td>\n    </tr>\n    <tr>\n      <th>5</th>\n      <td>광주</td>\n      <td>1496172</td>\n      <td>745122</td>\n      <td>751050</td>\n    </tr>\n    <tr>\n      <th>6</th>\n      <td>수원</td>\n      <td>1193894</td>\n      <td>601097</td>\n      <td>592797</td>\n    </tr>\n    <tr>\n      <th>7</th>\n      <td>울산</td>\n      <td>1147037</td>\n      <td>589233</td>\n      <td>557804</td>\n    </tr>\n    <tr>\n      <th>8</th>\n      <td>고양</td>\n      <td>1068641</td>\n      <td>523803</td>\n      <td>544838</td>\n    </tr>\n    <tr>\n      <th>9</th>\n      <td>용인</td>\n      <td>1061440</td>\n      <td>526824</td>\n      <td>534617</td>\n    </tr>\n    <tr>\n      <th>10</th>\n      <td>서울부산인천대구대전광주수원울산고양용인</td>\n      <td>26030340</td>\n      <td>12880779</td>\n      <td>13150052</td>\n    </tr>\n  </tbody>\n</table>\n</div>"
     },
     "metadata": {},
     "execution_count": 7
    }
   ],
   "source": [
    "# loc[]로 추가. 추가할 로우의 인덱스 입력 후 값을 추가. 역시 클래스의 초기화 장면을 연상케 한다. \n",
    "data.loc[10] = data.sum()\n",
    "data"
   ]
  },
  {
   "cell_type": "code",
   "execution_count": 8,
   "metadata": {},
   "outputs": [
    {
     "output_type": "execute_result",
     "data": {
      "text/plain": [
       "    도시       인구수        남자        여자\n",
       "0   서울   9741381   4757642   4984229\n",
       "1   부산   3416918   1680933   1735985\n",
       "2   인천   2925967   1472081   1453886\n",
       "3   대구   2453041   1218326   1234715\n",
       "4   대전   1525849    765718    760131\n",
       "5   광주   1496172    745122    751050\n",
       "6   수원   1193894    601097    592797\n",
       "7   울산   1147037    589233    557804\n",
       "8   고양   1068641    523803    544838\n",
       "9   용인   1061440    526824    534617\n",
       "10  총합  26030340  12880779  13150052"
      ],
      "text/html": "<div>\n<style scoped>\n    .dataframe tbody tr th:only-of-type {\n        vertical-align: middle;\n    }\n\n    .dataframe tbody tr th {\n        vertical-align: top;\n    }\n\n    .dataframe thead th {\n        text-align: right;\n    }\n</style>\n<table border=\"1\" class=\"dataframe\">\n  <thead>\n    <tr style=\"text-align: right;\">\n      <th></th>\n      <th>도시</th>\n      <th>인구수</th>\n      <th>남자</th>\n      <th>여자</th>\n    </tr>\n  </thead>\n  <tbody>\n    <tr>\n      <th>0</th>\n      <td>서울</td>\n      <td>9741381</td>\n      <td>4757642</td>\n      <td>4984229</td>\n    </tr>\n    <tr>\n      <th>1</th>\n      <td>부산</td>\n      <td>3416918</td>\n      <td>1680933</td>\n      <td>1735985</td>\n    </tr>\n    <tr>\n      <th>2</th>\n      <td>인천</td>\n      <td>2925967</td>\n      <td>1472081</td>\n      <td>1453886</td>\n    </tr>\n    <tr>\n      <th>3</th>\n      <td>대구</td>\n      <td>2453041</td>\n      <td>1218326</td>\n      <td>1234715</td>\n    </tr>\n    <tr>\n      <th>4</th>\n      <td>대전</td>\n      <td>1525849</td>\n      <td>765718</td>\n      <td>760131</td>\n    </tr>\n    <tr>\n      <th>5</th>\n      <td>광주</td>\n      <td>1496172</td>\n      <td>745122</td>\n      <td>751050</td>\n    </tr>\n    <tr>\n      <th>6</th>\n      <td>수원</td>\n      <td>1193894</td>\n      <td>601097</td>\n      <td>592797</td>\n    </tr>\n    <tr>\n      <th>7</th>\n      <td>울산</td>\n      <td>1147037</td>\n      <td>589233</td>\n      <td>557804</td>\n    </tr>\n    <tr>\n      <th>8</th>\n      <td>고양</td>\n      <td>1068641</td>\n      <td>523803</td>\n      <td>544838</td>\n    </tr>\n    <tr>\n      <th>9</th>\n      <td>용인</td>\n      <td>1061440</td>\n      <td>526824</td>\n      <td>534617</td>\n    </tr>\n    <tr>\n      <th>10</th>\n      <td>총합</td>\n      <td>26030340</td>\n      <td>12880779</td>\n      <td>13150052</td>\n    </tr>\n  </tbody>\n</table>\n</div>"
     },
     "metadata": {},
     "execution_count": 8
    }
   ],
   "source": [
    "# 특정값 변경. loc[]로 변경 가능\n",
    "data.loc[10, '도시'] = '총합' # 10번 째 특성(로우)의 '도시'열에 해당하는 값을 '총합'으로 변경\n",
    "data"
   ]
  },
  {
   "cell_type": "code",
   "execution_count": 11,
   "metadata": {},
   "outputs": [],
   "source": [
    "data.to_csv('/Users/minguinho/Downloads/데이콘/pandas 입문/Data/data03.csv', index=False)"
   ]
  },
  {
   "cell_type": "code",
   "execution_count": null,
   "metadata": {},
   "outputs": [],
   "source": []
  }
 ]
}