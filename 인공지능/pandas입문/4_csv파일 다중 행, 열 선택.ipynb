{
 "metadata": {
  "language_info": {
   "codemirror_mode": {
    "name": "ipython",
    "version": 3
   },
   "file_extension": ".py",
   "mimetype": "text/x-python",
   "name": "python",
   "nbconvert_exporter": "python",
   "pygments_lexer": "ipython3",
   "version": "3.8.5-final"
  },
  "orig_nbformat": 2,
  "kernelspec": {
   "name": "python3",
   "display_name": "Python 3",
   "language": "python"
  }
 },
 "nbformat": 4,
 "nbformat_minor": 2,
 "cells": [
  {
   "cell_type": "code",
   "execution_count": 1,
   "metadata": {},
   "outputs": [],
   "source": [
    "import pandas as pd"
   ]
  },
  {
   "cell_type": "code",
   "execution_count": 2,
   "metadata": {},
   "outputs": [
    {
     "output_type": "execute_result",
     "data": {
      "text/plain": [
       "    도시       인구수        남자        여자\n",
       "0   서울   9741381   4757642   4984229\n",
       "1   부산   3416918   1680933   1735985\n",
       "2   인천   2925967   1472081   1453886\n",
       "3   대구   2453041   1218326   1234715\n",
       "4   대전   1525849    765718    760131\n",
       "5   광주   1496172    745122    751050\n",
       "6   수원   1193894    601097    592797\n",
       "7   울산   1147037    589233    557804\n",
       "8   고양   1068641    523803    544838\n",
       "9   용인   1061440    526824    534617\n",
       "10  총합  26030340  12880779  13150052"
      ],
      "text/html": "<div>\n<style scoped>\n    .dataframe tbody tr th:only-of-type {\n        vertical-align: middle;\n    }\n\n    .dataframe tbody tr th {\n        vertical-align: top;\n    }\n\n    .dataframe thead th {\n        text-align: right;\n    }\n</style>\n<table border=\"1\" class=\"dataframe\">\n  <thead>\n    <tr style=\"text-align: right;\">\n      <th></th>\n      <th>도시</th>\n      <th>인구수</th>\n      <th>남자</th>\n      <th>여자</th>\n    </tr>\n  </thead>\n  <tbody>\n    <tr>\n      <th>0</th>\n      <td>서울</td>\n      <td>9741381</td>\n      <td>4757642</td>\n      <td>4984229</td>\n    </tr>\n    <tr>\n      <th>1</th>\n      <td>부산</td>\n      <td>3416918</td>\n      <td>1680933</td>\n      <td>1735985</td>\n    </tr>\n    <tr>\n      <th>2</th>\n      <td>인천</td>\n      <td>2925967</td>\n      <td>1472081</td>\n      <td>1453886</td>\n    </tr>\n    <tr>\n      <th>3</th>\n      <td>대구</td>\n      <td>2453041</td>\n      <td>1218326</td>\n      <td>1234715</td>\n    </tr>\n    <tr>\n      <th>4</th>\n      <td>대전</td>\n      <td>1525849</td>\n      <td>765718</td>\n      <td>760131</td>\n    </tr>\n    <tr>\n      <th>5</th>\n      <td>광주</td>\n      <td>1496172</td>\n      <td>745122</td>\n      <td>751050</td>\n    </tr>\n    <tr>\n      <th>6</th>\n      <td>수원</td>\n      <td>1193894</td>\n      <td>601097</td>\n      <td>592797</td>\n    </tr>\n    <tr>\n      <th>7</th>\n      <td>울산</td>\n      <td>1147037</td>\n      <td>589233</td>\n      <td>557804</td>\n    </tr>\n    <tr>\n      <th>8</th>\n      <td>고양</td>\n      <td>1068641</td>\n      <td>523803</td>\n      <td>544838</td>\n    </tr>\n    <tr>\n      <th>9</th>\n      <td>용인</td>\n      <td>1061440</td>\n      <td>526824</td>\n      <td>534617</td>\n    </tr>\n    <tr>\n      <th>10</th>\n      <td>총합</td>\n      <td>26030340</td>\n      <td>12880779</td>\n      <td>13150052</td>\n    </tr>\n  </tbody>\n</table>\n</div>"
     },
     "metadata": {},
     "execution_count": 2
    }
   ],
   "source": [
    "data = pd.read_csv('/Users/minguinho/Downloads/데이콘/pandas 입문/Data/data03.csv') \n",
    "data # 데이터 불러오기"
   ]
  },
  {
   "cell_type": "code",
   "execution_count": 3,
   "metadata": {},
   "outputs": [
    {
     "output_type": "execute_result",
     "data": {
      "text/plain": [
       "   도시      인구수       남자       여자\n",
       "2  인천  2925967  1472081  1453886\n",
       "3  대구  2453041  1218326  1234715\n",
       "4  대전  1525849   765718   760131\n",
       "5  광주  1496172   745122   751050\n",
       "6  수원  1193894   601097   592797\n",
       "7  울산  1147037   589233   557804\n",
       "8  고양  1068641   523803   544838"
      ],
      "text/html": "<div>\n<style scoped>\n    .dataframe tbody tr th:only-of-type {\n        vertical-align: middle;\n    }\n\n    .dataframe tbody tr th {\n        vertical-align: top;\n    }\n\n    .dataframe thead th {\n        text-align: right;\n    }\n</style>\n<table border=\"1\" class=\"dataframe\">\n  <thead>\n    <tr style=\"text-align: right;\">\n      <th></th>\n      <th>도시</th>\n      <th>인구수</th>\n      <th>남자</th>\n      <th>여자</th>\n    </tr>\n  </thead>\n  <tbody>\n    <tr>\n      <th>2</th>\n      <td>인천</td>\n      <td>2925967</td>\n      <td>1472081</td>\n      <td>1453886</td>\n    </tr>\n    <tr>\n      <th>3</th>\n      <td>대구</td>\n      <td>2453041</td>\n      <td>1218326</td>\n      <td>1234715</td>\n    </tr>\n    <tr>\n      <th>4</th>\n      <td>대전</td>\n      <td>1525849</td>\n      <td>765718</td>\n      <td>760131</td>\n    </tr>\n    <tr>\n      <th>5</th>\n      <td>광주</td>\n      <td>1496172</td>\n      <td>745122</td>\n      <td>751050</td>\n    </tr>\n    <tr>\n      <th>6</th>\n      <td>수원</td>\n      <td>1193894</td>\n      <td>601097</td>\n      <td>592797</td>\n    </tr>\n    <tr>\n      <th>7</th>\n      <td>울산</td>\n      <td>1147037</td>\n      <td>589233</td>\n      <td>557804</td>\n    </tr>\n    <tr>\n      <th>8</th>\n      <td>고양</td>\n      <td>1068641</td>\n      <td>523803</td>\n      <td>544838</td>\n    </tr>\n  </tbody>\n</table>\n</div>"
     },
     "metadata": {},
     "execution_count": 3
    }
   ],
   "source": [
    "# 열을 부분적으로 선택\n",
    "data[2:-2] #뒤에 음수가 있으면 끝에서부터 음수만큼 제외한 위치까지를 표현"
   ]
  },
  {
   "cell_type": "code",
   "execution_count": 4,
   "metadata": {},
   "outputs": [
    {
     "output_type": "execute_result",
     "data": {
      "text/plain": [
       "    도시       인구수        남자        여자\n",
       "9   용인   1061440    526824    534617\n",
       "10  총합  26030340  12880779  13150052"
      ],
      "text/html": "<div>\n<style scoped>\n    .dataframe tbody tr th:only-of-type {\n        vertical-align: middle;\n    }\n\n    .dataframe tbody tr th {\n        vertical-align: top;\n    }\n\n    .dataframe thead th {\n        text-align: right;\n    }\n</style>\n<table border=\"1\" class=\"dataframe\">\n  <thead>\n    <tr style=\"text-align: right;\">\n      <th></th>\n      <th>도시</th>\n      <th>인구수</th>\n      <th>남자</th>\n      <th>여자</th>\n    </tr>\n  </thead>\n  <tbody>\n    <tr>\n      <th>9</th>\n      <td>용인</td>\n      <td>1061440</td>\n      <td>526824</td>\n      <td>534617</td>\n    </tr>\n    <tr>\n      <th>10</th>\n      <td>총합</td>\n      <td>26030340</td>\n      <td>12880779</td>\n      <td>13150052</td>\n    </tr>\n  </tbody>\n</table>\n</div>"
     },
     "metadata": {},
     "execution_count": 4
    }
   ],
   "source": [
    "data[-2:] # 끝에서 2만큼 제외한 위치에서 시작해 끝까지 == 뒤에 2개"
   ]
  },
  {
   "cell_type": "code",
   "execution_count": 5,
   "metadata": {},
   "outputs": [
    {
     "output_type": "execute_result",
     "data": {
      "text/plain": [
       "       인구수       남자       여자\n",
       "0  9741381  4757642  4984229\n",
       "2  2925967  1472081  1453886\n",
       "4  1525849   765718   760131\n",
       "6  1193894   601097   592797\n",
       "7  1147037   589233   557804\n",
       "9  1061440   526824   534617"
      ],
      "text/html": "<div>\n<style scoped>\n    .dataframe tbody tr th:only-of-type {\n        vertical-align: middle;\n    }\n\n    .dataframe tbody tr th {\n        vertical-align: top;\n    }\n\n    .dataframe thead th {\n        text-align: right;\n    }\n</style>\n<table border=\"1\" class=\"dataframe\">\n  <thead>\n    <tr style=\"text-align: right;\">\n      <th></th>\n      <th>인구수</th>\n      <th>남자</th>\n      <th>여자</th>\n    </tr>\n  </thead>\n  <tbody>\n    <tr>\n      <th>0</th>\n      <td>9741381</td>\n      <td>4757642</td>\n      <td>4984229</td>\n    </tr>\n    <tr>\n      <th>2</th>\n      <td>2925967</td>\n      <td>1472081</td>\n      <td>1453886</td>\n    </tr>\n    <tr>\n      <th>4</th>\n      <td>1525849</td>\n      <td>765718</td>\n      <td>760131</td>\n    </tr>\n    <tr>\n      <th>6</th>\n      <td>1193894</td>\n      <td>601097</td>\n      <td>592797</td>\n    </tr>\n    <tr>\n      <th>7</th>\n      <td>1147037</td>\n      <td>589233</td>\n      <td>557804</td>\n    </tr>\n    <tr>\n      <th>9</th>\n      <td>1061440</td>\n      <td>526824</td>\n      <td>534617</td>\n    </tr>\n  </tbody>\n</table>\n</div>"
     },
     "metadata": {},
     "execution_count": 5
    }
   ],
   "source": [
    "# 다중 행, 열 선택. loc를 이용. loc는 인덱스를 이용해 접근\n",
    "data.loc[[0,2,4,6,7,9], ['인구수','남자', '여자']] # 0,2,4,6,7,9 인덱스를 가진 데이터 중 '인구수', '남자', '여자' 데이터만 가져옴"
   ]
  },
  {
   "cell_type": "code",
   "execution_count": 6,
   "metadata": {},
   "outputs": [
    {
     "output_type": "execute_result",
     "data": {
      "text/plain": [
       "       인구수       남자       여자\n",
       "2  2925967  1472081  1453886\n",
       "3  2453041  1218326  1234715\n",
       "4  1525849   765718   760131\n",
       "5  1496172   745122   751050"
      ],
      "text/html": "<div>\n<style scoped>\n    .dataframe tbody tr th:only-of-type {\n        vertical-align: middle;\n    }\n\n    .dataframe tbody tr th {\n        vertical-align: top;\n    }\n\n    .dataframe thead th {\n        text-align: right;\n    }\n</style>\n<table border=\"1\" class=\"dataframe\">\n  <thead>\n    <tr style=\"text-align: right;\">\n      <th></th>\n      <th>인구수</th>\n      <th>남자</th>\n      <th>여자</th>\n    </tr>\n  </thead>\n  <tbody>\n    <tr>\n      <th>2</th>\n      <td>2925967</td>\n      <td>1472081</td>\n      <td>1453886</td>\n    </tr>\n    <tr>\n      <th>3</th>\n      <td>2453041</td>\n      <td>1218326</td>\n      <td>1234715</td>\n    </tr>\n    <tr>\n      <th>4</th>\n      <td>1525849</td>\n      <td>765718</td>\n      <td>760131</td>\n    </tr>\n    <tr>\n      <th>5</th>\n      <td>1496172</td>\n      <td>745122</td>\n      <td>751050</td>\n    </tr>\n  </tbody>\n</table>\n</div>"
     },
     "metadata": {},
     "execution_count": 6
    }
   ],
   "source": [
    "data.loc[2:5, '인구수':'여자'] # 이렇게 범위로 불러내기도 가능. 2~5번 째 열에서 인구수~여자 데이터 불러옴. 행을 넣을 때 도시, 인구수, 남자, 여자 순으로 넣었으니 인구수, 남자, 여자 데이터가 출력됨. "
   ]
  },
  {
   "cell_type": "code",
   "execution_count": 7,
   "metadata": {},
   "outputs": [
    {
     "output_type": "execute_result",
     "data": {
      "text/plain": [
       "       인구수       여자\n",
       "2  2925967  1453886\n",
       "3  2453041  1234715\n",
       "4  1525849   760131\n",
       "5  1496172   751050"
      ],
      "text/html": "<div>\n<style scoped>\n    .dataframe tbody tr th:only-of-type {\n        vertical-align: middle;\n    }\n\n    .dataframe tbody tr th {\n        vertical-align: top;\n    }\n\n    .dataframe thead th {\n        text-align: right;\n    }\n</style>\n<table border=\"1\" class=\"dataframe\">\n  <thead>\n    <tr style=\"text-align: right;\">\n      <th></th>\n      <th>인구수</th>\n      <th>여자</th>\n    </tr>\n  </thead>\n  <tbody>\n    <tr>\n      <th>2</th>\n      <td>2925967</td>\n      <td>1453886</td>\n    </tr>\n    <tr>\n      <th>3</th>\n      <td>2453041</td>\n      <td>1234715</td>\n    </tr>\n    <tr>\n      <th>4</th>\n      <td>1525849</td>\n      <td>760131</td>\n    </tr>\n    <tr>\n      <th>5</th>\n      <td>1496172</td>\n      <td>751050</td>\n    </tr>\n  </tbody>\n</table>\n</div>"
     },
     "metadata": {},
     "execution_count": 7
    }
   ],
   "source": [
    "# iloc을 이용해서 데이터에 접근할 수 있다. iloc은 인덱스가 아닌 위치를 이용해 데이터에 접근한다. 이 점 주의하자. \n",
    "data.iloc[[2,3,4,5],[1,3]]"
   ]
  },
  {
   "cell_type": "code",
   "execution_count": 8,
   "metadata": {},
   "outputs": [
    {
     "output_type": "execute_result",
     "data": {
      "text/plain": [
       "       인구수       남자       여자\n",
       "2  2925967  1472081  1453886\n",
       "3  2453041  1218326  1234715\n",
       "4  1525849   765718   760131"
      ],
      "text/html": "<div>\n<style scoped>\n    .dataframe tbody tr th:only-of-type {\n        vertical-align: middle;\n    }\n\n    .dataframe tbody tr th {\n        vertical-align: top;\n    }\n\n    .dataframe thead th {\n        text-align: right;\n    }\n</style>\n<table border=\"1\" class=\"dataframe\">\n  <thead>\n    <tr style=\"text-align: right;\">\n      <th></th>\n      <th>인구수</th>\n      <th>남자</th>\n      <th>여자</th>\n    </tr>\n  </thead>\n  <tbody>\n    <tr>\n      <th>2</th>\n      <td>2925967</td>\n      <td>1472081</td>\n      <td>1453886</td>\n    </tr>\n    <tr>\n      <th>3</th>\n      <td>2453041</td>\n      <td>1218326</td>\n      <td>1234715</td>\n    </tr>\n    <tr>\n      <th>4</th>\n      <td>1525849</td>\n      <td>765718</td>\n      <td>760131</td>\n    </tr>\n  </tbody>\n</table>\n</div>"
     },
     "metadata": {},
     "execution_count": 8
    }
   ],
   "source": [
    "data.iloc[2:5, 1:] # 2~5번 째 행이 아닌 2~4번 째 행의 데이터를 가져온다. "
   ]
  },
  {
   "cell_type": "code",
   "execution_count": 9,
   "metadata": {},
   "outputs": [
    {
     "output_type": "execute_result",
     "data": {
      "text/plain": [
       "         인구수        남자        여자\n",
       "6    1193894    601097    592797\n",
       "7    1147037    589233    557804\n",
       "8    1068641    523803    544838\n",
       "9    1061440    526824    534617\n",
       "10  26030340  12880779  13150052"
      ],
      "text/html": "<div>\n<style scoped>\n    .dataframe tbody tr th:only-of-type {\n        vertical-align: middle;\n    }\n\n    .dataframe tbody tr th {\n        vertical-align: top;\n    }\n\n    .dataframe thead th {\n        text-align: right;\n    }\n</style>\n<table border=\"1\" class=\"dataframe\">\n  <thead>\n    <tr style=\"text-align: right;\">\n      <th></th>\n      <th>인구수</th>\n      <th>남자</th>\n      <th>여자</th>\n    </tr>\n  </thead>\n  <tbody>\n    <tr>\n      <th>6</th>\n      <td>1193894</td>\n      <td>601097</td>\n      <td>592797</td>\n    </tr>\n    <tr>\n      <th>7</th>\n      <td>1147037</td>\n      <td>589233</td>\n      <td>557804</td>\n    </tr>\n    <tr>\n      <th>8</th>\n      <td>1068641</td>\n      <td>523803</td>\n      <td>544838</td>\n    </tr>\n    <tr>\n      <th>9</th>\n      <td>1061440</td>\n      <td>526824</td>\n      <td>534617</td>\n    </tr>\n    <tr>\n      <th>10</th>\n      <td>26030340</td>\n      <td>12880779</td>\n      <td>13150052</td>\n    </tr>\n  </tbody>\n</table>\n</div>"
     },
     "metadata": {},
     "execution_count": 9
    }
   ],
   "source": [
    "data.iloc[-5:, -3:] # iloc는 인덱스가 아닌 위치로 접근한다. 그러므로 이는 뒤에서 5번 째 행부터 시작, 뒤에서 3번 째 열에서부터 데이터 표시를 시작한다. "
   ]
  },
  {
   "cell_type": "code",
   "execution_count": 19,
   "metadata": {},
   "outputs": [],
   "source": [
    "# 대구, 대전, 광주의 인구수, 남자 여자 칼럼을 선택해 저장하기\n",
    "save_data = data.loc[3:5, ['인구수', '남자', '여자']]"
   ]
  },
  {
   "cell_type": "code",
   "execution_count": 20,
   "metadata": {},
   "outputs": [],
   "source": [
    "save_data.to_csv('/Users/minguinho/Downloads/데이콘/pandas 입문/Data/data04.csv', index=False)"
   ]
  },
  {
   "cell_type": "code",
   "execution_count": null,
   "metadata": {},
   "outputs": [],
   "source": []
  }
 ]
}