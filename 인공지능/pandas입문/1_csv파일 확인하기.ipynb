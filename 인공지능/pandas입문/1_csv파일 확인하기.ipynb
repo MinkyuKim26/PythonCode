{
 "metadata": {
  "language_info": {
   "codemirror_mode": {
    "name": "ipython",
    "version": 3
   },
   "file_extension": ".py",
   "mimetype": "text/x-python",
   "name": "python",
   "nbconvert_exporter": "python",
   "pygments_lexer": "ipython3",
   "version": "3.8.5-final"
  },
  "orig_nbformat": 2,
  "kernelspec": {
   "name": "python3",
   "display_name": "Python 3",
   "language": "python"
  }
 },
 "nbformat": 4,
 "nbformat_minor": 2,
 "cells": [
  {
   "cell_type": "code",
   "execution_count": 2,
   "metadata": {},
   "outputs": [],
   "source": [
    "import pandas as pd"
   ]
  },
  {
   "cell_type": "code",
   "execution_count": 5,
   "metadata": {},
   "outputs": [],
   "source": [
    "data = pd.read_csv('/Users/minguinho/Downloads/데이콘/pandas 입문/Data/대한민국_주요_도시_인구수.csv') # 파일 불러오기"
   ]
  },
  {
   "cell_type": "code",
   "execution_count": 8,
   "metadata": {},
   "outputs": [
    {
     "output_type": "execute_result",
     "data": {
      "text/plain": [
       "(10, 2)"
      ]
     },
     "metadata": {},
     "execution_count": 8
    }
   ],
   "source": [
    "data.shape # 데이터 크기 나옴. 10행 2열"
   ]
  },
  {
   "cell_type": "code",
   "execution_count": 9,
   "metadata": {},
   "outputs": [
    {
     "output_type": "execute_result",
     "data": {
      "text/plain": [
       "   도시      인구수\n",
       "0  서울  9741381\n",
       "1  부산  3416918\n",
       "2  인천  2925967"
      ],
      "text/html": "<div>\n<style scoped>\n    .dataframe tbody tr th:only-of-type {\n        vertical-align: middle;\n    }\n\n    .dataframe tbody tr th {\n        vertical-align: top;\n    }\n\n    .dataframe thead th {\n        text-align: right;\n    }\n</style>\n<table border=\"1\" class=\"dataframe\">\n  <thead>\n    <tr style=\"text-align: right;\">\n      <th></th>\n      <th>도시</th>\n      <th>인구수</th>\n    </tr>\n  </thead>\n  <tbody>\n    <tr>\n      <th>0</th>\n      <td>서울</td>\n      <td>9741381</td>\n    </tr>\n    <tr>\n      <th>1</th>\n      <td>부산</td>\n      <td>3416918</td>\n    </tr>\n    <tr>\n      <th>2</th>\n      <td>인천</td>\n      <td>2925967</td>\n    </tr>\n  </tbody>\n</table>\n</div>"
     },
     "metadata": {},
     "execution_count": 9
    }
   ],
   "source": [
    "# head(n) : 상위 n개의 열 출력. n의 default는 5다. \n",
    "data.head(3)"
   ]
  },
  {
   "cell_type": "code",
   "execution_count": 11,
   "metadata": {},
   "outputs": [
    {
     "output_type": "execute_result",
     "data": {
      "text/plain": [
       "   도시      인구수\n",
       "7  울산  1147037\n",
       "8  고양  1068641\n",
       "9  용인  1061440"
      ],
      "text/html": "<div>\n<style scoped>\n    .dataframe tbody tr th:only-of-type {\n        vertical-align: middle;\n    }\n\n    .dataframe tbody tr th {\n        vertical-align: top;\n    }\n\n    .dataframe thead th {\n        text-align: right;\n    }\n</style>\n<table border=\"1\" class=\"dataframe\">\n  <thead>\n    <tr style=\"text-align: right;\">\n      <th></th>\n      <th>도시</th>\n      <th>인구수</th>\n    </tr>\n  </thead>\n  <tbody>\n    <tr>\n      <th>7</th>\n      <td>울산</td>\n      <td>1147037</td>\n    </tr>\n    <tr>\n      <th>8</th>\n      <td>고양</td>\n      <td>1068641</td>\n    </tr>\n    <tr>\n      <th>9</th>\n      <td>용인</td>\n      <td>1061440</td>\n    </tr>\n  </tbody>\n</table>\n</div>"
     },
     "metadata": {},
     "execution_count": 11
    }
   ],
   "source": [
    "# tail : 하위 n개의 열 출력. default는 5다.\n",
    "data.tail(3) "
   ]
  },
  {
   "cell_type": "code",
   "execution_count": 13,
   "metadata": {},
   "outputs": [
    {
     "output_type": "stream",
     "name": "stdout",
     "text": [
      "<class 'pandas.core.frame.DataFrame'>\nRangeIndex: 10 entries, 0 to 9\nData columns (total 2 columns):\n #   Column  Non-Null Count  Dtype \n---  ------  --------------  ----- \n 0   도시      10 non-null     object\n 1   인구수     10 non-null     int64 \ndtypes: int64(1), object(1)\nmemory usage: 288.0+ bytes\n"
     ]
    }
   ],
   "source": [
    "# info()요약된 정보 출력. 행렬 개수, 각 행의 이름, 자료형 등의 정보를 알 수 있음.\n",
    "data.info() "
   ]
  },
  {
   "cell_type": "code",
   "execution_count": 14,
   "metadata": {},
   "outputs": [
    {
     "output_type": "execute_result",
     "data": {
      "text/plain": [
       "0    서울\n",
       "1    부산\n",
       "2    인천\n",
       "3    대구\n",
       "4    대전\n",
       "5    광주\n",
       "6    수원\n",
       "7    울산\n",
       "8    고양\n",
       "9    용인\n",
       "Name: 도시, dtype: object"
      ]
     },
     "metadata": {},
     "execution_count": 14
    }
   ],
   "source": [
    "# 특정 열 선택법 : DataFrame['컬럼'], DataFrame.컬럼 <- 두가지 방법.\n",
    "data['도시']"
   ]
  },
  {
   "cell_type": "code",
   "execution_count": 15,
   "metadata": {},
   "outputs": [
    {
     "output_type": "execute_result",
     "data": {
      "text/plain": [
       "0    서울\n",
       "1    부산\n",
       "2    인천\n",
       "3    대구\n",
       "4    대전\n",
       "5    광주\n",
       "6    수원\n",
       "7    울산\n",
       "8    고양\n",
       "9    용인\n",
       "Name: 도시, dtype: object"
      ]
     },
     "metadata": {},
     "execution_count": 15
    }
   ],
   "source": [
    "data.도시"
   ]
  },
  {
   "cell_type": "code",
   "execution_count": null,
   "metadata": {},
   "outputs": [],
   "source": []
  }
 ]
}