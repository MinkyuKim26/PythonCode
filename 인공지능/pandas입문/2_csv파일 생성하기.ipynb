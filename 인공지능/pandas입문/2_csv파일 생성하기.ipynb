{
 "metadata": {
  "language_info": {
   "codemirror_mode": {
    "name": "ipython",
    "version": 3
   },
   "file_extension": ".py",
   "mimetype": "text/x-python",
   "name": "python",
   "nbconvert_exporter": "python",
   "pygments_lexer": "ipython3",
   "version": "3.8.5-final"
  },
  "orig_nbformat": 2,
  "kernelspec": {
   "name": "python3",
   "display_name": "Python 3",
   "language": "python"
  }
 },
 "nbformat": 4,
 "nbformat_minor": 2,
 "cells": [
  {
   "cell_type": "code",
   "execution_count": 1,
   "metadata": {},
   "outputs": [],
   "source": [
    "city = ['서울', '부산', '인천', '대구', '대전', '광주', '수원', '울산', '고양', '용인']\n",
    "population = [9741381, 3416918, 2925967, 2453041, 1525849, 1496172, 1193894, 1147037, 1068641, 1061440]"
   ]
  },
  {
   "cell_type": "code",
   "execution_count": 2,
   "metadata": {},
   "outputs": [],
   "source": [
    "import pandas as pd"
   ]
  },
  {
   "cell_type": "code",
   "execution_count": 3,
   "metadata": {},
   "outputs": [
    {
     "output_type": "execute_result",
     "data": {
      "text/plain": [
       "    도시  인구수\n",
       "0  NaN  NaN\n",
       "1  NaN  NaN\n",
       "2  NaN  NaN\n",
       "3  NaN  NaN\n",
       "4  NaN  NaN\n",
       "5  NaN  NaN\n",
       "6  NaN  NaN\n",
       "7  NaN  NaN\n",
       "8  NaN  NaN\n",
       "9  NaN  NaN"
      ],
      "text/html": "<div>\n<style scoped>\n    .dataframe tbody tr th:only-of-type {\n        vertical-align: middle;\n    }\n\n    .dataframe tbody tr th {\n        vertical-align: top;\n    }\n\n    .dataframe thead th {\n        text-align: right;\n    }\n</style>\n<table border=\"1\" class=\"dataframe\">\n  <thead>\n    <tr style=\"text-align: right;\">\n      <th></th>\n      <th>도시</th>\n      <th>인구수</th>\n    </tr>\n  </thead>\n  <tbody>\n    <tr>\n      <th>0</th>\n      <td>NaN</td>\n      <td>NaN</td>\n    </tr>\n    <tr>\n      <th>1</th>\n      <td>NaN</td>\n      <td>NaN</td>\n    </tr>\n    <tr>\n      <th>2</th>\n      <td>NaN</td>\n      <td>NaN</td>\n    </tr>\n    <tr>\n      <th>3</th>\n      <td>NaN</td>\n      <td>NaN</td>\n    </tr>\n    <tr>\n      <th>4</th>\n      <td>NaN</td>\n      <td>NaN</td>\n    </tr>\n    <tr>\n      <th>5</th>\n      <td>NaN</td>\n      <td>NaN</td>\n    </tr>\n    <tr>\n      <th>6</th>\n      <td>NaN</td>\n      <td>NaN</td>\n    </tr>\n    <tr>\n      <th>7</th>\n      <td>NaN</td>\n      <td>NaN</td>\n    </tr>\n    <tr>\n      <th>8</th>\n      <td>NaN</td>\n      <td>NaN</td>\n    </tr>\n    <tr>\n      <th>9</th>\n      <td>NaN</td>\n      <td>NaN</td>\n    </tr>\n  </tbody>\n</table>\n</div>"
     },
     "metadata": {},
     "execution_count": 3
    }
   ],
   "source": [
    "# 데이터 프레임 생성\n",
    "data = pd.DataFrame(columns=['도시', '인구수'], index=range(10)) # 열이 2개고 행이 10개인(range(10)) 데이터 프레임 생성. 여기에 데이터를 보관한다. \n",
    "data # 비어있는 데이터 프레임을 확인할 수 있다. "
   ]
  },
  {
   "cell_type": "code",
   "execution_count": 4,
   "metadata": {},
   "outputs": [],
   "source": [
    "# 데이터 넣기\n",
    "data['도시'] = city\n",
    "data['인구수'] = population"
   ]
  },
  {
   "cell_type": "code",
   "execution_count": 5,
   "metadata": {},
   "outputs": [
    {
     "output_type": "execute_result",
     "data": {
      "text/plain": [
       "   도시      인구수\n",
       "0  서울  9741381\n",
       "1  부산  3416918\n",
       "2  인천  2925967\n",
       "3  대구  2453041\n",
       "4  대전  1525849\n",
       "5  광주  1496172\n",
       "6  수원  1193894\n",
       "7  울산  1147037\n",
       "8  고양  1068641\n",
       "9  용인  1061440"
      ],
      "text/html": "<div>\n<style scoped>\n    .dataframe tbody tr th:only-of-type {\n        vertical-align: middle;\n    }\n\n    .dataframe tbody tr th {\n        vertical-align: top;\n    }\n\n    .dataframe thead th {\n        text-align: right;\n    }\n</style>\n<table border=\"1\" class=\"dataframe\">\n  <thead>\n    <tr style=\"text-align: right;\">\n      <th></th>\n      <th>도시</th>\n      <th>인구수</th>\n    </tr>\n  </thead>\n  <tbody>\n    <tr>\n      <th>0</th>\n      <td>서울</td>\n      <td>9741381</td>\n    </tr>\n    <tr>\n      <th>1</th>\n      <td>부산</td>\n      <td>3416918</td>\n    </tr>\n    <tr>\n      <th>2</th>\n      <td>인천</td>\n      <td>2925967</td>\n    </tr>\n    <tr>\n      <th>3</th>\n      <td>대구</td>\n      <td>2453041</td>\n    </tr>\n    <tr>\n      <th>4</th>\n      <td>대전</td>\n      <td>1525849</td>\n    </tr>\n    <tr>\n      <th>5</th>\n      <td>광주</td>\n      <td>1496172</td>\n    </tr>\n    <tr>\n      <th>6</th>\n      <td>수원</td>\n      <td>1193894</td>\n    </tr>\n    <tr>\n      <th>7</th>\n      <td>울산</td>\n      <td>1147037</td>\n    </tr>\n    <tr>\n      <th>8</th>\n      <td>고양</td>\n      <td>1068641</td>\n    </tr>\n    <tr>\n      <th>9</th>\n      <td>용인</td>\n      <td>1061440</td>\n    </tr>\n  </tbody>\n</table>\n</div>"
     },
     "metadata": {},
     "execution_count": 5
    }
   ],
   "source": [
    "data # 데이터가 들어간 것을 확인할 수 있다. "
   ]
  },
  {
   "cell_type": "code",
   "execution_count": 6,
   "metadata": {},
   "outputs": [
    {
     "output_type": "execute_result",
     "data": {
      "text/plain": [
       "   도시      인구수\n",
       "0  서울  9741381\n",
       "1  부산  3416918\n",
       "2  인천  2925967\n",
       "3  대구  2453041\n",
       "4  대전  1525849\n",
       "5  광주  1496172\n",
       "6  수원  1193894\n",
       "7  울산  1147037\n",
       "8  고양  1068641\n",
       "9  용인  1061440"
      ],
      "text/html": "<div>\n<style scoped>\n    .dataframe tbody tr th:only-of-type {\n        vertical-align: middle;\n    }\n\n    .dataframe tbody tr th {\n        vertical-align: top;\n    }\n\n    .dataframe thead th {\n        text-align: right;\n    }\n</style>\n<table border=\"1\" class=\"dataframe\">\n  <thead>\n    <tr style=\"text-align: right;\">\n      <th></th>\n      <th>도시</th>\n      <th>인구수</th>\n    </tr>\n  </thead>\n  <tbody>\n    <tr>\n      <th>0</th>\n      <td>서울</td>\n      <td>9741381</td>\n    </tr>\n    <tr>\n      <th>1</th>\n      <td>부산</td>\n      <td>3416918</td>\n    </tr>\n    <tr>\n      <th>2</th>\n      <td>인천</td>\n      <td>2925967</td>\n    </tr>\n    <tr>\n      <th>3</th>\n      <td>대구</td>\n      <td>2453041</td>\n    </tr>\n    <tr>\n      <th>4</th>\n      <td>대전</td>\n      <td>1525849</td>\n    </tr>\n    <tr>\n      <th>5</th>\n      <td>광주</td>\n      <td>1496172</td>\n    </tr>\n    <tr>\n      <th>6</th>\n      <td>수원</td>\n      <td>1193894</td>\n    </tr>\n    <tr>\n      <th>7</th>\n      <td>울산</td>\n      <td>1147037</td>\n    </tr>\n    <tr>\n      <th>8</th>\n      <td>고양</td>\n      <td>1068641</td>\n    </tr>\n    <tr>\n      <th>9</th>\n      <td>용인</td>\n      <td>1061440</td>\n    </tr>\n  </tbody>\n</table>\n</div>"
     },
     "metadata": {},
     "execution_count": 6
    }
   ],
   "source": [
    "# 딕셔너리를 넣어 DataFrame 생성. 딕셔너리를 이용하면 직관적으로 내가 넣을 데이터를 확인할 수 있지 않을까 싶다. \n",
    "data_dict = {'도시':city, '인구수':population} # 이렇게 쉽게 확인할 수 있다. 각 리스트에 key가 붙는다. \n",
    "data = pd.DataFrame(data_dict) # 딕셔너리 -> DataFrame\n",
    "data"
   ]
  },
  {
   "cell_type": "code",
   "execution_count": 8,
   "metadata": {},
   "outputs": [
    {
     "output_type": "execute_result",
     "data": {
      "text/plain": [
       "   Unnamed: 0  도시      인구수\n",
       "0           0  서울  9741381\n",
       "1           1  부산  3416918\n",
       "2           2  인천  2925967\n",
       "3           3  대구  2453041\n",
       "4           4  대전  1525849\n",
       "5           5  광주  1496172\n",
       "6           6  수원  1193894\n",
       "7           7  울산  1147037\n",
       "8           8  고양  1068641\n",
       "9           9  용인  1061440"
      ],
      "text/html": "<div>\n<style scoped>\n    .dataframe tbody tr th:only-of-type {\n        vertical-align: middle;\n    }\n\n    .dataframe tbody tr th {\n        vertical-align: top;\n    }\n\n    .dataframe thead th {\n        text-align: right;\n    }\n</style>\n<table border=\"1\" class=\"dataframe\">\n  <thead>\n    <tr style=\"text-align: right;\">\n      <th></th>\n      <th>Unnamed: 0</th>\n      <th>도시</th>\n      <th>인구수</th>\n    </tr>\n  </thead>\n  <tbody>\n    <tr>\n      <th>0</th>\n      <td>0</td>\n      <td>서울</td>\n      <td>9741381</td>\n    </tr>\n    <tr>\n      <th>1</th>\n      <td>1</td>\n      <td>부산</td>\n      <td>3416918</td>\n    </tr>\n    <tr>\n      <th>2</th>\n      <td>2</td>\n      <td>인천</td>\n      <td>2925967</td>\n    </tr>\n    <tr>\n      <th>3</th>\n      <td>3</td>\n      <td>대구</td>\n      <td>2453041</td>\n    </tr>\n    <tr>\n      <th>4</th>\n      <td>4</td>\n      <td>대전</td>\n      <td>1525849</td>\n    </tr>\n    <tr>\n      <th>5</th>\n      <td>5</td>\n      <td>광주</td>\n      <td>1496172</td>\n    </tr>\n    <tr>\n      <th>6</th>\n      <td>6</td>\n      <td>수원</td>\n      <td>1193894</td>\n    </tr>\n    <tr>\n      <th>7</th>\n      <td>7</td>\n      <td>울산</td>\n      <td>1147037</td>\n    </tr>\n    <tr>\n      <th>8</th>\n      <td>8</td>\n      <td>고양</td>\n      <td>1068641</td>\n    </tr>\n    <tr>\n      <th>9</th>\n      <td>9</td>\n      <td>용인</td>\n      <td>1061440</td>\n    </tr>\n  </tbody>\n</table>\n</div>"
     },
     "metadata": {},
     "execution_count": 8
    }
   ],
   "source": [
    "# csv파일애 저장\n",
    "data.to_csv('/Users/minguinho/Downloads/데이콘/pandas 입문/Data/data02.csv', index=True, header=True) # index, header 모두 기본값으로 생략해도 동일한 결과가 나옴\n",
    "# index = 인덱스를 하나의 컬럼으로 추가할 것인가? header = 컬럼명을 저장할 것인가?\n",
    "pd.read_csv('/Users/minguinho/Downloads/데이콘/pandas 입문/Data/data02.csv') # 인덱스 컬럼으로 unnamed : 0 이라는 컬럼이 추가되었다. "
   ]
  },
  {
   "cell_type": "code",
   "execution_count": 10,
   "metadata": {},
   "outputs": [
    {
     "output_type": "execute_result",
     "data": {
      "text/plain": [
       "   0  서울  9741381\n",
       "0  1  부산  3416918\n",
       "1  2  인천  2925967\n",
       "2  3  대구  2453041\n",
       "3  4  대전  1525849\n",
       "4  5  광주  1496172\n",
       "5  6  수원  1193894\n",
       "6  7  울산  1147037\n",
       "7  8  고양  1068641\n",
       "8  9  용인  1061440"
      ],
      "text/html": "<div>\n<style scoped>\n    .dataframe tbody tr th:only-of-type {\n        vertical-align: middle;\n    }\n\n    .dataframe tbody tr th {\n        vertical-align: top;\n    }\n\n    .dataframe thead th {\n        text-align: right;\n    }\n</style>\n<table border=\"1\" class=\"dataframe\">\n  <thead>\n    <tr style=\"text-align: right;\">\n      <th></th>\n      <th>0</th>\n      <th>서울</th>\n      <th>9741381</th>\n    </tr>\n  </thead>\n  <tbody>\n    <tr>\n      <th>0</th>\n      <td>1</td>\n      <td>부산</td>\n      <td>3416918</td>\n    </tr>\n    <tr>\n      <th>1</th>\n      <td>2</td>\n      <td>인천</td>\n      <td>2925967</td>\n    </tr>\n    <tr>\n      <th>2</th>\n      <td>3</td>\n      <td>대구</td>\n      <td>2453041</td>\n    </tr>\n    <tr>\n      <th>3</th>\n      <td>4</td>\n      <td>대전</td>\n      <td>1525849</td>\n    </tr>\n    <tr>\n      <th>4</th>\n      <td>5</td>\n      <td>광주</td>\n      <td>1496172</td>\n    </tr>\n    <tr>\n      <th>5</th>\n      <td>6</td>\n      <td>수원</td>\n      <td>1193894</td>\n    </tr>\n    <tr>\n      <th>6</th>\n      <td>7</td>\n      <td>울산</td>\n      <td>1147037</td>\n    </tr>\n    <tr>\n      <th>7</th>\n      <td>8</td>\n      <td>고양</td>\n      <td>1068641</td>\n    </tr>\n    <tr>\n      <th>8</th>\n      <td>9</td>\n      <td>용인</td>\n      <td>1061440</td>\n    </tr>\n  </tbody>\n</table>\n</div>"
     },
     "metadata": {},
     "execution_count": 10
    }
   ],
   "source": [
    "data.to_csv('/Users/minguinho/Downloads/데이콘/pandas 입문/Data/data02.csv', index=True, header=False) # header = false로 한다.  \n",
    "pd.read_csv('/Users/minguinho/Downloads/데이콘/pandas 입문/Data/data02.csv') # 컬럼 이름(도시, 인구수)가 없다는 사실을 알 수 있다. \n",
    "# 아 그러면 맨 왼쪽 0~8은 편의를 위해 보여주는 거구나. csv파일 안에 저장되어 있는 값이 아니다. "
   ]
  },
  {
   "cell_type": "code",
   "execution_count": 11,
   "metadata": {},
   "outputs": [
    {
     "output_type": "execute_result",
     "data": {
      "text/plain": [
       "   서울  9741381\n",
       "0  부산  3416918\n",
       "1  인천  2925967\n",
       "2  대구  2453041\n",
       "3  대전  1525849\n",
       "4  광주  1496172\n",
       "5  수원  1193894\n",
       "6  울산  1147037\n",
       "7  고양  1068641\n",
       "8  용인  1061440"
      ],
      "text/html": "<div>\n<style scoped>\n    .dataframe tbody tr th:only-of-type {\n        vertical-align: middle;\n    }\n\n    .dataframe tbody tr th {\n        vertical-align: top;\n    }\n\n    .dataframe thead th {\n        text-align: right;\n    }\n</style>\n<table border=\"1\" class=\"dataframe\">\n  <thead>\n    <tr style=\"text-align: right;\">\n      <th></th>\n      <th>서울</th>\n      <th>9741381</th>\n    </tr>\n  </thead>\n  <tbody>\n    <tr>\n      <th>0</th>\n      <td>부산</td>\n      <td>3416918</td>\n    </tr>\n    <tr>\n      <th>1</th>\n      <td>인천</td>\n      <td>2925967</td>\n    </tr>\n    <tr>\n      <th>2</th>\n      <td>대구</td>\n      <td>2453041</td>\n    </tr>\n    <tr>\n      <th>3</th>\n      <td>대전</td>\n      <td>1525849</td>\n    </tr>\n    <tr>\n      <th>4</th>\n      <td>광주</td>\n      <td>1496172</td>\n    </tr>\n    <tr>\n      <th>5</th>\n      <td>수원</td>\n      <td>1193894</td>\n    </tr>\n    <tr>\n      <th>6</th>\n      <td>울산</td>\n      <td>1147037</td>\n    </tr>\n    <tr>\n      <th>7</th>\n      <td>고양</td>\n      <td>1068641</td>\n    </tr>\n    <tr>\n      <th>8</th>\n      <td>용인</td>\n      <td>1061440</td>\n    </tr>\n  </tbody>\n</table>\n</div>"
     },
     "metadata": {},
     "execution_count": 11
    }
   ],
   "source": [
    "data.to_csv('/Users/minguinho/Downloads/데이콘/pandas 입문/Data/data02.csv', index=False, header=False) # 둘다 False로 한다. \n",
    "pd.read_csv('/Users/minguinho/Downloads/데이콘/pandas 입문/Data/data02.csv') # 컬럼 이름(도시, 인구수)도 없고 인덱스도 없다는 사실을 알 수 있다. 생각해보니 일일이 확인할거 아니면 이렇게 하는게 좋지 않을까. 용량 아껴야지.\n",
    "# 그리고 보니까 표시 유무만 체크하는거지 csv파일 안에 각 컬럼의 이름의 저장 유무를 체크하는게 아니다. 그러니 각 컬럼의 이름은 생성될 때부터 쭈욱 '도시', '인구수'다. "
   ]
  },
  {
   "cell_type": "code",
   "execution_count": 12,
   "metadata": {},
   "outputs": [
    {
     "output_type": "execute_result",
     "data": {
      "text/plain": [
       "   도시      인구수\n",
       "0  서울  9741381\n",
       "1  부산  3416918\n",
       "2  인천  2925967\n",
       "3  대구  2453041\n",
       "4  대전  1525849\n",
       "5  광주  1496172\n",
       "6  수원  1193894\n",
       "7  울산  1147037\n",
       "8  고양  1068641\n",
       "9  용인  1061440"
      ],
      "text/html": "<div>\n<style scoped>\n    .dataframe tbody tr th:only-of-type {\n        vertical-align: middle;\n    }\n\n    .dataframe tbody tr th {\n        vertical-align: top;\n    }\n\n    .dataframe thead th {\n        text-align: right;\n    }\n</style>\n<table border=\"1\" class=\"dataframe\">\n  <thead>\n    <tr style=\"text-align: right;\">\n      <th></th>\n      <th>도시</th>\n      <th>인구수</th>\n    </tr>\n  </thead>\n  <tbody>\n    <tr>\n      <th>0</th>\n      <td>서울</td>\n      <td>9741381</td>\n    </tr>\n    <tr>\n      <th>1</th>\n      <td>부산</td>\n      <td>3416918</td>\n    </tr>\n    <tr>\n      <th>2</th>\n      <td>인천</td>\n      <td>2925967</td>\n    </tr>\n    <tr>\n      <th>3</th>\n      <td>대구</td>\n      <td>2453041</td>\n    </tr>\n    <tr>\n      <th>4</th>\n      <td>대전</td>\n      <td>1525849</td>\n    </tr>\n    <tr>\n      <th>5</th>\n      <td>광주</td>\n      <td>1496172</td>\n    </tr>\n    <tr>\n      <th>6</th>\n      <td>수원</td>\n      <td>1193894</td>\n    </tr>\n    <tr>\n      <th>7</th>\n      <td>울산</td>\n      <td>1147037</td>\n    </tr>\n    <tr>\n      <th>8</th>\n      <td>고양</td>\n      <td>1068641</td>\n    </tr>\n    <tr>\n      <th>9</th>\n      <td>용인</td>\n      <td>1061440</td>\n    </tr>\n  </tbody>\n</table>\n</div>"
     },
     "metadata": {},
     "execution_count": 12
    }
   ],
   "source": [
    "data.to_csv('/Users/minguinho/Downloads/데이콘/pandas 입문/Data/data02.csv', index=False, header=True) # 각 컬럼의 이름을 볼 수 있게 한다. \n",
    "pd.read_csv('/Users/minguinho/Downloads/데이콘/pandas 입문/Data/data02.csv') # 도시, 인구수라는 컬럼 이름이 보인다는 사실을 알 수 있다. "
   ]
  },
  {
   "cell_type": "code",
   "execution_count": null,
   "metadata": {},
   "outputs": [],
   "source": []
  }
 ]
}