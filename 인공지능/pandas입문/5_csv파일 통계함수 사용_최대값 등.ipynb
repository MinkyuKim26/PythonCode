{
 "metadata": {
  "language_info": {
   "codemirror_mode": {
    "name": "ipython",
    "version": 3
   },
   "file_extension": ".py",
   "mimetype": "text/x-python",
   "name": "python",
   "nbconvert_exporter": "python",
   "pygments_lexer": "ipython3",
   "version": "3.8.5-final"
  },
  "orig_nbformat": 2,
  "kernelspec": {
   "name": "python3",
   "display_name": "Python 3",
   "language": "python"
  }
 },
 "nbformat": 4,
 "nbformat_minor": 2,
 "cells": [
  {
   "cell_type": "code",
   "execution_count": 1,
   "metadata": {},
   "outputs": [],
   "source": [
    "import pandas as pd"
   ]
  },
  {
   "cell_type": "code",
   "execution_count": 2,
   "metadata": {},
   "outputs": [
    {
     "output_type": "execute_result",
     "data": {
      "text/plain": [
       "    도시       인구수        남자        여자\n",
       "0   서울   9741381   4757642   4984229\n",
       "1   부산   3416918   1680933   1735985\n",
       "2   인천   2925967   1472081   1453886\n",
       "3   대구   2453041   1218326   1234715\n",
       "4   대전   1525849    765718    760131\n",
       "5   광주   1496172    745122    751050\n",
       "6   수원   1193894    601097    592797\n",
       "7   울산   1147037    589233    557804\n",
       "8   고양   1068641    523803    544838\n",
       "9   용인   1061440    526824    534617\n",
       "10  총합  26030340  12880779  13150052"
      ],
      "text/html": "<div>\n<style scoped>\n    .dataframe tbody tr th:only-of-type {\n        vertical-align: middle;\n    }\n\n    .dataframe tbody tr th {\n        vertical-align: top;\n    }\n\n    .dataframe thead th {\n        text-align: right;\n    }\n</style>\n<table border=\"1\" class=\"dataframe\">\n  <thead>\n    <tr style=\"text-align: right;\">\n      <th></th>\n      <th>도시</th>\n      <th>인구수</th>\n      <th>남자</th>\n      <th>여자</th>\n    </tr>\n  </thead>\n  <tbody>\n    <tr>\n      <th>0</th>\n      <td>서울</td>\n      <td>9741381</td>\n      <td>4757642</td>\n      <td>4984229</td>\n    </tr>\n    <tr>\n      <th>1</th>\n      <td>부산</td>\n      <td>3416918</td>\n      <td>1680933</td>\n      <td>1735985</td>\n    </tr>\n    <tr>\n      <th>2</th>\n      <td>인천</td>\n      <td>2925967</td>\n      <td>1472081</td>\n      <td>1453886</td>\n    </tr>\n    <tr>\n      <th>3</th>\n      <td>대구</td>\n      <td>2453041</td>\n      <td>1218326</td>\n      <td>1234715</td>\n    </tr>\n    <tr>\n      <th>4</th>\n      <td>대전</td>\n      <td>1525849</td>\n      <td>765718</td>\n      <td>760131</td>\n    </tr>\n    <tr>\n      <th>5</th>\n      <td>광주</td>\n      <td>1496172</td>\n      <td>745122</td>\n      <td>751050</td>\n    </tr>\n    <tr>\n      <th>6</th>\n      <td>수원</td>\n      <td>1193894</td>\n      <td>601097</td>\n      <td>592797</td>\n    </tr>\n    <tr>\n      <th>7</th>\n      <td>울산</td>\n      <td>1147037</td>\n      <td>589233</td>\n      <td>557804</td>\n    </tr>\n    <tr>\n      <th>8</th>\n      <td>고양</td>\n      <td>1068641</td>\n      <td>523803</td>\n      <td>544838</td>\n    </tr>\n    <tr>\n      <th>9</th>\n      <td>용인</td>\n      <td>1061440</td>\n      <td>526824</td>\n      <td>534617</td>\n    </tr>\n    <tr>\n      <th>10</th>\n      <td>총합</td>\n      <td>26030340</td>\n      <td>12880779</td>\n      <td>13150052</td>\n    </tr>\n  </tbody>\n</table>\n</div>"
     },
     "metadata": {},
     "execution_count": 2
    }
   ],
   "source": [
    "data = pd.read_csv('/Users/minguinho/Downloads/데이콘/pandas 입문/Data/data03.csv') \n",
    "data # 데이터 불러오기"
   ]
  },
  {
   "cell_type": "code",
   "execution_count": 3,
   "metadata": {},
   "outputs": [
    {
     "output_type": "execute_result",
     "data": {
      "text/plain": [
       "array(['서울', '부산', '인천', '대구', '대전', '광주', '수원', '울산', '고양', '용인', '총합'],\n",
       "      dtype=object)"
      ]
     },
     "metadata": {},
     "execution_count": 3
    }
   ],
   "source": [
    "data['도시'].unique() # 컬럼의 고유값 리스트 반환. 위 경우에는 도시 이름들이 고유값이다. "
   ]
  },
  {
   "cell_type": "code",
   "execution_count": 4,
   "metadata": {},
   "outputs": [
    {
     "output_type": "execute_result",
     "data": {
      "text/plain": [
       "수원    1\n",
       "서울    1\n",
       "광주    1\n",
       "부산    1\n",
       "인천    1\n",
       "대구    1\n",
       "고양    1\n",
       "울산    1\n",
       "대전    1\n",
       "용인    1\n",
       "총합    1\n",
       "Name: 도시, dtype: int64"
      ]
     },
     "metadata": {},
     "execution_count": 4
    }
   ],
   "source": [
    "data['도시'].value_counts() # 각 고유값이 나온 횟수 반환"
   ]
  },
  {
   "source": [
    "### 수치를 이용한 함수가 정말 많다. \n",
    "### sum()은 각 칼럼의 합계 반환, max()는 '각 컬럼'의 최대값 반환, idxmax()는 특정 컬럼의 최대값이 있는 인덱스 반환 \n",
    "### min()은 각 컬럼의 최소값을 반환, idxmin()은 특정 컬럼의 최소값의 인덱스 반환\n",
    "### mean()은 '각 칼럼'의 평균, median()은 각 컬럼의 중앙값 반환, var()는 각 칼럼의 분산 반환, std()는 각 칼럼의 표준편차를 반환한다. 여기서 중요하다고 볼 것은 '각 칼럼'에 대한 값들을 얻을 수 있는 함수들이랑 것. "
   ],
   "cell_type": "markdown",
   "metadata": {}
  },
  {
   "cell_type": "code",
   "execution_count": 11,
   "metadata": {},
   "outputs": [
    {
     "output_type": "execute_result",
     "data": {
      "text/plain": [
       "       인구수       남자       여자\n",
       "0  9741381  4757642  4984229\n",
       "1  3416918  1680933  1735985\n",
       "2  2925967  1472081  1453886\n",
       "3  2453041  1218326  1234715\n",
       "4  1525849   765718   760131\n",
       "5  1496172   745122   751050\n",
       "6  1193894   601097   592797\n",
       "7  1147037   589233   557804\n",
       "8  1068641   523803   544838\n",
       "9  1061440   526824   534617"
      ],
      "text/html": "<div>\n<style scoped>\n    .dataframe tbody tr th:only-of-type {\n        vertical-align: middle;\n    }\n\n    .dataframe tbody tr th {\n        vertical-align: top;\n    }\n\n    .dataframe thead th {\n        text-align: right;\n    }\n</style>\n<table border=\"1\" class=\"dataframe\">\n  <thead>\n    <tr style=\"text-align: right;\">\n      <th></th>\n      <th>인구수</th>\n      <th>남자</th>\n      <th>여자</th>\n    </tr>\n  </thead>\n  <tbody>\n    <tr>\n      <th>0</th>\n      <td>9741381</td>\n      <td>4757642</td>\n      <td>4984229</td>\n    </tr>\n    <tr>\n      <th>1</th>\n      <td>3416918</td>\n      <td>1680933</td>\n      <td>1735985</td>\n    </tr>\n    <tr>\n      <th>2</th>\n      <td>2925967</td>\n      <td>1472081</td>\n      <td>1453886</td>\n    </tr>\n    <tr>\n      <th>3</th>\n      <td>2453041</td>\n      <td>1218326</td>\n      <td>1234715</td>\n    </tr>\n    <tr>\n      <th>4</th>\n      <td>1525849</td>\n      <td>765718</td>\n      <td>760131</td>\n    </tr>\n    <tr>\n      <th>5</th>\n      <td>1496172</td>\n      <td>745122</td>\n      <td>751050</td>\n    </tr>\n    <tr>\n      <th>6</th>\n      <td>1193894</td>\n      <td>601097</td>\n      <td>592797</td>\n    </tr>\n    <tr>\n      <th>7</th>\n      <td>1147037</td>\n      <td>589233</td>\n      <td>557804</td>\n    </tr>\n    <tr>\n      <th>8</th>\n      <td>1068641</td>\n      <td>523803</td>\n      <td>544838</td>\n    </tr>\n    <tr>\n      <th>9</th>\n      <td>1061440</td>\n      <td>526824</td>\n      <td>534617</td>\n    </tr>\n  </tbody>\n</table>\n</div>"
     },
     "metadata": {},
     "execution_count": 11
    }
   ],
   "source": [
    "df = data.iloc[:10, 1:] # 일부 데이터만 저장\n",
    "df"
   ]
  },
  {
   "cell_type": "code",
   "execution_count": 12,
   "metadata": {},
   "outputs": [
    {
     "output_type": "execute_result",
     "data": {
      "text/plain": [
       "인구수    26030340\n",
       "남자     12880779\n",
       "여자     13150052\n",
       "dtype: int64"
      ]
     },
     "metadata": {},
     "execution_count": 12
    }
   ],
   "source": [
    "df.sum() # 힙친거 반환"
   ]
  },
  {
   "cell_type": "code",
   "execution_count": 13,
   "metadata": {},
   "outputs": [
    {
     "output_type": "execute_result",
     "data": {
      "text/plain": [
       "인구수    9741381\n",
       "남자     4757642\n",
       "여자     4984229\n",
       "dtype: int64"
      ]
     },
     "metadata": {},
     "execution_count": 13
    }
   ],
   "source": [
    "df.max()최대값 반환"
   ]
  },
  {
   "cell_type": "code",
   "execution_count": 14,
   "metadata": {},
   "outputs": [
    {
     "output_type": "execute_result",
     "data": {
      "text/plain": [
       "0"
      ]
     },
     "metadata": {},
     "execution_count": 14
    }
   ],
   "source": [
    "df['인구수'].idxmax() # '인구수' 기준으로 가장 큰 값을 가진 열의 인덱스"
   ]
  },
  {
   "cell_type": "code",
   "execution_count": 15,
   "metadata": {},
   "outputs": [
    {
     "output_type": "execute_result",
     "data": {
      "text/plain": [
       "'서울'"
      ]
     },
     "metadata": {},
     "execution_count": 15
    }
   ],
   "source": [
    "data.loc[df['인구수'].idxmax()]['도시'] # '인구수'기준 가장 큰 값을 가진 데이터의 열에 대한 '도시'값 출력"
   ]
  },
  {
   "cell_type": "code",
   "execution_count": 16,
   "metadata": {},
   "outputs": [
    {
     "output_type": "execute_result",
     "data": {
      "text/plain": [
       "인구수    1061440\n",
       "남자      523803\n",
       "여자      534617\n",
       "dtype: int64"
      ]
     },
     "metadata": {},
     "execution_count": 16
    }
   ],
   "source": [
    "df.min() # 최소값"
   ]
  },
  {
   "cell_type": "code",
   "execution_count": 17,
   "metadata": {},
   "outputs": [
    {
     "output_type": "execute_result",
     "data": {
      "text/plain": [
       "9"
      ]
     },
     "metadata": {},
     "execution_count": 17
    }
   ],
   "source": [
    "df['인구수'].idxmin() # '인구수' 컬럼 기준 가장 적은 값을 가진 데이터의 위치 반환"
   ]
  },
  {
   "cell_type": "code",
   "execution_count": 18,
   "metadata": {},
   "outputs": [
    {
     "output_type": "execute_result",
     "data": {
      "text/plain": [
       "'용인'"
      ]
     },
     "metadata": {},
     "execution_count": 18
    }
   ],
   "source": [
    "data.loc[df['인구수'].idxmin()]['도시'] # '인구수' 컬럼 기준 가장 적은 값을 가진 데이터의 열에 대해 '도시'값 반환 == 가장 사람이 적게 사는 지역 이름 출력"
   ]
  },
  {
   "cell_type": "code",
   "execution_count": 19,
   "metadata": {},
   "outputs": [
    {
     "output_type": "execute_result",
     "data": {
      "text/plain": [
       "인구수    2603034.0\n",
       "남자     1288077.9\n",
       "여자     1315005.2\n",
       "dtype: float64"
      ]
     },
     "metadata": {},
     "execution_count": 19
    }
   ],
   "source": [
    "df.mean() # 각 칼럼의 평균값 반환. "
   ]
  },
  {
   "cell_type": "code",
   "execution_count": 20,
   "metadata": {},
   "outputs": [
    {
     "output_type": "execute_result",
     "data": {
      "text/plain": [
       "인구수    1511010.5\n",
       "남자      755420.0\n",
       "여자      755590.5\n",
       "dtype: float64"
      ]
     },
     "metadata": {},
     "execution_count": 20
    }
   ],
   "source": [
    "df.median() # 각 칼럼의 중앙값 반환. 평균 =/ 중앙값"
   ]
  },
  {
   "cell_type": "code",
   "execution_count": 21,
   "metadata": {},
   "outputs": [
    {
     "output_type": "execute_result",
     "data": {
      "text/plain": [
       "인구수    6.996348e+12\n",
       "남자     1.658060e+12\n",
       "여자     1.843244e+12\n",
       "dtype: float64"
      ]
     },
     "metadata": {},
     "execution_count": 21
    }
   ],
   "source": [
    "df.var() # 각 칼럼의 분산 반환"
   ]
  },
  {
   "cell_type": "code",
   "execution_count": 22,
   "metadata": {},
   "outputs": [
    {
     "output_type": "execute_result",
     "data": {
      "text/plain": [
       "인구수    2.645061e+06\n",
       "남자     1.287657e+06\n",
       "여자     1.357661e+06\n",
       "dtype: float64"
      ]
     },
     "metadata": {},
     "execution_count": 22
    }
   ],
   "source": [
    "df.std() # 각 칼럼의 표준편차 반환"
   ]
  },
  {
   "cell_type": "code",
   "execution_count": 44,
   "metadata": {},
   "outputs": [
    {
     "output_type": "execute_result",
     "data": {
      "text/plain": [
       "    문제  인구수   남자   여자\n",
       "0  NaN  NaN  NaN  NaN\n",
       "1  NaN  NaN  NaN  NaN\n",
       "2  NaN  NaN  NaN  NaN\n",
       "3  NaN  NaN  NaN  NaN\n",
       "4  NaN  NaN  NaN  NaN\n",
       "5  NaN  NaN  NaN  NaN\n",
       "6  NaN  NaN  NaN  NaN"
      ],
      "text/html": "<div>\n<style scoped>\n    .dataframe tbody tr th:only-of-type {\n        vertical-align: middle;\n    }\n\n    .dataframe tbody tr th {\n        vertical-align: top;\n    }\n\n    .dataframe thead th {\n        text-align: right;\n    }\n</style>\n<table border=\"1\" class=\"dataframe\">\n  <thead>\n    <tr style=\"text-align: right;\">\n      <th></th>\n      <th>문제</th>\n      <th>인구수</th>\n      <th>남자</th>\n      <th>여자</th>\n    </tr>\n  </thead>\n  <tbody>\n    <tr>\n      <th>0</th>\n      <td>NaN</td>\n      <td>NaN</td>\n      <td>NaN</td>\n      <td>NaN</td>\n    </tr>\n    <tr>\n      <th>1</th>\n      <td>NaN</td>\n      <td>NaN</td>\n      <td>NaN</td>\n      <td>NaN</td>\n    </tr>\n    <tr>\n      <th>2</th>\n      <td>NaN</td>\n      <td>NaN</td>\n      <td>NaN</td>\n      <td>NaN</td>\n    </tr>\n    <tr>\n      <th>3</th>\n      <td>NaN</td>\n      <td>NaN</td>\n      <td>NaN</td>\n      <td>NaN</td>\n    </tr>\n    <tr>\n      <th>4</th>\n      <td>NaN</td>\n      <td>NaN</td>\n      <td>NaN</td>\n      <td>NaN</td>\n    </tr>\n    <tr>\n      <th>5</th>\n      <td>NaN</td>\n      <td>NaN</td>\n      <td>NaN</td>\n      <td>NaN</td>\n    </tr>\n    <tr>\n      <th>6</th>\n      <td>NaN</td>\n      <td>NaN</td>\n      <td>NaN</td>\n      <td>NaN</td>\n    </tr>\n  </tbody>\n</table>\n</div>"
     },
     "metadata": {},
     "execution_count": 44
    }
   ],
   "source": [
    "save_data = pd.DataFrame(columns=['문제', '인구수', '남자', '여자'], index=range(7)) # 생성하고\n",
    "save_data"
   ]
  },
  {
   "cell_type": "code",
   "execution_count": 45,
   "metadata": {},
   "outputs": [],
   "source": [
    "# 칼럼 단위로 데이터를 더하자 \n",
    "save_data['문제'] = [\"총합\", \"최대값\", \"최소값\", \"평균값\", \"중앙값\", \"분산\", \"표준편차\"]"
   ]
  },
  {
   "cell_type": "code",
   "execution_count": 48,
   "metadata": {},
   "outputs": [],
   "source": [
    "save_data['인구수'] = [df.sum()['인구수'], df.max()['인구수'], df.min()['인구수'],df.mean()['인구수'],df.median()['인구수'],df.var()['인구수'],df.std()['인구수']]"
   ]
  },
  {
   "cell_type": "code",
   "execution_count": 53,
   "metadata": {},
   "outputs": [
    {
     "output_type": "execute_result",
     "data": {
      "text/plain": [
       "     문제           인구수            남자            여자\n",
       "0    총합  2.603034e+07  1.288078e+07  1.315005e+07\n",
       "1   최대값  9.741381e+06  4.757642e+06  4.984229e+06\n",
       "2   최소값  1.061440e+06  5.238030e+05  5.346170e+05\n",
       "3   평균값  2.603034e+06  1.288078e+06  1.315005e+06\n",
       "4   중앙값  1.511010e+06  7.554200e+05  7.555905e+05\n",
       "5    분산  6.996348e+12  1.658060e+12  1.843244e+12\n",
       "6  표준편차  2.645061e+06  1.287657e+06  1.357661e+06"
      ],
      "text/html": "<div>\n<style scoped>\n    .dataframe tbody tr th:only-of-type {\n        vertical-align: middle;\n    }\n\n    .dataframe tbody tr th {\n        vertical-align: top;\n    }\n\n    .dataframe thead th {\n        text-align: right;\n    }\n</style>\n<table border=\"1\" class=\"dataframe\">\n  <thead>\n    <tr style=\"text-align: right;\">\n      <th></th>\n      <th>문제</th>\n      <th>인구수</th>\n      <th>남자</th>\n      <th>여자</th>\n    </tr>\n  </thead>\n  <tbody>\n    <tr>\n      <th>0</th>\n      <td>총합</td>\n      <td>2.603034e+07</td>\n      <td>1.288078e+07</td>\n      <td>1.315005e+07</td>\n    </tr>\n    <tr>\n      <th>1</th>\n      <td>최대값</td>\n      <td>9.741381e+06</td>\n      <td>4.757642e+06</td>\n      <td>4.984229e+06</td>\n    </tr>\n    <tr>\n      <th>2</th>\n      <td>최소값</td>\n      <td>1.061440e+06</td>\n      <td>5.238030e+05</td>\n      <td>5.346170e+05</td>\n    </tr>\n    <tr>\n      <th>3</th>\n      <td>평균값</td>\n      <td>2.603034e+06</td>\n      <td>1.288078e+06</td>\n      <td>1.315005e+06</td>\n    </tr>\n    <tr>\n      <th>4</th>\n      <td>중앙값</td>\n      <td>1.511010e+06</td>\n      <td>7.554200e+05</td>\n      <td>7.555905e+05</td>\n    </tr>\n    <tr>\n      <th>5</th>\n      <td>분산</td>\n      <td>6.996348e+12</td>\n      <td>1.658060e+12</td>\n      <td>1.843244e+12</td>\n    </tr>\n    <tr>\n      <th>6</th>\n      <td>표준편차</td>\n      <td>2.645061e+06</td>\n      <td>1.287657e+06</td>\n      <td>1.357661e+06</td>\n    </tr>\n  </tbody>\n</table>\n</div>"
     },
     "metadata": {},
     "execution_count": 53
    }
   ],
   "source": [
    "save_data['남자'] = [df.sum()['남자'], df.max()['남자'], df.min()['남자'],df.mean()['남자'],df.median()['남자'],df.var()['남자'],df.std()['남자']] # 칼럼 단위로 더하니까 수월하게 진행할 수 있다. 왠만하면 칼럼 단위로 더하도록 하자. \n",
    "save_data['여자'] = [df.sum()['여자'], df.max()['여자'], df.min()['여자'],df.mean()['여자'],df.median()['여자'],df.var()['여자'],df.std()['여자']] # 여러 칼럼 단위로 한꺼번에 더할 수 있는 방법을 찾으면 어...그거 써야지. \n",
    "\n",
    "save_data"
   ]
  },
  {
   "cell_type": "code",
   "execution_count": 56,
   "metadata": {},
   "outputs": [],
   "source": [
    "save_data.to_csv('/Users/minguinho/Downloads/데이콘/pandas 입문/Data/data05_submission.csv', index=False)"
   ]
  },
  {
   "cell_type": "code",
   "execution_count": 57,
   "metadata": {},
   "outputs": [
    {
     "output_type": "execute_result",
     "data": {
      "text/plain": [
       "     문제           인구수            남자            여자\n",
       "0    총합  2.603034e+07  1.288078e+07  1.315005e+07\n",
       "1   최대값  9.741381e+06  4.757642e+06  4.984229e+06\n",
       "2   최소값  1.061440e+06  5.238030e+05  5.346170e+05\n",
       "3   평균값  2.603034e+06  1.288078e+06  1.315005e+06\n",
       "4   중앙값  1.511010e+06  7.554200e+05  7.555905e+05\n",
       "5    분산  6.996348e+12  1.658060e+12  1.843244e+12\n",
       "6  표준편차  2.645061e+06  1.287657e+06  1.357661e+06"
      ],
      "text/html": "<div>\n<style scoped>\n    .dataframe tbody tr th:only-of-type {\n        vertical-align: middle;\n    }\n\n    .dataframe tbody tr th {\n        vertical-align: top;\n    }\n\n    .dataframe thead th {\n        text-align: right;\n    }\n</style>\n<table border=\"1\" class=\"dataframe\">\n  <thead>\n    <tr style=\"text-align: right;\">\n      <th></th>\n      <th>문제</th>\n      <th>인구수</th>\n      <th>남자</th>\n      <th>여자</th>\n    </tr>\n  </thead>\n  <tbody>\n    <tr>\n      <th>0</th>\n      <td>총합</td>\n      <td>2.603034e+07</td>\n      <td>1.288078e+07</td>\n      <td>1.315005e+07</td>\n    </tr>\n    <tr>\n      <th>1</th>\n      <td>최대값</td>\n      <td>9.741381e+06</td>\n      <td>4.757642e+06</td>\n      <td>4.984229e+06</td>\n    </tr>\n    <tr>\n      <th>2</th>\n      <td>최소값</td>\n      <td>1.061440e+06</td>\n      <td>5.238030e+05</td>\n      <td>5.346170e+05</td>\n    </tr>\n    <tr>\n      <th>3</th>\n      <td>평균값</td>\n      <td>2.603034e+06</td>\n      <td>1.288078e+06</td>\n      <td>1.315005e+06</td>\n    </tr>\n    <tr>\n      <th>4</th>\n      <td>중앙값</td>\n      <td>1.511010e+06</td>\n      <td>7.554200e+05</td>\n      <td>7.555905e+05</td>\n    </tr>\n    <tr>\n      <th>5</th>\n      <td>분산</td>\n      <td>6.996348e+12</td>\n      <td>1.658060e+12</td>\n      <td>1.843244e+12</td>\n    </tr>\n    <tr>\n      <th>6</th>\n      <td>표준편차</td>\n      <td>2.645061e+06</td>\n      <td>1.287657e+06</td>\n      <td>1.357661e+06</td>\n    </tr>\n  </tbody>\n</table>\n</div>"
     },
     "metadata": {},
     "execution_count": 57
    }
   ],
   "source": [
    "pd.read_csv('/Users/minguinho/Downloads/데이콘/pandas 입문/Data/data05_submission.csv')"
   ]
  },
  {
   "cell_type": "code",
   "execution_count": null,
   "metadata": {},
   "outputs": [],
   "source": []
  }
 ]
}