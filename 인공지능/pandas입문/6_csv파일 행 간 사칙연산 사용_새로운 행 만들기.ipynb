{
 "metadata": {
  "language_info": {
   "codemirror_mode": {
    "name": "ipython",
    "version": 3
   },
   "file_extension": ".py",
   "mimetype": "text/x-python",
   "name": "python",
   "nbconvert_exporter": "python",
   "pygments_lexer": "ipython3",
   "version": "3.8.5-final"
  },
  "orig_nbformat": 2,
  "kernelspec": {
   "name": "python3",
   "display_name": "Python 3",
   "language": "python"
  }
 },
 "nbformat": 4,
 "nbformat_minor": 2,
 "cells": [
  {
   "cell_type": "code",
   "execution_count": 1,
   "metadata": {},
   "outputs": [],
   "source": [
    "import pandas as pd"
   ]
  },
  {
   "cell_type": "code",
   "execution_count": 2,
   "metadata": {},
   "outputs": [
    {
     "output_type": "execute_result",
     "data": {
      "text/plain": [
       "    도시       인구수        남자        여자\n",
       "0   서울   9741381   4757642   4984229\n",
       "1   부산   3416918   1680933   1735985\n",
       "2   인천   2925967   1472081   1453886\n",
       "3   대구   2453041   1218326   1234715\n",
       "4   대전   1525849    765718    760131\n",
       "5   광주   1496172    745122    751050\n",
       "6   수원   1193894    601097    592797\n",
       "7   울산   1147037    589233    557804\n",
       "8   고양   1068641    523803    544838\n",
       "9   용인   1061440    526824    534617\n",
       "10  총합  26030340  12880779  13150052"
      ],
      "text/html": "<div>\n<style scoped>\n    .dataframe tbody tr th:only-of-type {\n        vertical-align: middle;\n    }\n\n    .dataframe tbody tr th {\n        vertical-align: top;\n    }\n\n    .dataframe thead th {\n        text-align: right;\n    }\n</style>\n<table border=\"1\" class=\"dataframe\">\n  <thead>\n    <tr style=\"text-align: right;\">\n      <th></th>\n      <th>도시</th>\n      <th>인구수</th>\n      <th>남자</th>\n      <th>여자</th>\n    </tr>\n  </thead>\n  <tbody>\n    <tr>\n      <th>0</th>\n      <td>서울</td>\n      <td>9741381</td>\n      <td>4757642</td>\n      <td>4984229</td>\n    </tr>\n    <tr>\n      <th>1</th>\n      <td>부산</td>\n      <td>3416918</td>\n      <td>1680933</td>\n      <td>1735985</td>\n    </tr>\n    <tr>\n      <th>2</th>\n      <td>인천</td>\n      <td>2925967</td>\n      <td>1472081</td>\n      <td>1453886</td>\n    </tr>\n    <tr>\n      <th>3</th>\n      <td>대구</td>\n      <td>2453041</td>\n      <td>1218326</td>\n      <td>1234715</td>\n    </tr>\n    <tr>\n      <th>4</th>\n      <td>대전</td>\n      <td>1525849</td>\n      <td>765718</td>\n      <td>760131</td>\n    </tr>\n    <tr>\n      <th>5</th>\n      <td>광주</td>\n      <td>1496172</td>\n      <td>745122</td>\n      <td>751050</td>\n    </tr>\n    <tr>\n      <th>6</th>\n      <td>수원</td>\n      <td>1193894</td>\n      <td>601097</td>\n      <td>592797</td>\n    </tr>\n    <tr>\n      <th>7</th>\n      <td>울산</td>\n      <td>1147037</td>\n      <td>589233</td>\n      <td>557804</td>\n    </tr>\n    <tr>\n      <th>8</th>\n      <td>고양</td>\n      <td>1068641</td>\n      <td>523803</td>\n      <td>544838</td>\n    </tr>\n    <tr>\n      <th>9</th>\n      <td>용인</td>\n      <td>1061440</td>\n      <td>526824</td>\n      <td>534617</td>\n    </tr>\n    <tr>\n      <th>10</th>\n      <td>총합</td>\n      <td>26030340</td>\n      <td>12880779</td>\n      <td>13150052</td>\n    </tr>\n  </tbody>\n</table>\n</div>"
     },
     "metadata": {},
     "execution_count": 2
    }
   ],
   "source": [
    "data = pd.read_csv('/Users/minguinho/Downloads/데이콘/pandas 입문/Data/data03.csv') \n",
    "data # 데이터 불러오기"
   ]
  },
  {
   "cell_type": "code",
   "execution_count": 3,
   "metadata": {},
   "outputs": [],
   "source": [
    "# 칼럼 산술 연산 : 기존에 가지고 있는 칼럼들을 이용해 새로운 칼럼을 만들 수 있다. \n",
    "# pandas는 칼럼과 칼럼사이 연산자를 사용하여 연산이 가능하다. \n",
    "\n",
    "# 연산을 통한 새로운 칼럼 추가\n",
    "data['남자 + 여자'] = data['남자'] + data['여자'] # 더하기"
   ]
  },
  {
   "cell_type": "code",
   "execution_count": 4,
   "metadata": {},
   "outputs": [
    {
     "output_type": "execute_result",
     "data": {
      "text/plain": [
       "    도시       인구수        남자        여자   남자 + 여자\n",
       "0   서울   9741381   4757642   4984229   9741871\n",
       "1   부산   3416918   1680933   1735985   3416918\n",
       "2   인천   2925967   1472081   1453886   2925967\n",
       "3   대구   2453041   1218326   1234715   2453041\n",
       "4   대전   1525849    765718    760131   1525849\n",
       "5   광주   1496172    745122    751050   1496172\n",
       "6   수원   1193894    601097    592797   1193894\n",
       "7   울산   1147037    589233    557804   1147037\n",
       "8   고양   1068641    523803    544838   1068641\n",
       "9   용인   1061440    526824    534617   1061441\n",
       "10  총합  26030340  12880779  13150052  26030831"
      ],
      "text/html": "<div>\n<style scoped>\n    .dataframe tbody tr th:only-of-type {\n        vertical-align: middle;\n    }\n\n    .dataframe tbody tr th {\n        vertical-align: top;\n    }\n\n    .dataframe thead th {\n        text-align: right;\n    }\n</style>\n<table border=\"1\" class=\"dataframe\">\n  <thead>\n    <tr style=\"text-align: right;\">\n      <th></th>\n      <th>도시</th>\n      <th>인구수</th>\n      <th>남자</th>\n      <th>여자</th>\n      <th>남자 + 여자</th>\n    </tr>\n  </thead>\n  <tbody>\n    <tr>\n      <th>0</th>\n      <td>서울</td>\n      <td>9741381</td>\n      <td>4757642</td>\n      <td>4984229</td>\n      <td>9741871</td>\n    </tr>\n    <tr>\n      <th>1</th>\n      <td>부산</td>\n      <td>3416918</td>\n      <td>1680933</td>\n      <td>1735985</td>\n      <td>3416918</td>\n    </tr>\n    <tr>\n      <th>2</th>\n      <td>인천</td>\n      <td>2925967</td>\n      <td>1472081</td>\n      <td>1453886</td>\n      <td>2925967</td>\n    </tr>\n    <tr>\n      <th>3</th>\n      <td>대구</td>\n      <td>2453041</td>\n      <td>1218326</td>\n      <td>1234715</td>\n      <td>2453041</td>\n    </tr>\n    <tr>\n      <th>4</th>\n      <td>대전</td>\n      <td>1525849</td>\n      <td>765718</td>\n      <td>760131</td>\n      <td>1525849</td>\n    </tr>\n    <tr>\n      <th>5</th>\n      <td>광주</td>\n      <td>1496172</td>\n      <td>745122</td>\n      <td>751050</td>\n      <td>1496172</td>\n    </tr>\n    <tr>\n      <th>6</th>\n      <td>수원</td>\n      <td>1193894</td>\n      <td>601097</td>\n      <td>592797</td>\n      <td>1193894</td>\n    </tr>\n    <tr>\n      <th>7</th>\n      <td>울산</td>\n      <td>1147037</td>\n      <td>589233</td>\n      <td>557804</td>\n      <td>1147037</td>\n    </tr>\n    <tr>\n      <th>8</th>\n      <td>고양</td>\n      <td>1068641</td>\n      <td>523803</td>\n      <td>544838</td>\n      <td>1068641</td>\n    </tr>\n    <tr>\n      <th>9</th>\n      <td>용인</td>\n      <td>1061440</td>\n      <td>526824</td>\n      <td>534617</td>\n      <td>1061441</td>\n    </tr>\n    <tr>\n      <th>10</th>\n      <td>총합</td>\n      <td>26030340</td>\n      <td>12880779</td>\n      <td>13150052</td>\n      <td>26030831</td>\n    </tr>\n  </tbody>\n</table>\n</div>"
     },
     "metadata": {},
     "execution_count": 4
    }
   ],
   "source": [
    "data # 남자 + 여자 항이 추가되었다. "
   ]
  },
  {
   "cell_type": "code",
   "execution_count": 5,
   "metadata": {},
   "outputs": [],
   "source": [
    "data['남자 - 여자'] = data['남자'] - data['여자'] # '남자 - 여자'항 추가(빼기)"
   ]
  },
  {
   "cell_type": "code",
   "execution_count": 6,
   "metadata": {},
   "outputs": [
    {
     "output_type": "execute_result",
     "data": {
      "text/plain": [
       "    도시       인구수        남자        여자   남자 + 여자  남자 - 여자\n",
       "0   서울   9741381   4757642   4984229   9741871  -226587\n",
       "1   부산   3416918   1680933   1735985   3416918   -55052\n",
       "2   인천   2925967   1472081   1453886   2925967    18195\n",
       "3   대구   2453041   1218326   1234715   2453041   -16389\n",
       "4   대전   1525849    765718    760131   1525849     5587\n",
       "5   광주   1496172    745122    751050   1496172    -5928\n",
       "6   수원   1193894    601097    592797   1193894     8300\n",
       "7   울산   1147037    589233    557804   1147037    31429\n",
       "8   고양   1068641    523803    544838   1068641   -21035\n",
       "9   용인   1061440    526824    534617   1061441    -7793\n",
       "10  총합  26030340  12880779  13150052  26030831  -269273"
      ],
      "text/html": "<div>\n<style scoped>\n    .dataframe tbody tr th:only-of-type {\n        vertical-align: middle;\n    }\n\n    .dataframe tbody tr th {\n        vertical-align: top;\n    }\n\n    .dataframe thead th {\n        text-align: right;\n    }\n</style>\n<table border=\"1\" class=\"dataframe\">\n  <thead>\n    <tr style=\"text-align: right;\">\n      <th></th>\n      <th>도시</th>\n      <th>인구수</th>\n      <th>남자</th>\n      <th>여자</th>\n      <th>남자 + 여자</th>\n      <th>남자 - 여자</th>\n    </tr>\n  </thead>\n  <tbody>\n    <tr>\n      <th>0</th>\n      <td>서울</td>\n      <td>9741381</td>\n      <td>4757642</td>\n      <td>4984229</td>\n      <td>9741871</td>\n      <td>-226587</td>\n    </tr>\n    <tr>\n      <th>1</th>\n      <td>부산</td>\n      <td>3416918</td>\n      <td>1680933</td>\n      <td>1735985</td>\n      <td>3416918</td>\n      <td>-55052</td>\n    </tr>\n    <tr>\n      <th>2</th>\n      <td>인천</td>\n      <td>2925967</td>\n      <td>1472081</td>\n      <td>1453886</td>\n      <td>2925967</td>\n      <td>18195</td>\n    </tr>\n    <tr>\n      <th>3</th>\n      <td>대구</td>\n      <td>2453041</td>\n      <td>1218326</td>\n      <td>1234715</td>\n      <td>2453041</td>\n      <td>-16389</td>\n    </tr>\n    <tr>\n      <th>4</th>\n      <td>대전</td>\n      <td>1525849</td>\n      <td>765718</td>\n      <td>760131</td>\n      <td>1525849</td>\n      <td>5587</td>\n    </tr>\n    <tr>\n      <th>5</th>\n      <td>광주</td>\n      <td>1496172</td>\n      <td>745122</td>\n      <td>751050</td>\n      <td>1496172</td>\n      <td>-5928</td>\n    </tr>\n    <tr>\n      <th>6</th>\n      <td>수원</td>\n      <td>1193894</td>\n      <td>601097</td>\n      <td>592797</td>\n      <td>1193894</td>\n      <td>8300</td>\n    </tr>\n    <tr>\n      <th>7</th>\n      <td>울산</td>\n      <td>1147037</td>\n      <td>589233</td>\n      <td>557804</td>\n      <td>1147037</td>\n      <td>31429</td>\n    </tr>\n    <tr>\n      <th>8</th>\n      <td>고양</td>\n      <td>1068641</td>\n      <td>523803</td>\n      <td>544838</td>\n      <td>1068641</td>\n      <td>-21035</td>\n    </tr>\n    <tr>\n      <th>9</th>\n      <td>용인</td>\n      <td>1061440</td>\n      <td>526824</td>\n      <td>534617</td>\n      <td>1061441</td>\n      <td>-7793</td>\n    </tr>\n    <tr>\n      <th>10</th>\n      <td>총합</td>\n      <td>26030340</td>\n      <td>12880779</td>\n      <td>13150052</td>\n      <td>26030831</td>\n      <td>-269273</td>\n    </tr>\n  </tbody>\n</table>\n</div>"
     },
     "metadata": {},
     "execution_count": 6
    }
   ],
   "source": [
    "data"
   ]
  },
  {
   "cell_type": "code",
   "execution_count": 8,
   "metadata": {},
   "outputs": [
    {
     "output_type": "execute_result",
     "data": {
      "text/plain": [
       "    도시       인구수        남자        여자   남자 + 여자  남자 - 여자  남자 - 여자_절대값\n",
       "0   서울   9741381   4757642   4984229   9741871  -226587       226587\n",
       "1   부산   3416918   1680933   1735985   3416918   -55052        55052\n",
       "2   인천   2925967   1472081   1453886   2925967    18195        18195\n",
       "3   대구   2453041   1218326   1234715   2453041   -16389        16389\n",
       "4   대전   1525849    765718    760131   1525849     5587         5587\n",
       "5   광주   1496172    745122    751050   1496172    -5928         5928\n",
       "6   수원   1193894    601097    592797   1193894     8300         8300\n",
       "7   울산   1147037    589233    557804   1147037    31429        31429\n",
       "8   고양   1068641    523803    544838   1068641   -21035        21035\n",
       "9   용인   1061440    526824    534617   1061441    -7793         7793\n",
       "10  총합  26030340  12880779  13150052  26030831  -269273       269273"
      ],
      "text/html": "<div>\n<style scoped>\n    .dataframe tbody tr th:only-of-type {\n        vertical-align: middle;\n    }\n\n    .dataframe tbody tr th {\n        vertical-align: top;\n    }\n\n    .dataframe thead th {\n        text-align: right;\n    }\n</style>\n<table border=\"1\" class=\"dataframe\">\n  <thead>\n    <tr style=\"text-align: right;\">\n      <th></th>\n      <th>도시</th>\n      <th>인구수</th>\n      <th>남자</th>\n      <th>여자</th>\n      <th>남자 + 여자</th>\n      <th>남자 - 여자</th>\n      <th>남자 - 여자_절대값</th>\n    </tr>\n  </thead>\n  <tbody>\n    <tr>\n      <th>0</th>\n      <td>서울</td>\n      <td>9741381</td>\n      <td>4757642</td>\n      <td>4984229</td>\n      <td>9741871</td>\n      <td>-226587</td>\n      <td>226587</td>\n    </tr>\n    <tr>\n      <th>1</th>\n      <td>부산</td>\n      <td>3416918</td>\n      <td>1680933</td>\n      <td>1735985</td>\n      <td>3416918</td>\n      <td>-55052</td>\n      <td>55052</td>\n    </tr>\n    <tr>\n      <th>2</th>\n      <td>인천</td>\n      <td>2925967</td>\n      <td>1472081</td>\n      <td>1453886</td>\n      <td>2925967</td>\n      <td>18195</td>\n      <td>18195</td>\n    </tr>\n    <tr>\n      <th>3</th>\n      <td>대구</td>\n      <td>2453041</td>\n      <td>1218326</td>\n      <td>1234715</td>\n      <td>2453041</td>\n      <td>-16389</td>\n      <td>16389</td>\n    </tr>\n    <tr>\n      <th>4</th>\n      <td>대전</td>\n      <td>1525849</td>\n      <td>765718</td>\n      <td>760131</td>\n      <td>1525849</td>\n      <td>5587</td>\n      <td>5587</td>\n    </tr>\n    <tr>\n      <th>5</th>\n      <td>광주</td>\n      <td>1496172</td>\n      <td>745122</td>\n      <td>751050</td>\n      <td>1496172</td>\n      <td>-5928</td>\n      <td>5928</td>\n    </tr>\n    <tr>\n      <th>6</th>\n      <td>수원</td>\n      <td>1193894</td>\n      <td>601097</td>\n      <td>592797</td>\n      <td>1193894</td>\n      <td>8300</td>\n      <td>8300</td>\n    </tr>\n    <tr>\n      <th>7</th>\n      <td>울산</td>\n      <td>1147037</td>\n      <td>589233</td>\n      <td>557804</td>\n      <td>1147037</td>\n      <td>31429</td>\n      <td>31429</td>\n    </tr>\n    <tr>\n      <th>8</th>\n      <td>고양</td>\n      <td>1068641</td>\n      <td>523803</td>\n      <td>544838</td>\n      <td>1068641</td>\n      <td>-21035</td>\n      <td>21035</td>\n    </tr>\n    <tr>\n      <th>9</th>\n      <td>용인</td>\n      <td>1061440</td>\n      <td>526824</td>\n      <td>534617</td>\n      <td>1061441</td>\n      <td>-7793</td>\n      <td>7793</td>\n    </tr>\n    <tr>\n      <th>10</th>\n      <td>총합</td>\n      <td>26030340</td>\n      <td>12880779</td>\n      <td>13150052</td>\n      <td>26030831</td>\n      <td>-269273</td>\n      <td>269273</td>\n    </tr>\n  </tbody>\n</table>\n</div>"
     },
     "metadata": {},
     "execution_count": 8
    }
   ],
   "source": [
    "data['남자 - 여자_절대값'] = data['남자 - 여자'].abs() # 절대값 연산 써서 칼럼 추가\n",
    "data"
   ]
  },
  {
   "cell_type": "code",
   "execution_count": 9,
   "metadata": {},
   "outputs": [
    {
     "output_type": "execute_result",
     "data": {
      "text/plain": [
       "    도시       인구수        남자        여자   남자 + 여자  남자 - 여자  남자 - 여자_절대값   남자 / 여자\n",
       "0   서울   9741381   4757642   4984229   9741871  -226587       226587  0.954539\n",
       "1   부산   3416918   1680933   1735985   3416918   -55052        55052  0.968288\n",
       "2   인천   2925967   1472081   1453886   2925967    18195        18195  1.012515\n",
       "3   대구   2453041   1218326   1234715   2453041   -16389        16389  0.986726\n",
       "4   대전   1525849    765718    760131   1525849     5587         5587  1.007350\n",
       "5   광주   1496172    745122    751050   1496172    -5928         5928  0.992107\n",
       "6   수원   1193894    601097    592797   1193894     8300         8300  1.014001\n",
       "7   울산   1147037    589233    557804   1147037    31429        31429  1.056344\n",
       "8   고양   1068641    523803    544838   1068641   -21035        21035  0.961392\n",
       "9   용인   1061440    526824    534617   1061441    -7793         7793  0.985423\n",
       "10  총합  26030340  12880779  13150052  26030831  -269273       269273  0.979523"
      ],
      "text/html": "<div>\n<style scoped>\n    .dataframe tbody tr th:only-of-type {\n        vertical-align: middle;\n    }\n\n    .dataframe tbody tr th {\n        vertical-align: top;\n    }\n\n    .dataframe thead th {\n        text-align: right;\n    }\n</style>\n<table border=\"1\" class=\"dataframe\">\n  <thead>\n    <tr style=\"text-align: right;\">\n      <th></th>\n      <th>도시</th>\n      <th>인구수</th>\n      <th>남자</th>\n      <th>여자</th>\n      <th>남자 + 여자</th>\n      <th>남자 - 여자</th>\n      <th>남자 - 여자_절대값</th>\n      <th>남자 / 여자</th>\n    </tr>\n  </thead>\n  <tbody>\n    <tr>\n      <th>0</th>\n      <td>서울</td>\n      <td>9741381</td>\n      <td>4757642</td>\n      <td>4984229</td>\n      <td>9741871</td>\n      <td>-226587</td>\n      <td>226587</td>\n      <td>0.954539</td>\n    </tr>\n    <tr>\n      <th>1</th>\n      <td>부산</td>\n      <td>3416918</td>\n      <td>1680933</td>\n      <td>1735985</td>\n      <td>3416918</td>\n      <td>-55052</td>\n      <td>55052</td>\n      <td>0.968288</td>\n    </tr>\n    <tr>\n      <th>2</th>\n      <td>인천</td>\n      <td>2925967</td>\n      <td>1472081</td>\n      <td>1453886</td>\n      <td>2925967</td>\n      <td>18195</td>\n      <td>18195</td>\n      <td>1.012515</td>\n    </tr>\n    <tr>\n      <th>3</th>\n      <td>대구</td>\n      <td>2453041</td>\n      <td>1218326</td>\n      <td>1234715</td>\n      <td>2453041</td>\n      <td>-16389</td>\n      <td>16389</td>\n      <td>0.986726</td>\n    </tr>\n    <tr>\n      <th>4</th>\n      <td>대전</td>\n      <td>1525849</td>\n      <td>765718</td>\n      <td>760131</td>\n      <td>1525849</td>\n      <td>5587</td>\n      <td>5587</td>\n      <td>1.007350</td>\n    </tr>\n    <tr>\n      <th>5</th>\n      <td>광주</td>\n      <td>1496172</td>\n      <td>745122</td>\n      <td>751050</td>\n      <td>1496172</td>\n      <td>-5928</td>\n      <td>5928</td>\n      <td>0.992107</td>\n    </tr>\n    <tr>\n      <th>6</th>\n      <td>수원</td>\n      <td>1193894</td>\n      <td>601097</td>\n      <td>592797</td>\n      <td>1193894</td>\n      <td>8300</td>\n      <td>8300</td>\n      <td>1.014001</td>\n    </tr>\n    <tr>\n      <th>7</th>\n      <td>울산</td>\n      <td>1147037</td>\n      <td>589233</td>\n      <td>557804</td>\n      <td>1147037</td>\n      <td>31429</td>\n      <td>31429</td>\n      <td>1.056344</td>\n    </tr>\n    <tr>\n      <th>8</th>\n      <td>고양</td>\n      <td>1068641</td>\n      <td>523803</td>\n      <td>544838</td>\n      <td>1068641</td>\n      <td>-21035</td>\n      <td>21035</td>\n      <td>0.961392</td>\n    </tr>\n    <tr>\n      <th>9</th>\n      <td>용인</td>\n      <td>1061440</td>\n      <td>526824</td>\n      <td>534617</td>\n      <td>1061441</td>\n      <td>-7793</td>\n      <td>7793</td>\n      <td>0.985423</td>\n    </tr>\n    <tr>\n      <th>10</th>\n      <td>총합</td>\n      <td>26030340</td>\n      <td>12880779</td>\n      <td>13150052</td>\n      <td>26030831</td>\n      <td>-269273</td>\n      <td>269273</td>\n      <td>0.979523</td>\n    </tr>\n  </tbody>\n</table>\n</div>"
     },
     "metadata": {},
     "execution_count": 9
    }
   ],
   "source": [
    "data['남자 / 여자'] = data['남자']/data['여자'] # 나누기 \n",
    "data"
   ]
  },
  {
   "cell_type": "code",
   "execution_count": 11,
   "metadata": {},
   "outputs": [
    {
     "output_type": "execute_result",
     "data": {
      "text/plain": [
       "    도시       인구수        남자        여자   남자 + 여자  남자 - 여자  남자 - 여자_절대값  \\\n",
       "0   서울   9741381   4757642   4984229   9741871  -226587       226587   \n",
       "1   부산   3416918   1680933   1735985   3416918   -55052        55052   \n",
       "2   인천   2925967   1472081   1453886   2925967    18195        18195   \n",
       "3   대구   2453041   1218326   1234715   2453041   -16389        16389   \n",
       "4   대전   1525849    765718    760131   1525849     5587         5587   \n",
       "5   광주   1496172    745122    751050   1496172    -5928         5928   \n",
       "6   수원   1193894    601097    592797   1193894     8300         8300   \n",
       "7   울산   1147037    589233    557804   1147037    31429        31429   \n",
       "8   고양   1068641    523803    544838   1068641   -21035        21035   \n",
       "9   용인   1061440    526824    534617   1061441    -7793         7793   \n",
       "10  총합  26030340  12880779  13150052  26030831  -269273       269273   \n",
       "\n",
       "     남자 / 여자  여자_100명당_남자수  \n",
       "0   0.954539     95.453921  \n",
       "1   0.968288     96.828774  \n",
       "2   1.012515    101.251474  \n",
       "3   0.986726     98.672649  \n",
       "4   1.007350    100.735005  \n",
       "5   0.992107     99.210705  \n",
       "6   1.014001    101.400142  \n",
       "7   1.056344    105.634416  \n",
       "8   0.961392     96.139219  \n",
       "9   0.985423     98.542321  \n",
       "10  0.979523     97.952305  "
      ],
      "text/html": "<div>\n<style scoped>\n    .dataframe tbody tr th:only-of-type {\n        vertical-align: middle;\n    }\n\n    .dataframe tbody tr th {\n        vertical-align: top;\n    }\n\n    .dataframe thead th {\n        text-align: right;\n    }\n</style>\n<table border=\"1\" class=\"dataframe\">\n  <thead>\n    <tr style=\"text-align: right;\">\n      <th></th>\n      <th>도시</th>\n      <th>인구수</th>\n      <th>남자</th>\n      <th>여자</th>\n      <th>남자 + 여자</th>\n      <th>남자 - 여자</th>\n      <th>남자 - 여자_절대값</th>\n      <th>남자 / 여자</th>\n      <th>여자_100명당_남자수</th>\n    </tr>\n  </thead>\n  <tbody>\n    <tr>\n      <th>0</th>\n      <td>서울</td>\n      <td>9741381</td>\n      <td>4757642</td>\n      <td>4984229</td>\n      <td>9741871</td>\n      <td>-226587</td>\n      <td>226587</td>\n      <td>0.954539</td>\n      <td>95.453921</td>\n    </tr>\n    <tr>\n      <th>1</th>\n      <td>부산</td>\n      <td>3416918</td>\n      <td>1680933</td>\n      <td>1735985</td>\n      <td>3416918</td>\n      <td>-55052</td>\n      <td>55052</td>\n      <td>0.968288</td>\n      <td>96.828774</td>\n    </tr>\n    <tr>\n      <th>2</th>\n      <td>인천</td>\n      <td>2925967</td>\n      <td>1472081</td>\n      <td>1453886</td>\n      <td>2925967</td>\n      <td>18195</td>\n      <td>18195</td>\n      <td>1.012515</td>\n      <td>101.251474</td>\n    </tr>\n    <tr>\n      <th>3</th>\n      <td>대구</td>\n      <td>2453041</td>\n      <td>1218326</td>\n      <td>1234715</td>\n      <td>2453041</td>\n      <td>-16389</td>\n      <td>16389</td>\n      <td>0.986726</td>\n      <td>98.672649</td>\n    </tr>\n    <tr>\n      <th>4</th>\n      <td>대전</td>\n      <td>1525849</td>\n      <td>765718</td>\n      <td>760131</td>\n      <td>1525849</td>\n      <td>5587</td>\n      <td>5587</td>\n      <td>1.007350</td>\n      <td>100.735005</td>\n    </tr>\n    <tr>\n      <th>5</th>\n      <td>광주</td>\n      <td>1496172</td>\n      <td>745122</td>\n      <td>751050</td>\n      <td>1496172</td>\n      <td>-5928</td>\n      <td>5928</td>\n      <td>0.992107</td>\n      <td>99.210705</td>\n    </tr>\n    <tr>\n      <th>6</th>\n      <td>수원</td>\n      <td>1193894</td>\n      <td>601097</td>\n      <td>592797</td>\n      <td>1193894</td>\n      <td>8300</td>\n      <td>8300</td>\n      <td>1.014001</td>\n      <td>101.400142</td>\n    </tr>\n    <tr>\n      <th>7</th>\n      <td>울산</td>\n      <td>1147037</td>\n      <td>589233</td>\n      <td>557804</td>\n      <td>1147037</td>\n      <td>31429</td>\n      <td>31429</td>\n      <td>1.056344</td>\n      <td>105.634416</td>\n    </tr>\n    <tr>\n      <th>8</th>\n      <td>고양</td>\n      <td>1068641</td>\n      <td>523803</td>\n      <td>544838</td>\n      <td>1068641</td>\n      <td>-21035</td>\n      <td>21035</td>\n      <td>0.961392</td>\n      <td>96.139219</td>\n    </tr>\n    <tr>\n      <th>9</th>\n      <td>용인</td>\n      <td>1061440</td>\n      <td>526824</td>\n      <td>534617</td>\n      <td>1061441</td>\n      <td>-7793</td>\n      <td>7793</td>\n      <td>0.985423</td>\n      <td>98.542321</td>\n    </tr>\n    <tr>\n      <th>10</th>\n      <td>총합</td>\n      <td>26030340</td>\n      <td>12880779</td>\n      <td>13150052</td>\n      <td>26030831</td>\n      <td>-269273</td>\n      <td>269273</td>\n      <td>0.979523</td>\n      <td>97.952305</td>\n    </tr>\n  </tbody>\n</table>\n</div>"
     },
     "metadata": {},
     "execution_count": 11
    }
   ],
   "source": [
    "data['여자_100명당_남자수'] = data['남자 / 여자']*100 # 상수를 이용한 연산 -> 컬럼 내 모든 원소에 적용. 벡터 생각하면 될거 같다. \n",
    "data"
   ]
  },
  {
   "cell_type": "code",
   "execution_count": 12,
   "metadata": {},
   "outputs": [],
   "source": [
    "data.to_csv('/Users/minguinho/Downloads/데이콘/pandas 입문/Data/data06.csv', index = False) "
   ]
  },
  {
   "cell_type": "code",
   "execution_count": null,
   "metadata": {},
   "outputs": [],
   "source": []
  }
 ]
}