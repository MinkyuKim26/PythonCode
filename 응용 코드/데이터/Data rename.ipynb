{
 "cells": [
  {
   "cell_type": "code",
   "execution_count": 4,
   "metadata": {},
   "outputs": [],
   "source": [
    "import os\n",
    "import natsort\n",
    "import numpy as np\n",
    "from tqdm import tqdm"
   ]
  },
  {
   "cell_type": "code",
   "execution_count": 5,
   "metadata": {},
   "outputs": [],
   "source": [
    "source_folder = '/Users/minkyukim/Desktop/Dataset Candidate_2'\n",
    "\n",
    "file_list = os.listdir(source_folder)\n",
    "file_list = natsort.natsorted(file_list) # 파일 정렬. 이름순으로 정렬한다."
   ]
  },
  {
   "cell_type": "code",
   "execution_count": 6,
   "metadata": {},
   "outputs": [
    {
     "name": "stderr",
     "output_type": "stream",
     "text": [
      "data sampling: 100%|██████████| 1528/1528 [00:00<00:00, 3087.89it/s]\n"
     ]
    }
   ],
   "source": [
    "for i in tqdm(range(len(file_list)), desc = \"data sampling\", mininterval=0.01) : \n",
    "\n",
    "    place_value = int(np.log10(i+1))  # log10\n",
    "    zero_inPost = '' # '000001'에서 '00000'을 담당하는 문자열\n",
    "    for j in range(6 - place_value) :\n",
    "        zero_inPost = zero_inPost + '0'\n",
    "    changed_name = zero_inPost + str(i)\n",
    "\n",
    "    ori_path = source_folder + '/' + file_list[i]\n",
    "    renamed_path = source_folder + '/' + changed_name + '.png'\n",
    "    os.rename(ori_path, renamed_path)"
   ]
  }
 ],
 "metadata": {
  "interpreter": {
   "hash": "aac1938eb6913997aabd086dca6066ca74adbc6b4a9aafd1e6821241d3ac0498"
  },
  "kernelspec": {
   "display_name": "Python 3.8.8 64-bit ('base': conda)",
   "name": "python3"
  },
  "language_info": {
   "codemirror_mode": {
    "name": "ipython",
    "version": 3
   },
   "file_extension": ".py",
   "mimetype": "text/x-python",
   "name": "python",
   "nbconvert_exporter": "python",
   "pygments_lexer": "ipython3",
   "version": "3.8.8"
  },
  "orig_nbformat": 4
 },
 "nbformat": 4,
 "nbformat_minor": 2
}
