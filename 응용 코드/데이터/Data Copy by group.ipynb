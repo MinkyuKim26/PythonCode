{
 "cells": [
  {
   "cell_type": "code",
   "execution_count": 5,
   "metadata": {},
   "outputs": [],
   "source": [
    "import shutil\n",
    "import natsort\n",
    "import os\n",
    "from tqdm import tqdm"
   ]
  },
  {
   "cell_type": "code",
   "execution_count": 6,
   "metadata": {},
   "outputs": [],
   "source": [
    "# 소스 폴더, 복사할 위치 폴더\n",
    "source_folder = '/Users/minkyukim/Desktop/Dataset Candidate'\n",
    "destination_folder = '/Users/minkyukim/Desktop/Dataset Candidate_2'\n",
    "\n",
    "# 소스 폴더에 존재하는 데이터들\n",
    "file_list = os.listdir(source_folder)\n",
    "file_list = natsort.natsorted(file_list) # 파일 정렬. 이름순으로 정렬한다.\n",
    "file_list = file_list[1:] # DS_store가 있길래 그거 제외함. 만약 없으면 이 코드는 주석처리 할 것"
   ]
  },
  {
   "cell_type": "code",
   "execution_count": 7,
   "metadata": {},
   "outputs": [
    {
     "data": {
      "text/plain": [
       "'/Users/minkyukim/Desktop/Dataset Candidate/frame-000000.png'"
      ]
     },
     "execution_count": 7,
     "metadata": {},
     "output_type": "execute_result"
    }
   ],
   "source": [
    "source_folder + '/' + file_list[0]"
   ]
  },
  {
   "cell_type": "code",
   "execution_count": 8,
   "metadata": {},
   "outputs": [
    {
     "name": "stderr",
     "output_type": "stream",
     "text": [
      "data sampling: 100%|██████████| 3053/3053 [00:11<00:00, 261.90it/s]\n"
     ]
    }
   ],
   "source": [
    "for i in tqdm(range(len(file_list)), desc = \"data sampling\", mininterval=0.01) : \n",
    "    if i % 2 == 0 :\n",
    "        source = source_folder + '/' + file_list[i]\n",
    "        destination = destination_folder + '/' + file_list[i]\n",
    "        shutil.copy(source, destination)"
   ]
  }
 ],
 "metadata": {
  "interpreter": {
   "hash": "aac1938eb6913997aabd086dca6066ca74adbc6b4a9aafd1e6821241d3ac0498"
  },
  "kernelspec": {
   "display_name": "Python 3.8.8 64-bit ('base': conda)",
   "name": "python3"
  },
  "language_info": {
   "codemirror_mode": {
    "name": "ipython",
    "version": 3
   },
   "file_extension": ".py",
   "mimetype": "text/x-python",
   "name": "python",
   "nbconvert_exporter": "python",
   "pygments_lexer": "ipython3",
   "version": "3.8.8"
  },
  "orig_nbformat": 4
 },
 "nbformat": 4,
 "nbformat_minor": 2
}
