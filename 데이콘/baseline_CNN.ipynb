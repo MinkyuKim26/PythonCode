{
  "nbformat": 4,
  "nbformat_minor": 0,
  "metadata": {
    "colab": {
      "name": "baseline_CNN.ipynb",
      "provenance": [],
      "collapsed_sections": []
    },
    "kernelspec": {
      "display_name": "Python 3",
      "language": "python",
      "name": "python3"
    },
    "language_info": {
      "codemirror_mode": {
        "name": "ipython",
        "version": 3
      },
      "file_extension": ".py",
      "mimetype": "text/x-python",
      "name": "python",
      "nbconvert_exporter": "python",
      "pygments_lexer": "ipython3",
      "version": "3.7.4"
    }
  },
  "cells": [
    {
      "cell_type": "markdown",
      "metadata": {
        "id": "4CSdpUryCW9s"
      },
      "source": [
        "### Python import"
      ]
    },
    {
      "cell_type": "code",
      "metadata": {
        "id": "tIjgrUuWfG9P"
      },
      "source": [
        "import os\n",
        "import pandas as pd\n",
        "import numpy as np\n",
        "import matplotlib.pyplot as plt\n",
        "import warnings\n",
        "warnings.filterwarnings(\"ignore\")\n",
        "import tensorflow as tf"
      ],
      "execution_count": null,
      "outputs": []
    },
    {
      "cell_type": "code",
      "metadata": {
        "id": "pNxazjbCCgY8",
        "colab": {
          "base_uri": "https://localhost:8080/"
        },
        "outputId": "c777becd-5195-4a68-c468-8bda196b68f3"
      },
      "source": [
        "# 구글 드라이브 접속\n",
        "\n",
        "from google.colab import drive\n",
        "drive.mount('/content/gdrive')"
      ],
      "execution_count": null,
      "outputs": [
        {
          "output_type": "stream",
          "text": [
            "Mounted at /content/gdrive\n"
          ],
          "name": "stdout"
        }
      ]
    },
    {
      "cell_type": "markdown",
      "metadata": {
        "id": "4_ElRZQbCW98"
      },
      "source": [
        "### Load Data"
      ]
    },
    {
      "cell_type": "code",
      "metadata": {
        "id": "MLmopl4TfJP2"
      },
      "source": [
        "# 훈련\n",
        "train = pd.read_csv('/content/gdrive/My Drive/Colab Notebooks/mnist_data/train.csv')\n",
        "# 검증\n",
        "test = pd.read_csv('/content/gdrive/My Drive/Colab Notebooks/mnist_data/test.csv')\n",
        "# 제출용 \n",
        "submission = pd.read_csv('/content/gdrive/My Drive/Colab Notebooks/mnist_data/submission.csv')"
      ],
      "execution_count": null,
      "outputs": []
    },
    {
      "cell_type": "markdown",
      "metadata": {
        "id": "NErXfMjhCW-E"
      },
      "source": [
        "### EDA"
      ]
    },
    {
      "cell_type": "code",
      "metadata": {
        "id": "CNmfAiBVCW-F",
        "colab": {
          "base_uri": "https://localhost:8080/",
          "height": 281
        },
        "outputId": "3a08afd0-81c9-43ac-b229-d035873d4d9e"
      },
      "source": [
        "# 데이터 확인(idx 변경으로 다른 파일 확인 가능) \n",
        "\n",
        "idx = 2\n",
        "img = train.loc[idx, '0':].values.reshape(28, 28).astype(int) # 28*28 꼴의 이미지로 변환한 이미지를 img에 담기\n",
        "digit = train.loc[idx, 'digit'] # 해당 이미지의 숫자(미리 넣어놓은 답안)\n",
        "letter = train.loc[idx, 'letter'] # 해당 이미지의 문자(미리 넣어놓은 답안)\n",
        "\n",
        "plt.title('Index: %i, Digit: %s, Letter: %s'%(idx, digit, letter))\n",
        "plt.imshow(img)\n",
        "plt.show()"
      ],
      "execution_count": null,
      "outputs": [
        {
          "output_type": "display_data",
          "data": {
            "image/png": "[encoded data removed]",
            "text/plain": [
              "<Figure size 432x288 with 1 Axes>"
            ]
          },
          "metadata": {
            "tags": [],
            "needs_background": "light"
          }
        }
      ]
    },
    {
      "cell_type": "markdown",
      "metadata": {
        "id": "AY2O8jUjCW-M"
      },
      "source": [
        "### Train model"
      ]
    },
    {
      "cell_type": "code",
      "metadata": {
        "id": "_AtkX5YSCW-M"
      },
      "source": [
        "# 모델 설계, 훈련\n",
        "\n",
        "def one_hot_encoder(x): # 1개만 Hot(True)이고 나머지는 Cold(False) -> One hot endoding\n",
        "    y = np.zeros((len(x), len(np.unique(x)))) # x의 길이만큼 모든 값이 0인 벡터 생성. np.unique(x) : x의 중복된 성분을 제외한 배열 반환\n",
        "    for i, num in enumerate(x):\n",
        "        y[i][num] = 1 # Label에 해당하는 인덱스에 1 입력\n",
        "    return y\n",
        "\n",
        "# CNN은 이미지 파일을 그대로 받는다.(28*28, 1채널) 훈련 파일을 이렇게 이미지 파일이 나열된 벡터로 만들어야 CNN에서 잘 처리할 수 있다.\n",
        "x_train = train.drop(['id', 'digit', 'letter'], axis=1).values\n",
        "x_train = x_train.reshape(-1, 28,28,1) # shape 변경 (784크기가 6만개)\n",
        "\n",
        "# 픽셀 값을 0~1 사이 값으로 변환 (너무 큰 값이 들어가면 함수의 계수들이 작아질 위험이 생김(0.0000023 등) -> 계수들의 학습이 불안정해짐.)\n",
        "# 정규화의 목적 -> input의 범위와 output의 크기를 맞춰주기 위함 -> 계산 과정에서 생기는 위험 줄임)\n",
        "x_train = x_train / 255 # 입력 데이터의 최대값이 255라 255로 나눠주는 것\n",
        "\n",
        "# Label의 원-핫 인코딩 실행(배열 train_label을 벡터로 만들어줌 -> 이렇게 만들고 학습하면 잘됨. 분류 문제에서는 거의 one hot encording을 수행한다.)\n",
        "y_train = one_hot_encoder(train['digit']) # 결과값(답안)을 one-hot encoder 기법으로 {1,0,0,...} 꼴의 벡터들의 리스트로 생성."
      ],
      "execution_count": null,
      "outputs": []
    },
    {
      "cell_type": "code",
      "metadata": {
        "id": "yqHVHOdOCW-P"
      },
      "source": [
        "# 훈련 데이터로 모델 생성 \n",
        "\n",
        "def create_cnn_model(x_train):\n",
        "\n",
        "# 입력 데이터 가공\n",
        "  inputs = tf.keras.layers.Input(x_train.shape[1:]) # 입력 데이터를 뽑아낸다. \n",
        "\n",
        "  bn = tf.keras.layers.BatchNormalization()(inputs) # BatchNormalization : 배치 정규화. 스케일을 조정해 학습시 일어나는 왜곡 현상을 보정해줌. 안정적인 학습을 가능하게 해줘 높은 학습률로 학습 시킬 수 있게 해준다. \n",
        "  conv = tf.keras.layers.Conv2D(128, kernel_size=5, strides=1, padding='same', activation='relu')(bn)  # 배치 정규화한 입력 데이터를 2차원 배열 컨볼루전 연산. 커널 개수가 128개로 하고(커널을 8개로 할 때 보다 더많은 특징을 잡을 수 있다.) 커널 사이즈는 5*5사이즈로 한다. \n",
        "  bn = tf.keras.layers.BatchNormalization()(conv) #컨볼루전 연산한 것을 또다시 배치 정규화.\n",
        "  conv = tf.keras.layers.Conv2D(128, kernel_size=2, strides=1, padding='same', activation='relu')(bn) # 배치 정규화한 것을 또다시 컨볼루전 연산한다. \n",
        "  pool = tf.keras.layers.MaxPooling2D((2, 2))(conv) # MaxPooling 레이어(이미지 학습할 때 많이 사용. MaxPooling2D : 이미지 크기를 줄여주는 함수. (2*2)단위로 이미지를 축소해서 쓴다. \n",
        "\n",
        "# 축소한 것을 앞서 한 것처럼 배치 정규화, 컨볼루전 연산을 거친 뒤 마지막에 MaxPooling 레이어를 적용해 크기를 줄임으로써 데이터를 학습하기 편하게 가공해준다. \n",
        "  bn = tf.keras.layers.BatchNormalization()(pool) # 배치 정규화.\n",
        "  conv = tf.keras.layers.Conv2D(256, kernel_size=2, strides=1, padding='same', activation='relu')(bn) # 컨볼루전 연산 \n",
        "  bn = tf.keras.layers.BatchNormalization()(conv) # 배치 정규화\n",
        "  conv = tf.keras.layers.Conv2D(256, kernel_size=2, strides=1, padding='same', activation='relu')(bn) # 컨볼루전 연산\n",
        "  pool = tf.keras.layers.MaxPooling2D((2, 2))(conv) # MaxPooling\n",
        "\n",
        "# Flatten 레이어. 1열로 쭉 늘린다. [x, x, x, x,...]\n",
        "  flatten = tf.keras.layers.Flatten()(pool)\n",
        "\n",
        "# 배치 정규화를 통해 안정적인 데이터로 만들어준다. \n",
        "  bn = tf.keras.layers.BatchNormalization()(flatten)\n",
        "# Dense Layer을 사용해 완전 연결 계층으로 생성 (Fully-Connected Layer). Dense : 입,출력을 모두 연결하는 레이어\n",
        "  dense = tf.keras.layers.Dense(1000, activation='relu')(bn)\n",
        "\n",
        "# 출력 \n",
        "  bn = tf.keras.layers.BatchNormalization()(dense) # 배치 정규화\n",
        "  outputs = tf.keras.layers.Dense(10, activation='softmax')(bn) # 배치 정규화한 것을 완전 연결 계층으로 만든다.\n",
        "\n",
        "# 모델 생성\n",
        "  model = tf.keras.models.Model(inputs=inputs, outputs=outputs) # 가공한 입, 출력 파일을 넣어 모델 생성\n",
        "\n",
        "  return model # 생성한 모델을 반환"
      ],
      "execution_count": null,
      "outputs": []
    },
    {
      "cell_type": "code",
      "metadata": {
        "id": "0sZLhgQZgiHU",
        "colab": {
          "base_uri": "https://localhost:8080/"
        },
        "outputId": "7739ac50-6995-4575-e640-60d7b29ca918"
      },
      "source": [
        "model = create_cnn_model(x_train)                                                         # 모델 만들기\n",
        "model.compile(loss='categorical_crossentropy', optimizer='adam', metrics=['accuracy'])    # 컴파일, Loss = CrossEntropy, 최적화: Adam\n",
        "\n",
        "# 체크 포인트 저장\n",
        "early_stopping = tf.keras.callbacks.EarlyStopping(\n",
        "    monitor='val_accuracy', min_delta=0.01, patience=3, verbose=0, mode='max', # min_delta 변화 정도가 0.01보다 작으면 변하지 않았다고 가정 -> stop. 예 : 기울기가 0.01에서 0.015가 되었을 경우 변함 없다고 판단, 훈련 중지\n",
        "    baseline=None, restore_best_weights=True # patience : 점수가 떨어져도 봐주는 횟수. patience = 1이면 한 번만 점수 떨어져도 바로 훈련 종료 # mode='max' : '점수가 높을 수록 좋아지는 것'을 알려줌. min, auto 등이 있다. auto는 EarlyStopping험수가 알아서 판단한다. \n",
        ")\n",
        "\n",
        "# 모델 훈련\n",
        "model.fit(x_train, y_train, \n",
        "          epochs=100, batch_size=8, \n",
        "          validation_split=0.2, # 훈련 데이터 중 20%를 검증 데이터로 사용(전체 x,y 중 20%를 검증 세트로 사용)\n",
        "          shuffle=True,         # 매 epoch 마다 데이터 섞기 -> 일반적인 모델 생성 가능\n",
        "          callbacks=[early_stopping] # 콜백 함수 지정(리스트 형태로 넣어줌)\n",
        "         )      \n",
        "# 손실 함수는 다중 분류 손실함수(one-hot encoding 형태로 결과값이 나온다. 그래서 실제 출력값과 비교할 때 실제 출력값도 one-hot encoding 과정을 거쳐야 한다. )\n",
        "# 글자, 문자 구분하는데 있어서 categorical_crossentropy 방식이 효율적이라는 생각이 든다. \n",
        "# 그리고 최적화 함수로 Adam을 쓰고 있는데 이는 과거의 학습률들을 이용해 가중치, 중첩을 조정. \n",
        "# 모멘텀(이전 상태를 그대로 가져오는 것)을 활용해 이전에 많이 변경시킨 것은 계속 크게 변경시키고 적게 변경시킨 것은 계속 적게 변경시킴.(학습률이랑 연관해서 생각)\n",
        "model.summary()"
      ],
      "execution_count": null,
      "outputs": [
        {
          "output_type": "stream",
          "text": [
            "Epoch 1/100\n",
            "205/205 [==============================] - 51s 250ms/step - loss: 2.7889 - accuracy: 0.3779 - val_loss: 14.5870 - val_accuracy: 0.1073\n",
            "Epoch 2/100\n",
            "205/205 [==============================] - 51s 248ms/step - loss: 1.4203 - accuracy: 0.5781 - val_loss: 5.3264 - val_accuracy: 0.1634\n",
            "Epoch 3/100\n",
            "205/205 [==============================] - 51s 250ms/step - loss: 1.0421 - accuracy: 0.6673 - val_loss: 1.8042 - val_accuracy: 0.4951\n",
            "Epoch 4/100\n",
            "205/205 [==============================] - 51s 250ms/step - loss: 0.8188 - accuracy: 0.7326 - val_loss: 1.4463 - val_accuracy: 0.6073\n",
            "Epoch 5/100\n",
            "205/205 [==============================] - 51s 249ms/step - loss: 0.7040 - accuracy: 0.7656 - val_loss: 1.1869 - val_accuracy: 0.6976\n",
            "Epoch 6/100\n",
            "205/205 [==============================] - 51s 249ms/step - loss: 0.5533 - accuracy: 0.8162 - val_loss: 1.3370 - val_accuracy: 0.6780\n",
            "Epoch 7/100\n",
            "205/205 [==============================] - 51s 250ms/step - loss: 0.4790 - accuracy: 0.8449 - val_loss: 1.2165 - val_accuracy: 0.6756\n",
            "Epoch 8/100\n",
            "205/205 [==============================] - 51s 251ms/step - loss: 0.5023 - accuracy: 0.8254 - val_loss: 1.6321 - val_accuracy: 0.6390\n",
            "Model: \"functional_13\"\n",
            "_________________________________________________________________\n",
            "Layer (type)                 Output Shape              Param #   \n",
            "=================================================================\n",
            "input_7 (InputLayer)         [(None, 28, 28, 1)]       0         \n",
            "_________________________________________________________________\n",
            "batch_normalization_36 (Batc (None, 28, 28, 1)         4         \n",
            "_________________________________________________________________\n",
            "conv2d_24 (Conv2D)           (None, 28, 28, 128)       3328      \n",
            "_________________________________________________________________\n",
            "batch_normalization_37 (Batc (None, 28, 28, 128)       512       \n",
            "_________________________________________________________________\n",
            "conv2d_25 (Conv2D)           (None, 28, 28, 128)       65664     \n",
            "_________________________________________________________________\n",
            "max_pooling2d_12 (MaxPooling (None, 14, 14, 128)       0         \n",
            "_________________________________________________________________\n",
            "batch_normalization_38 (Batc (None, 14, 14, 128)       512       \n",
            "_________________________________________________________________\n",
            "conv2d_26 (Conv2D)           (None, 14, 14, 256)       131328    \n",
            "_________________________________________________________________\n",
            "batch_normalization_39 (Batc (None, 14, 14, 256)       1024      \n",
            "_________________________________________________________________\n",
            "conv2d_27 (Conv2D)           (None, 14, 14, 256)       262400    \n",
            "_________________________________________________________________\n",
            "max_pooling2d_13 (MaxPooling (None, 7, 7, 256)         0         \n",
            "_________________________________________________________________\n",
            "flatten_6 (Flatten)          (None, 12544)             0         \n",
            "_________________________________________________________________\n",
            "batch_normalization_40 (Batc (None, 12544)             50176     \n",
            "_________________________________________________________________\n",
            "dense_12 (Dense)             (None, 1000)              12545000  \n",
            "_________________________________________________________________\n",
            "batch_normalization_41 (Batc (None, 1000)              4000      \n",
            "_________________________________________________________________\n",
            "dense_13 (Dense)             (None, 10)                10010     \n",
            "=================================================================\n",
            "Total params: 13,073,958\n",
            "Trainable params: 13,045,844\n",
            "Non-trainable params: 28,114\n",
            "_________________________________________________________________\n"
          ],
          "name": "stdout"
        }
      ]
    },
    {
      "cell_type": "code",
      "metadata": {
        "colab": {
          "base_uri": "https://localhost:8080/"
        },
        "id": "elsBylgLhnyQ",
        "outputId": "5a006a9d-e5b4-416e-d7a9-ec0585a7859a"
      },
      "source": [
        "model = create_cnn_model(x_train)                                                         # 모델 만들기\n",
        "model.compile(loss='categorical_crossentropy', optimizer='adam', metrics=['accuracy'])    # 컴파일, Loss = CrossEntropy, 최적화: Adam\n",
        "\n",
        "# 모델 폴더 만들기\n",
        "model_path = 'model/'\n",
        "if not os.path.exists(model_path): # model_path가 없으면 \n",
        "    os.mkdir(model_path) # model_path생성\n",
        "\n",
        "# 체크 포인트 저장(kera.callbacks 안에 콜백 함수들이 들어있다. )\n",
        "checkpoint = tf.keras.callbacks.ModelCheckpoint(\n",
        "    filepath=model_path + 'Epoch_{epoch:03d}_Val_{val_accuracy:.3f}.hdf5', #파일명(모델에 따라 epoch횟수, validation 정확도 등을 담아서 표기하면 좋다.) 구분 잘되게끔 이름 지어주기. 점수가 좋아질 때마다 저장된다.\n",
        "    monitor='val_accuracy', verbose=0, save_best_only=True) # 어떤 평가점수를 보고 stop할건지 정해줌. val_accuracy를 기준으로 stop여부를 평가하는 것이 더 객관적.\n",
        "\n",
        "# 모델 훈련\n",
        "history = model.fit(\n",
        "    x_train, y_train, \n",
        "    epochs=50, batch_size=8, \n",
        "    validation_split=0.2, shuffle=True,\n",
        "    callbacks=[checkpoint] # 체크포인트 삽입. callbacks=[checkpoint, earlyStopping] 등 콜백 함수로 여러개 쓸 수 있다. 이렇게 되면 체크 포인트 생성과 동시에 정확도 떨어지면 훈련 중단한다. \n",
        "    #reduceLR도 같이 사용하면 더 좋은 모델을 생성할 수 있다. \n",
        ")      "
      ],
      "execution_count": null,
      "outputs": [
        {
          "output_type": "stream",
          "text": [
            "Epoch 1/50\n",
            "205/205 [==============================] - 52s 252ms/step - loss: 2.9072 - accuracy: 0.3547 - val_loss: 12.4128 - val_accuracy: 0.1073\n",
            "Epoch 2/50\n",
            "205/205 [==============================] - 52s 251ms/step - loss: 1.3977 - accuracy: 0.5635 - val_loss: 8.6584 - val_accuracy: 0.1171\n",
            "Epoch 3/50\n",
            "205/205 [==============================] - 51s 251ms/step - loss: 1.0619 - accuracy: 0.6569 - val_loss: 2.3976 - val_accuracy: 0.4146\n",
            "Epoch 4/50\n",
            "205/205 [==============================] - 51s 251ms/step - loss: 0.8131 - accuracy: 0.7326 - val_loss: 1.4662 - val_accuracy: 0.6244\n",
            "Epoch 5/50\n",
            "205/205 [==============================] - 51s 251ms/step - loss: 0.6973 - accuracy: 0.7582 - val_loss: 1.4213 - val_accuracy: 0.6463\n",
            "Epoch 6/50\n",
            "205/205 [==============================] - 51s 251ms/step - loss: 0.5912 - accuracy: 0.7979 - val_loss: 1.1238 - val_accuracy: 0.6854\n",
            "Epoch 7/50\n",
            "205/205 [==============================] - 54s 263ms/step - loss: 0.5142 - accuracy: 0.8266 - val_loss: 1.2281 - val_accuracy: 0.6659\n",
            "Epoch 8/50\n",
            "205/205 [==============================] - 51s 248ms/step - loss: 0.4295 - accuracy: 0.8516 - val_loss: 1.4755 - val_accuracy: 0.6805\n",
            "Epoch 9/50\n",
            "205/205 [==============================] - 51s 248ms/step - loss: 0.3631 - accuracy: 0.8730 - val_loss: 1.3403 - val_accuracy: 0.6439\n",
            "Epoch 10/50\n",
            "205/205 [==============================] - 51s 248ms/step - loss: 0.3311 - accuracy: 0.8816 - val_loss: 1.6267 - val_accuracy: 0.6317\n",
            "Epoch 11/50\n",
            "205/205 [==============================] - 51s 251ms/step - loss: 0.3106 - accuracy: 0.8932 - val_loss: 1.1697 - val_accuracy: 0.7439\n",
            "Epoch 12/50\n",
            "205/205 [==============================] - 51s 248ms/step - loss: 0.2919 - accuracy: 0.8999 - val_loss: 1.6985 - val_accuracy: 0.6415\n",
            "Epoch 13/50\n",
            "205/205 [==============================] - 51s 248ms/step - loss: 0.2887 - accuracy: 0.8999 - val_loss: 1.4539 - val_accuracy: 0.7122\n",
            "Epoch 14/50\n",
            "205/205 [==============================] - 51s 247ms/step - loss: 0.2484 - accuracy: 0.9121 - val_loss: 1.2405 - val_accuracy: 0.7317\n",
            "Epoch 15/50\n",
            "205/205 [==============================] - 51s 248ms/step - loss: 0.2635 - accuracy: 0.9127 - val_loss: 1.2984 - val_accuracy: 0.7000\n",
            "Epoch 16/50\n",
            "205/205 [==============================] - 51s 248ms/step - loss: 0.1593 - accuracy: 0.9451 - val_loss: 1.2533 - val_accuracy: 0.7366\n",
            "Epoch 17/50\n",
            "205/205 [==============================] - 51s 249ms/step - loss: 0.1930 - accuracy: 0.9383 - val_loss: 1.0976 - val_accuracy: 0.7683\n",
            "Epoch 18/50\n",
            "205/205 [==============================] - 51s 247ms/step - loss: 0.2433 - accuracy: 0.9206 - val_loss: 1.4324 - val_accuracy: 0.7171\n",
            "Epoch 19/50\n",
            "205/205 [==============================] - 53s 261ms/step - loss: 0.1935 - accuracy: 0.9280 - val_loss: 1.1609 - val_accuracy: 0.7415\n",
            "Epoch 20/50\n",
            "205/205 [==============================] - 51s 247ms/step - loss: 0.2206 - accuracy: 0.9182 - val_loss: 1.3688 - val_accuracy: 0.7317\n",
            "Epoch 21/50\n",
            "205/205 [==============================] - 51s 247ms/step - loss: 0.1761 - accuracy: 0.9371 - val_loss: 1.4450 - val_accuracy: 0.7000\n",
            "Epoch 22/50\n",
            "205/205 [==============================] - 51s 247ms/step - loss: 0.1151 - accuracy: 0.9634 - val_loss: 1.5992 - val_accuracy: 0.6805\n",
            "Epoch 23/50\n",
            "205/205 [==============================] - 51s 247ms/step - loss: 0.1513 - accuracy: 0.9414 - val_loss: 1.2707 - val_accuracy: 0.7244\n",
            "Epoch 24/50\n",
            "205/205 [==============================] - 51s 247ms/step - loss: 0.2067 - accuracy: 0.9383 - val_loss: 1.4658 - val_accuracy: 0.7220\n",
            "Epoch 25/50\n",
            "205/205 [==============================] - 51s 247ms/step - loss: 0.1997 - accuracy: 0.9310 - val_loss: 1.1703 - val_accuracy: 0.7220\n",
            "Epoch 26/50\n",
            "205/205 [==============================] - 51s 246ms/step - loss: 0.1534 - accuracy: 0.9444 - val_loss: 1.3253 - val_accuracy: 0.7341\n",
            "Epoch 27/50\n",
            "205/205 [==============================] - 50s 246ms/step - loss: 0.1380 - accuracy: 0.9579 - val_loss: 1.2790 - val_accuracy: 0.7390\n",
            "Epoch 28/50\n",
            "205/205 [==============================] - 51s 247ms/step - loss: 0.1332 - accuracy: 0.9609 - val_loss: 1.5323 - val_accuracy: 0.6951\n",
            "Epoch 29/50\n",
            "205/205 [==============================] - 51s 248ms/step - loss: 0.1313 - accuracy: 0.9524 - val_loss: 1.1948 - val_accuracy: 0.7561\n",
            "Epoch 30/50\n",
            "205/205 [==============================] - 51s 247ms/step - loss: 0.1090 - accuracy: 0.9634 - val_loss: 1.1697 - val_accuracy: 0.7512\n",
            "Epoch 31/50\n",
            "205/205 [==============================] - 53s 260ms/step - loss: 0.1180 - accuracy: 0.9585 - val_loss: 1.5368 - val_accuracy: 0.7049\n",
            "Epoch 32/50\n",
            "205/205 [==============================] - 51s 247ms/step - loss: 0.1485 - accuracy: 0.9505 - val_loss: 1.5810 - val_accuracy: 0.7049\n",
            "Epoch 33/50\n",
            "205/205 [==============================] - 51s 247ms/step - loss: 0.1659 - accuracy: 0.9487 - val_loss: 1.3511 - val_accuracy: 0.7488\n",
            "Epoch 34/50\n",
            "205/205 [==============================] - 51s 248ms/step - loss: 0.1223 - accuracy: 0.9579 - val_loss: 1.5257 - val_accuracy: 0.7244\n",
            "Epoch 35/50\n",
            "205/205 [==============================] - 51s 247ms/step - loss: 0.1733 - accuracy: 0.9530 - val_loss: 1.3817 - val_accuracy: 0.7390\n",
            "Epoch 36/50\n",
            "205/205 [==============================] - 51s 247ms/step - loss: 0.1171 - accuracy: 0.9603 - val_loss: 1.3493 - val_accuracy: 0.7390\n",
            "Epoch 37/50\n",
            "205/205 [==============================] - 51s 248ms/step - loss: 0.1426 - accuracy: 0.9554 - val_loss: 1.1857 - val_accuracy: 0.7756\n",
            "Epoch 38/50\n",
            "205/205 [==============================] - 51s 247ms/step - loss: 0.1104 - accuracy: 0.9615 - val_loss: 1.1866 - val_accuracy: 0.7585\n",
            "Epoch 39/50\n",
            "205/205 [==============================] - 51s 247ms/step - loss: 0.1033 - accuracy: 0.9670 - val_loss: 1.1546 - val_accuracy: 0.7756\n",
            "Epoch 40/50\n",
            "205/205 [==============================] - 51s 248ms/step - loss: 0.1004 - accuracy: 0.9683 - val_loss: 1.2701 - val_accuracy: 0.7585\n",
            "Epoch 41/50\n",
            "205/205 [==============================] - 51s 249ms/step - loss: 0.1020 - accuracy: 0.9695 - val_loss: 1.1911 - val_accuracy: 0.8073\n",
            "Epoch 42/50\n",
            "205/205 [==============================] - 54s 262ms/step - loss: 0.1026 - accuracy: 0.9695 - val_loss: 1.3049 - val_accuracy: 0.7585\n",
            "Epoch 43/50\n",
            "205/205 [==============================] - 51s 247ms/step - loss: 0.1177 - accuracy: 0.9597 - val_loss: 1.6505 - val_accuracy: 0.6976\n",
            "Epoch 44/50\n",
            "205/205 [==============================] - 51s 247ms/step - loss: 0.1200 - accuracy: 0.9670 - val_loss: 1.4538 - val_accuracy: 0.7366\n",
            "Epoch 45/50\n",
            "205/205 [==============================] - 51s 247ms/step - loss: 0.1071 - accuracy: 0.9609 - val_loss: 1.1592 - val_accuracy: 0.7659\n",
            "Epoch 46/50\n",
            "205/205 [==============================] - 51s 248ms/step - loss: 0.1935 - accuracy: 0.9499 - val_loss: 1.2601 - val_accuracy: 0.7610\n",
            "Epoch 47/50\n",
            "205/205 [==============================] - 51s 247ms/step - loss: 0.1075 - accuracy: 0.9689 - val_loss: 1.4473 - val_accuracy: 0.7537\n",
            "Epoch 48/50\n",
            "205/205 [==============================] - 51s 247ms/step - loss: 0.0904 - accuracy: 0.9707 - val_loss: 1.2528 - val_accuracy: 0.7512\n",
            "Epoch 49/50\n",
            "205/205 [==============================] - 51s 247ms/step - loss: 0.0688 - accuracy: 0.9823 - val_loss: 1.1254 - val_accuracy: 0.7854\n",
            "Epoch 50/50\n",
            "205/205 [==============================] - 51s 246ms/step - loss: 0.0563 - accuracy: 0.9774 - val_loss: 1.2264 - val_accuracy: 0.7854\n"
          ],
          "name": "stdout"
        }
      ]
    },
    {
      "cell_type": "code",
      "metadata": {
        "id": "4wnLmbzzhM_v",
        "colab": {
          "base_uri": "https://localhost:8080/",
          "height": 279
        },
        "outputId": "3c9d0e9e-8894-476a-ab21-9a0b1a33cbc7"
      },
      "source": [
        "#baseline모델이 너무 커서 오차가 많이 나는 듯. \n",
        "\n",
        "plt.plot(history.history['accuracy'], label='Train')\n",
        "plt.plot(history.history['val_accuracy'], label='Validation')\n",
        "plt.legend()\n",
        "plt.xlabel('Epochs')\n",
        "plt.ylabel('Accuracy')\n",
        "plt.xlim(left=0)\n",
        "plt.show()\n",
        "\n",
        "\n",
        "# 모든 파일 가져오기\n",
        "import glob\n",
        "filelist = glob.glob('model/*') #filelist안에 model폴더 안에 있는 모든 파일 저장 -> 데이터 많을 때 이런 방법 사용\n",
        "# 파일 저장할 때 정확도 순으로 저장되기 때문에(그렇게 되도록 이름을 지었다) 가장 마지막에 있는 파일을 가져오면 가장 높은 정확도의 모델을 가져올 수 있다. \n",
        "model.load_weights(filelist[-1]) # 가장 마지막에 있는 모델 가져오기 -> 이를 이용해 예측하는 것이 가장 높은 정확도를 보일 가능성이 크다. "
      ],
      "execution_count": null,
      "outputs": [
        {
          "output_type": "display_data",
          "data": {
            "image/png": "[encoded data removed]",
            "text/plain": [
              "<Figure size 432x288 with 1 Axes>"
            ]
          },
          "metadata": {
            "tags": [],
            "needs_background": "light"
          }
        }
      ]
    },
    {
      "cell_type": "markdown",
      "metadata": {
        "id": "ahlVsW2iCW-U"
      },
      "source": [
        "### Predict"
      ]
    },
    {
      "cell_type": "code",
      "metadata": {
        "id": "APVOW3JAjB-0",
        "colab": {
          "base_uri": "https://localhost:8080/",
          "height": 204
        },
        "outputId": "76102f2a-a20e-4840-c44b-75e4b3688654"
      },
      "source": [
        "# 모델 검증.\n",
        "\n",
        "x_test = test.drop(['id', 'letter'], axis=1).values\n",
        "x_test = x_test.reshape(-1, 28, 28, 1)\n",
        "x_test = x_test/255\n",
        "\n",
        "# weigth_file = glob('model/*.hdf5')[-1] # 체크포인트로 만들었던 모든 파일 가져오고 그 중 가장 마지막 파일(정확도가 높은 파일) 올리기 \n",
        "# model.load_weights(weigth_file)\n",
        "\n",
        "# submission = pd.read_csv('data/submission.csv')\n",
        "submission['digit'] = np.argmax(model.predict(x_test), axis=1)\n",
        "submission.head()"
      ],
      "execution_count": null,
      "outputs": [
        {
          "output_type": "execute_result",
          "data": {
            "text/html": [
              "<div>\n",
              "<style scoped>\n",
              "    .dataframe tbody tr th:only-of-type {\n",
              "        vertical-align: middle;\n",
              "    }\n",
              "\n",
              "    .dataframe tbody tr th {\n",
              "        vertical-align: top;\n",
              "    }\n",
              "\n",
              "    .dataframe thead th {\n",
              "        text-align: right;\n",
              "    }\n",
              "</style>\n",
              "<table border=\"1\" class=\"dataframe\">\n",
              "  <thead>\n",
              "    <tr style=\"text-align: right;\">\n",
              "      <th></th>\n",
              "      <th>id</th>\n",
              "      <th>digit</th>\n",
              "    </tr>\n",
              "  </thead>\n",
              "  <tbody>\n",
              "    <tr>\n",
              "      <th>0</th>\n",
              "      <td>2049</td>\n",
              "      <td>1</td>\n",
              "    </tr>\n",
              "    <tr>\n",
              "      <th>1</th>\n",
              "      <td>2050</td>\n",
              "      <td>1</td>\n",
              "    </tr>\n",
              "    <tr>\n",
              "      <th>2</th>\n",
              "      <td>2051</td>\n",
              "      <td>1</td>\n",
              "    </tr>\n",
              "    <tr>\n",
              "      <th>3</th>\n",
              "      <td>2052</td>\n",
              "      <td>1</td>\n",
              "    </tr>\n",
              "    <tr>\n",
              "      <th>4</th>\n",
              "      <td>2053</td>\n",
              "      <td>1</td>\n",
              "    </tr>\n",
              "  </tbody>\n",
              "</table>\n",
              "</div>"
            ],
            "text/plain": [
              "     id  digit\n",
              "0  2049      1\n",
              "1  2050      1\n",
              "2  2051      1\n",
              "3  2052      1\n",
              "4  2053      1"
            ]
          },
          "metadata": {
            "tags": []
          },
          "execution_count": 25
        }
      ]
    },
    {
      "cell_type": "code",
      "metadata": {
        "id": "gKKyhQTfCW-X"
      },
      "source": [
        "#baseline.csv에 저장\n",
        "submission.to_csv('/content/gdrive/My Drive/Colab Notebooks/mnist_data/baseline.csv', index=False)\n",
        "\n",
        "# 데이콘에서와 값이 다른 이유 : 서로 테스트 데이터 세트가 달라서 그럼. -> 그래도 어느정도 비슷하게 가니 val_accuracy로 보는게 그나마 객관적이라 할 수 있다. "
      ],
      "execution_count": null,
      "outputs": []
    }
  ]
}