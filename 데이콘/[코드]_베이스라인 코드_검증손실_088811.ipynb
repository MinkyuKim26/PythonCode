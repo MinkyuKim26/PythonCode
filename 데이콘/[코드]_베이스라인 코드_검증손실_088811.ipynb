{
 "cells": [
  {
   "cell_type": "markdown",
   "metadata": {
    "id": "F24g5bQ9tViM"
   },
   "source": [
    "# **데이터 불러오기**"
   ]
  },
  {
   "cell_type": "code",
   "execution_count": 1,
   "metadata": {
    "id": "oPx9P4Ifmigv"
   },
   "outputs": [],
   "source": [
    "import os\n",
    "os.chdir('/Users/minguinho/Downloads/헬스 데이터/open')"
   ]
  },
  {
   "cell_type": "code",
   "execution_count": 2,
   "metadata": {
    "id": "TnJ19hrjly-9"
   },
   "outputs": [],
   "source": [
    "import pandas as pd\n",
    "import numpy as np\n",
    "\n",
    "train_features=pd.read_csv('/Users/minguinho/Downloads/헬스 데이터/open/train_features.csv')\n",
    "train_labels=pd.read_csv('/Users/minguinho/Downloads/헬스 데이터/open/train_labels.csv')\n",
    "test=pd.read_csv('/Users/minguinho/Downloads/헬스 데이터/open/test_features.csv')\n",
    "submission=pd.read_csv('/Users/minguinho/Downloads/헬스 데이터/open/sample_submission.csv')"
   ]
  },
  {
   "cell_type": "markdown",
   "metadata": {
    "id": "7QGe_nWyv-rD"
   },
   "source": [
    "# **라이브러리 불러오기**"
   ]
  },
  {
   "cell_type": "code",
   "execution_count": 3,
   "metadata": {
    "id": "6xio1rC1mS3_"
   },
   "outputs": [],
   "source": [
    "import tensorflow as tf\n",
    "from tensorflow.keras.models import Sequential\n",
    "from tensorflow.keras.layers import Dense, LSTM\n",
    "from tqdm import tqdm\n",
    "import random\n",
    "import matplotlib.pyplot as plt"
   ]
  },
  {
   "cell_type": "markdown",
   "metadata": {
    "id": "BtOLgNt7wGpr"
   },
   "source": [
    "# **데이터 수정**"
   ]
  },
  {
   "cell_type": "code",
   "execution_count": 4,
   "metadata": {
    "colab": {
     "base_uri": "https://localhost:8080/"
    },
    "id": "MQ2iPzjtmUn4",
    "outputId": "63acc5c2-8e07-4498-8267-15e029a3d57b"
   },
   "outputs": [
    {
     "output_type": "stream",
     "name": "stderr",
     "text": [
      "100%|██████████| 3125/3125 [00:05<00:00, 528.35it/s]\n",
      "100%|██████████| 782/782 [00:00<00:00, 1179.10it/s]\n"
     ]
    }
   ],
   "source": [
    "# mlcompute.set_mlc_device(device_name='gpu')\n",
    "\n",
    "x_train = []\n",
    "\n",
    "for uid in tqdm(train_features['id'].unique()):\n",
    "    temp = np.array(train_features[train_features['id'] == uid].iloc[:,2:], np.float32).T\n",
    "    x_train.append(temp)\n",
    "\n",
    "x_train = np.array(x_train, np.float32)\n",
    "x_train = x_train[:,:,:,np.newaxis]\n",
    "\n",
    "x_test = []\n",
    "\n",
    "for uid in tqdm(test['id'].unique()):\n",
    "    temp = np.array(test[test['id'] == uid].iloc[:,2:], np.float32).T\n",
    "    x_test.append(temp)\n",
    "\n",
    "x_test = np.array(x_test, np.float32)\n",
    "x_test = x_test[:,:,:,np.newaxis]"
   ]
  },
  {
   "cell_type": "code",
   "execution_count": 5,
   "metadata": {},
   "outputs": [],
   "source": [
    "shift_data = np.roll(x_train, int(random.random()*600), axis=2)\n",
    "shift_data =  shift_data.reshape((-1, 600, 6))\n",
    "x_test =  x_test.reshape((-1, 600, 6))\n",
    "y = tf.keras.utils.to_categorical(train_labels['label']) "
   ]
  },
  {
   "cell_type": "markdown",
   "metadata": {
    "id": "tBE3hZ9BwUFY"
   },
   "source": [
    "# **모델 학습 및 예측**"
   ]
  },
  {
   "cell_type": "code",
   "execution_count": 11,
   "metadata": {
    "id": "BnMFUZxvmZd3"
   },
   "outputs": [],
   "source": [
    "from tensorflow.keras.callbacks import ModelCheckpoint\n",
    "\n",
    "EPOCH = 300\n",
    "BATCH_SIZE = 256\n",
    "\n",
    "filename = 'checkpoint-epoch-{}-batch-{}-trial-001.h5'.format(EPOCH, BATCH_SIZE)\n",
    "checkpoint = ModelCheckpoint(filename,             # file명을 지정합니다\n",
    "                             monitor='val_loss',   # val_loss 값이 개선되었을때 호출됩니다\n",
    "                             verbose=1,            # 로그를 출력합니다\n",
    "                             save_best_only=True,  # 가장 best 값만 저장합니다\n",
    "                             mode='auto'           # auto는 알아서 best를 찾습니다. min/max\n",
    "                            )\n",
    "\n",
    "lr_schedule = tf.keras.callbacks.LearningRateScheduler(\n",
    "    lambda epoch: 5*1e-8 * 10**(epoch / 20))\n",
    "\n",
    "model = tf.keras.Sequential()\n",
    "\n",
    "model.add(tf.keras.layers.Conv1D(filters=32, kernel_size=5, strides=1, padding=\"causal\", activation=\"relu\", input_shape=(600, 6)))\n",
    "model.add(tf.keras.layers.Dropout(0.2))\n",
    "\n",
    "model.add(tf.keras.layers.Bidirectional(tf.keras.layers.LSTM(64, return_sequences=True)))\n",
    "model.add(tf.keras.layers.Bidirectional(tf.keras.layers.LSTM(64, return_sequences=True)))\n",
    "model.add(tf.keras.layers.Bidirectional(tf.keras.layers.LSTM(128)))\n",
    "model.add(tf.keras.layers.Dropout(0.2))\n",
    "model.add(Dense(128, activation='relu'))\n",
    "model.add(tf.keras.layers.Dropout(0.2))\n",
    "model.add(Dense(61, activation='softmax'))\n",
    "\n",
    "\n",
    "optimizer = tf.keras.optimizers.RMSprop(lr = 1e-4)\n",
    "\n",
    "model.compile(optimizer=optimizer, loss='categorical_crossentropy', metrics=['accuracy'])"
   ]
  },
  {
   "cell_type": "code",
   "execution_count": 12,
   "metadata": {},
   "outputs": [
    {
     "output_type": "stream",
     "name": "stdout",
     "text": [
      "Model: \"sequential_2\"\n_________________________________________________________________\nLayer (type)                 Output Shape              Param #   \n=================================================================\nconv1d_2 (Conv1D)            (None, 600, 32)           992       \n_________________________________________________________________\ndropout_6 (Dropout)          (None, 600, 32)           0         \n_________________________________________________________________\nbidirectional_6 (Bidirection (None, 600, 128)          49664     \n_________________________________________________________________\nbidirectional_7 (Bidirection (None, 600, 128)          98816     \n_________________________________________________________________\nbidirectional_8 (Bidirection (None, 256)               263168    \n_________________________________________________________________\ndropout_7 (Dropout)          (None, 256)               0         \n_________________________________________________________________\ndense_4 (Dense)              (None, 128)               32896     \n_________________________________________________________________\ndropout_8 (Dropout)          (None, 128)               0         \n_________________________________________________________________\ndense_5 (Dense)              (None, 61)                7869      \n=================================================================\nTotal params: 453,405\nTrainable params: 453,405\nNon-trainable params: 0\n_________________________________________________________________\n"
     ]
    }
   ],
   "source": [
    "model.summary()"
   ]
  },
  {
   "cell_type": "code",
   "execution_count": 13,
   "metadata": {
    "colab": {
     "base_uri": "https://localhost:8080/"
    },
    "id": "LqrcnKx_mayg",
    "outputId": "1ecb10bf-2466-4d6d-d069-f3c877273cc8",
    "tags": [
     "outputPrepend"
    ]
   },
   "outputs": [
    {
     "output_type": "stream",
     "name": "stdout",
     "text": [
      "[==============================] - 35s 4s/step - loss: 0.7344 - accuracy: 0.7905 - val_loss: 0.9808 - val_accuracy: 0.7296\n",
      "\n",
      "Epoch 00201: val_loss did not improve from 0.93377\n",
      "Epoch 202/300\n",
      "10/10 [==============================] - 34s 3s/step - loss: 0.7107 - accuracy: 0.7906 - val_loss: 0.9133 - val_accuracy: 0.7584\n",
      "\n",
      "Epoch 00202: val_loss improved from 0.93377 to 0.91332, saving model to checkpoint-epoch-300-batch-256-trial-001.h5\n",
      "Epoch 203/300\n",
      "10/10 [==============================] - 35s 4s/step - loss: 0.6940 - accuracy: 0.8000 - val_loss: 0.9130 - val_accuracy: 0.7632\n",
      "\n",
      "Epoch 00203: val_loss improved from 0.91332 to 0.91297, saving model to checkpoint-epoch-300-batch-256-trial-001.h5\n",
      "Epoch 204/300\n",
      "10/10 [==============================] - 35s 4s/step - loss: 0.7265 - accuracy: 0.7950 - val_loss: 0.9923 - val_accuracy: 0.7424\n",
      "\n",
      "Epoch 00204: val_loss did not improve from 0.91297\n",
      "Epoch 205/300\n",
      "10/10 [==============================] - 35s 4s/step - loss: 0.7506 - accuracy: 0.7815 - val_loss: 0.9302 - val_accuracy: 0.7504\n",
      "\n",
      "Epoch 00205: val_loss did not improve from 0.91297\n",
      "Epoch 206/300\n",
      "10/10 [==============================] - 35s 4s/step - loss: 0.7233 - accuracy: 0.7840 - val_loss: 0.9347 - val_accuracy: 0.7520\n",
      "\n",
      "Epoch 00206: val_loss did not improve from 0.91297\n",
      "Epoch 207/300\n",
      "10/10 [==============================] - 35s 3s/step - loss: 0.7395 - accuracy: 0.7907 - val_loss: 0.9449 - val_accuracy: 0.7440\n",
      "\n",
      "Epoch 00207: val_loss did not improve from 0.91297\n",
      "Epoch 208/300\n",
      "10/10 [==============================] - 35s 4s/step - loss: 0.7300 - accuracy: 0.7818 - val_loss: 0.9488 - val_accuracy: 0.7264\n",
      "\n",
      "Epoch 00208: val_loss did not improve from 0.91297\n",
      "Epoch 209/300\n",
      "10/10 [==============================] - 35s 4s/step - loss: 0.7004 - accuracy: 0.7865 - val_loss: 0.9377 - val_accuracy: 0.7520\n",
      "\n",
      "Epoch 00209: val_loss did not improve from 0.91297\n",
      "Epoch 210/300\n",
      "10/10 [==============================] - 35s 4s/step - loss: 0.7184 - accuracy: 0.7853 - val_loss: 0.9643 - val_accuracy: 0.7504\n",
      "\n",
      "Epoch 00210: val_loss did not improve from 0.91297\n",
      "Epoch 211/300\n",
      "10/10 [==============================] - 35s 4s/step - loss: 0.7126 - accuracy: 0.7911 - val_loss: 1.1324 - val_accuracy: 0.7232\n",
      "\n",
      "Epoch 00211: val_loss did not improve from 0.91297\n",
      "Epoch 212/300\n",
      "10/10 [==============================] - 35s 4s/step - loss: 0.8546 - accuracy: 0.7514 - val_loss: 0.9758 - val_accuracy: 0.7296\n",
      "\n",
      "Epoch 00212: val_loss did not improve from 0.91297\n",
      "Epoch 213/300\n",
      "10/10 [==============================] - 35s 4s/step - loss: 0.7758 - accuracy: 0.7690 - val_loss: 0.9363 - val_accuracy: 0.7488\n",
      "\n",
      "Epoch 00213: val_loss did not improve from 0.91297\n",
      "Epoch 214/300\n",
      "10/10 [==============================] - 35s 4s/step - loss: 0.7164 - accuracy: 0.7876 - val_loss: 0.9509 - val_accuracy: 0.7456\n",
      "\n",
      "Epoch 00214: val_loss did not improve from 0.91297\n",
      "Epoch 215/300\n",
      "10/10 [==============================] - 35s 4s/step - loss: 0.7255 - accuracy: 0.7862 - val_loss: 0.9872 - val_accuracy: 0.7312\n",
      "\n",
      "Epoch 00215: val_loss did not improve from 0.91297\n",
      "Epoch 216/300\n",
      "10/10 [==============================] - 35s 4s/step - loss: 0.7161 - accuracy: 0.7901 - val_loss: 1.0138 - val_accuracy: 0.7312\n",
      "\n",
      "Epoch 00216: val_loss did not improve from 0.91297\n",
      "Epoch 217/300\n",
      "10/10 [==============================] - 35s 4s/step - loss: 0.7030 - accuracy: 0.7960 - val_loss: 0.9616 - val_accuracy: 0.7392\n",
      "\n",
      "Epoch 00217: val_loss did not improve from 0.91297\n",
      "Epoch 218/300\n",
      "10/10 [==============================] - 35s 4s/step - loss: 0.6968 - accuracy: 0.8001 - val_loss: 0.9292 - val_accuracy: 0.7504\n",
      "\n",
      "Epoch 00218: val_loss did not improve from 0.91297\n",
      "Epoch 219/300\n",
      "10/10 [==============================] - 35s 3s/step - loss: 0.6992 - accuracy: 0.7917 - val_loss: 0.9387 - val_accuracy: 0.7504\n",
      "\n",
      "Epoch 00219: val_loss did not improve from 0.91297\n",
      "Epoch 220/300\n",
      "10/10 [==============================] - 35s 4s/step - loss: 0.7406 - accuracy: 0.7871 - val_loss: 1.2243 - val_accuracy: 0.6592\n",
      "\n",
      "Epoch 00220: val_loss did not improve from 0.91297\n",
      "Epoch 221/300\n",
      "10/10 [==============================] - 35s 4s/step - loss: 0.7728 - accuracy: 0.7722 - val_loss: 0.9602 - val_accuracy: 0.7328\n",
      "\n",
      "Epoch 00221: val_loss did not improve from 0.91297\n",
      "Epoch 222/300\n",
      "10/10 [==============================] - 35s 4s/step - loss: 0.6854 - accuracy: 0.7982 - val_loss: 1.0086 - val_accuracy: 0.7408\n",
      "\n",
      "Epoch 00222: val_loss did not improve from 0.91297\n",
      "Epoch 223/300\n",
      "10/10 [==============================] - 35s 4s/step - loss: 0.6590 - accuracy: 0.8055 - val_loss: 0.9516 - val_accuracy: 0.7520\n",
      "\n",
      "Epoch 00223: val_loss did not improve from 0.91297\n",
      "Epoch 224/300\n",
      "10/10 [==============================] - 35s 3s/step - loss: 0.7189 - accuracy: 0.7988 - val_loss: 0.9846 - val_accuracy: 0.7440\n",
      "\n",
      "Epoch 00224: val_loss did not improve from 0.91297\n",
      "Epoch 225/300\n",
      "10/10 [==============================] - 35s 4s/step - loss: 0.6774 - accuracy: 0.7967 - val_loss: 0.9518 - val_accuracy: 0.7632\n",
      "\n",
      "Epoch 00225: val_loss did not improve from 0.91297\n",
      "Epoch 226/300\n",
      "10/10 [==============================] - 34s 3s/step - loss: 0.7034 - accuracy: 0.7878 - val_loss: 0.9112 - val_accuracy: 0.7552\n",
      "\n",
      "Epoch 00226: val_loss improved from 0.91297 to 0.91122, saving model to checkpoint-epoch-300-batch-256-trial-001.h5\n",
      "Epoch 227/300\n",
      "10/10 [==============================] - 36s 4s/step - loss: 0.7113 - accuracy: 0.7904 - val_loss: 0.9250 - val_accuracy: 0.7424\n",
      "\n",
      "Epoch 00227: val_loss did not improve from 0.91122\n",
      "Epoch 228/300\n",
      "10/10 [==============================] - 33s 3s/step - loss: 0.6646 - accuracy: 0.8034 - val_loss: 0.9660 - val_accuracy: 0.7424\n",
      "\n",
      "Epoch 00228: val_loss did not improve from 0.91122\n",
      "Epoch 229/300\n",
      "10/10 [==============================] - 33s 3s/step - loss: 0.6352 - accuracy: 0.8125 - val_loss: 0.9867 - val_accuracy: 0.7376\n",
      "\n",
      "Epoch 00229: val_loss did not improve from 0.91122\n",
      "Epoch 230/300\n",
      "10/10 [==============================] - 33s 3s/step - loss: 0.6696 - accuracy: 0.8050 - val_loss: 0.9380 - val_accuracy: 0.7536\n",
      "\n",
      "Epoch 00230: val_loss did not improve from 0.91122\n",
      "Epoch 231/300\n",
      "10/10 [==============================] - 33s 3s/step - loss: 0.6871 - accuracy: 0.8028 - val_loss: 0.9667 - val_accuracy: 0.7536\n",
      "\n",
      "Epoch 00231: val_loss did not improve from 0.91122\n",
      "Epoch 232/300\n",
      "10/10 [==============================] - 33s 3s/step - loss: 0.6667 - accuracy: 0.7944 - val_loss: 0.9445 - val_accuracy: 0.7536\n",
      "\n",
      "Epoch 00232: val_loss did not improve from 0.91122\n",
      "Epoch 233/300\n",
      "10/10 [==============================] - 33s 3s/step - loss: 0.6749 - accuracy: 0.7935 - val_loss: 0.9507 - val_accuracy: 0.7328\n",
      "\n",
      "Epoch 00233: val_loss did not improve from 0.91122\n",
      "Epoch 234/300\n",
      "10/10 [==============================] - 33s 3s/step - loss: 0.6344 - accuracy: 0.8133 - val_loss: 0.9298 - val_accuracy: 0.7472\n",
      "\n",
      "Epoch 00234: val_loss did not improve from 0.91122\n",
      "Epoch 235/300\n",
      "10/10 [==============================] - 33s 3s/step - loss: 0.6308 - accuracy: 0.8111 - val_loss: 1.3224 - val_accuracy: 0.6448\n",
      "\n",
      "Epoch 00235: val_loss did not improve from 0.91122\n",
      "Epoch 236/300\n",
      "10/10 [==============================] - 33s 3s/step - loss: 0.7495 - accuracy: 0.7753 - val_loss: 0.9608 - val_accuracy: 0.7520\n",
      "\n",
      "Epoch 00236: val_loss did not improve from 0.91122\n",
      "Epoch 237/300\n",
      "10/10 [==============================] - 33s 3s/step - loss: 0.5998 - accuracy: 0.8292 - val_loss: 0.9457 - val_accuracy: 0.7520\n",
      "\n",
      "Epoch 00237: val_loss did not improve from 0.91122\n",
      "Epoch 238/300\n",
      "10/10 [==============================] - 32s 3s/step - loss: 0.6601 - accuracy: 0.8090 - val_loss: 1.1184 - val_accuracy: 0.6944\n",
      "\n",
      "Epoch 00238: val_loss did not improve from 0.91122\n",
      "Epoch 239/300\n",
      "10/10 [==============================] - 31s 3s/step - loss: 0.6625 - accuracy: 0.7946 - val_loss: 0.9567 - val_accuracy: 0.7488\n",
      "\n",
      "Epoch 00239: val_loss did not improve from 0.91122\n",
      "Epoch 240/300\n",
      "10/10 [==============================] - 31s 3s/step - loss: 0.6525 - accuracy: 0.7963 - val_loss: 0.9082 - val_accuracy: 0.7472\n",
      "\n",
      "Epoch 00240: val_loss improved from 0.91122 to 0.90819, saving model to checkpoint-epoch-300-batch-256-trial-001.h5\n",
      "Epoch 241/300\n",
      "10/10 [==============================] - 31s 3s/step - loss: 0.6600 - accuracy: 0.7916 - val_loss: 1.0216 - val_accuracy: 0.7328\n",
      "\n",
      "Epoch 00241: val_loss did not improve from 0.90819\n",
      "Epoch 242/300\n",
      "10/10 [==============================] - 31s 3s/step - loss: 0.7242 - accuracy: 0.8000 - val_loss: 0.9155 - val_accuracy: 0.7520\n",
      "\n",
      "Epoch 00242: val_loss did not improve from 0.90819\n",
      "Epoch 243/300\n",
      "10/10 [==============================] - 31s 3s/step - loss: 0.6310 - accuracy: 0.8222 - val_loss: 0.9070 - val_accuracy: 0.7568\n",
      "\n",
      "Epoch 00243: val_loss improved from 0.90819 to 0.90701, saving model to checkpoint-epoch-300-batch-256-trial-001.h5\n",
      "Epoch 244/300\n",
      "10/10 [==============================] - 31s 3s/step - loss: 0.6400 - accuracy: 0.8198 - val_loss: 0.8920 - val_accuracy: 0.7568\n",
      "\n",
      "Epoch 00244: val_loss improved from 0.90701 to 0.89199, saving model to checkpoint-epoch-300-batch-256-trial-001.h5\n",
      "Epoch 245/300\n",
      "10/10 [==============================] - 31s 3s/step - loss: 0.6712 - accuracy: 0.7984 - val_loss: 0.9485 - val_accuracy: 0.7536\n",
      "\n",
      "Epoch 00245: val_loss did not improve from 0.89199\n",
      "Epoch 246/300\n",
      "10/10 [==============================] - 31s 3s/step - loss: 0.6297 - accuracy: 0.8207 - val_loss: 0.9550 - val_accuracy: 0.7328\n",
      "\n",
      "Epoch 00246: val_loss did not improve from 0.89199\n",
      "Epoch 247/300\n",
      "10/10 [==============================] - 31s 3s/step - loss: 0.6352 - accuracy: 0.8241 - val_loss: 0.8889 - val_accuracy: 0.7552\n",
      "\n",
      "Epoch 00247: val_loss improved from 0.89199 to 0.88891, saving model to checkpoint-epoch-300-batch-256-trial-001.h5\n",
      "Epoch 248/300\n",
      "10/10 [==============================] - 31s 3s/step - loss: 0.6489 - accuracy: 0.8112 - val_loss: 0.9049 - val_accuracy: 0.7472\n",
      "\n",
      "Epoch 00248: val_loss did not improve from 0.88891\n",
      "Epoch 249/300\n",
      "10/10 [==============================] - 31s 3s/step - loss: 0.6156 - accuracy: 0.8206 - val_loss: 0.9115 - val_accuracy: 0.7600\n",
      "\n",
      "Epoch 00249: val_loss did not improve from 0.88891\n",
      "Epoch 250/300\n",
      "10/10 [==============================] - 31s 3s/step - loss: 0.6329 - accuracy: 0.8177 - val_loss: 0.9099 - val_accuracy: 0.7600\n",
      "\n",
      "Epoch 00250: val_loss did not improve from 0.88891\n",
      "Epoch 251/300\n",
      "10/10 [==============================] - 31s 3s/step - loss: 0.6271 - accuracy: 0.8118 - val_loss: 1.0060 - val_accuracy: 0.7168\n",
      "\n",
      "Epoch 00251: val_loss did not improve from 0.88891\n",
      "Epoch 252/300\n",
      "10/10 [==============================] - 31s 3s/step - loss: 0.6200 - accuracy: 0.8174 - val_loss: 0.9499 - val_accuracy: 0.7488\n",
      "\n",
      "Epoch 00252: val_loss did not improve from 0.88891\n",
      "Epoch 253/300\n",
      "10/10 [==============================] - 31s 3s/step - loss: 0.6178 - accuracy: 0.8162 - val_loss: 0.9042 - val_accuracy: 0.7536\n",
      "\n",
      "Epoch 00253: val_loss did not improve from 0.88891\n",
      "Epoch 254/300\n",
      "10/10 [==============================] - 31s 3s/step - loss: 0.6472 - accuracy: 0.8006 - val_loss: 0.9563 - val_accuracy: 0.7216\n",
      "\n",
      "Epoch 00254: val_loss did not improve from 0.88891\n",
      "Epoch 255/300\n",
      "10/10 [==============================] - 31s 3s/step - loss: 0.6209 - accuracy: 0.8279 - val_loss: 0.9911 - val_accuracy: 0.7232\n",
      "\n",
      "Epoch 00255: val_loss did not improve from 0.88891\n",
      "Epoch 256/300\n",
      "10/10 [==============================] - 31s 3s/step - loss: 0.6350 - accuracy: 0.8167 - val_loss: 0.9317 - val_accuracy: 0.7536\n",
      "\n",
      "Epoch 00256: val_loss did not improve from 0.88891\n",
      "Epoch 257/300\n",
      "10/10 [==============================] - 31s 3s/step - loss: 0.6414 - accuracy: 0.8219 - val_loss: 0.9198 - val_accuracy: 0.7456\n",
      "\n",
      "Epoch 00257: val_loss did not improve from 0.88891\n",
      "Epoch 258/300\n",
      "10/10 [==============================] - 31s 3s/step - loss: 0.6396 - accuracy: 0.8255 - val_loss: 1.1562 - val_accuracy: 0.6944\n",
      "\n",
      "Epoch 00258: val_loss did not improve from 0.88891\n",
      "Epoch 259/300\n",
      "10/10 [==============================] - 31s 3s/step - loss: 0.6597 - accuracy: 0.7952 - val_loss: 0.9595 - val_accuracy: 0.7408\n",
      "\n",
      "Epoch 00259: val_loss did not improve from 0.88891\n",
      "Epoch 260/300\n",
      "10/10 [==============================] - 31s 3s/step - loss: 0.6182 - accuracy: 0.8188 - val_loss: 0.9357 - val_accuracy: 0.7536\n",
      "\n",
      "Epoch 00260: val_loss did not improve from 0.88891\n",
      "Epoch 261/300\n",
      "10/10 [==============================] - 31s 3s/step - loss: 0.6477 - accuracy: 0.8103 - val_loss: 0.9528 - val_accuracy: 0.7472\n",
      "\n",
      "Epoch 00261: val_loss did not improve from 0.88891\n",
      "Epoch 262/300\n",
      "10/10 [==============================] - 31s 3s/step - loss: 0.6047 - accuracy: 0.8153 - val_loss: 0.9170 - val_accuracy: 0.7440\n",
      "\n",
      "Epoch 00262: val_loss did not improve from 0.88891\n",
      "Epoch 263/300\n",
      "10/10 [==============================] - 31s 3s/step - loss: 0.6047 - accuracy: 0.8219 - val_loss: 1.0975 - val_accuracy: 0.6880\n",
      "\n",
      "Epoch 00263: val_loss did not improve from 0.88891\n",
      "Epoch 264/300\n",
      "10/10 [==============================] - 31s 3s/step - loss: 0.8274 - accuracy: 0.7648 - val_loss: 0.8959 - val_accuracy: 0.7456\n",
      "\n",
      "Epoch 00264: val_loss did not improve from 0.88891\n",
      "Epoch 265/300\n",
      "10/10 [==============================] - 31s 3s/step - loss: 0.6208 - accuracy: 0.8198 - val_loss: 0.9045 - val_accuracy: 0.7488\n",
      "\n",
      "Epoch 00265: val_loss did not improve from 0.88891\n",
      "Epoch 266/300\n",
      "10/10 [==============================] - 31s 3s/step - loss: 0.5971 - accuracy: 0.8189 - val_loss: 0.9070 - val_accuracy: 0.7520\n",
      "\n",
      "Epoch 00266: val_loss did not improve from 0.88891\n",
      "Epoch 267/300\n",
      "10/10 [==============================] - 31s 3s/step - loss: 0.6010 - accuracy: 0.8228 - val_loss: 1.0877 - val_accuracy: 0.7200\n",
      "\n",
      "Epoch 00267: val_loss did not improve from 0.88891\n",
      "Epoch 268/300\n",
      "10/10 [==============================] - 31s 3s/step - loss: 0.6750 - accuracy: 0.7918 - val_loss: 0.9129 - val_accuracy: 0.7568\n",
      "\n",
      "Epoch 00268: val_loss did not improve from 0.88891\n",
      "Epoch 269/300\n",
      "10/10 [==============================] - 31s 3s/step - loss: 0.5820 - accuracy: 0.8282 - val_loss: 0.9521 - val_accuracy: 0.7648\n",
      "\n",
      "Epoch 00269: val_loss did not improve from 0.88891\n",
      "Epoch 270/300\n",
      "10/10 [==============================] - 31s 3s/step - loss: 0.6087 - accuracy: 0.8243 - val_loss: 0.9383 - val_accuracy: 0.7424\n",
      "\n",
      "Epoch 00270: val_loss did not improve from 0.88891\n",
      "Epoch 271/300\n",
      "10/10 [==============================] - 31s 3s/step - loss: 0.5712 - accuracy: 0.8410 - val_loss: 0.9064 - val_accuracy: 0.7536\n",
      "\n",
      "Epoch 00271: val_loss did not improve from 0.88891\n",
      "Epoch 272/300\n",
      "10/10 [==============================] - 31s 3s/step - loss: 0.5746 - accuracy: 0.8277 - val_loss: 0.9367 - val_accuracy: 0.7536\n",
      "\n",
      "Epoch 00272: val_loss did not improve from 0.88891\n",
      "Epoch 273/300\n",
      "10/10 [==============================] - 31s 3s/step - loss: 0.5819 - accuracy: 0.8297 - val_loss: 0.9464 - val_accuracy: 0.7408\n",
      "\n",
      "Epoch 00273: val_loss did not improve from 0.88891\n",
      "Epoch 274/300\n",
      "10/10 [==============================] - 31s 3s/step - loss: 0.5720 - accuracy: 0.8401 - val_loss: 0.8931 - val_accuracy: 0.7440\n",
      "\n",
      "Epoch 00274: val_loss did not improve from 0.88891\n",
      "Epoch 275/300\n",
      "10/10 [==============================] - 31s 3s/step - loss: 0.5656 - accuracy: 0.8309 - val_loss: 0.9084 - val_accuracy: 0.7648\n",
      "\n",
      "Epoch 00275: val_loss did not improve from 0.88891\n",
      "Epoch 276/300\n",
      "10/10 [==============================] - 31s 3s/step - loss: 0.5799 - accuracy: 0.8253 - val_loss: 0.9041 - val_accuracy: 0.7536\n",
      "\n",
      "Epoch 00276: val_loss did not improve from 0.88891\n",
      "Epoch 277/300\n",
      "10/10 [==============================] - 31s 3s/step - loss: 0.5723 - accuracy: 0.8300 - val_loss: 0.9187 - val_accuracy: 0.7456\n",
      "\n",
      "Epoch 00277: val_loss did not improve from 0.88891\n",
      "Epoch 278/300\n",
      "10/10 [==============================] - 31s 3s/step - loss: 0.6397 - accuracy: 0.8107 - val_loss: 0.9192 - val_accuracy: 0.7376\n",
      "\n",
      "Epoch 00278: val_loss did not improve from 0.88891\n",
      "Epoch 279/300\n",
      "10/10 [==============================] - 31s 3s/step - loss: 0.5789 - accuracy: 0.8355 - val_loss: 0.9353 - val_accuracy: 0.7584\n",
      "\n",
      "Epoch 00279: val_loss did not improve from 0.88891\n",
      "Epoch 280/300\n",
      "10/10 [==============================] - 31s 3s/step - loss: 0.5361 - accuracy: 0.8452 - val_loss: 0.9588 - val_accuracy: 0.7648\n",
      "\n",
      "Epoch 00280: val_loss did not improve from 0.88891\n",
      "Epoch 281/300\n",
      "10/10 [==============================] - 31s 3s/step - loss: 0.5643 - accuracy: 0.8351 - val_loss: 0.9794 - val_accuracy: 0.7440\n",
      "\n",
      "Epoch 00281: val_loss did not improve from 0.88891\n",
      "Epoch 282/300\n",
      "10/10 [==============================] - 31s 3s/step - loss: 0.5989 - accuracy: 0.8264 - val_loss: 0.9285 - val_accuracy: 0.7488\n",
      "\n",
      "Epoch 00282: val_loss did not improve from 0.88891\n",
      "Epoch 283/300\n",
      "10/10 [==============================] - 31s 3s/step - loss: 0.5624 - accuracy: 0.8303 - val_loss: 0.9233 - val_accuracy: 0.7584\n",
      "\n",
      "Epoch 00283: val_loss did not improve from 0.88891\n",
      "Epoch 284/300\n",
      "10/10 [==============================] - 31s 3s/step - loss: 0.5840 - accuracy: 0.8226 - val_loss: 0.9448 - val_accuracy: 0.7488\n",
      "\n",
      "Epoch 00284: val_loss did not improve from 0.88891\n",
      "Epoch 285/300\n",
      "10/10 [==============================] - 31s 3s/step - loss: 0.5847 - accuracy: 0.8227 - val_loss: 0.9351 - val_accuracy: 0.7616\n",
      "\n",
      "Epoch 00285: val_loss did not improve from 0.88891\n",
      "Epoch 286/300\n",
      "10/10 [==============================] - 31s 3s/step - loss: 0.5704 - accuracy: 0.8323 - val_loss: 0.9093 - val_accuracy: 0.7568\n",
      "\n",
      "Epoch 00286: val_loss did not improve from 0.88891\n",
      "Epoch 287/300\n",
      "10/10 [==============================] - 31s 3s/step - loss: 0.5582 - accuracy: 0.8427 - val_loss: 0.9344 - val_accuracy: 0.7680\n",
      "\n",
      "Epoch 00287: val_loss did not improve from 0.88891\n",
      "Epoch 288/300\n",
      "10/10 [==============================] - 31s 3s/step - loss: 0.5651 - accuracy: 0.8291 - val_loss: 0.9381 - val_accuracy: 0.7504\n",
      "\n",
      "Epoch 00288: val_loss did not improve from 0.88891\n",
      "Epoch 289/300\n",
      "10/10 [==============================] - 31s 3s/step - loss: 0.5656 - accuracy: 0.8334 - val_loss: 0.9106 - val_accuracy: 0.7632\n",
      "\n",
      "Epoch 00289: val_loss did not improve from 0.88891\n",
      "Epoch 290/300\n",
      "10/10 [==============================] - 31s 3s/step - loss: 0.5358 - accuracy: 0.8394 - val_loss: 0.9455 - val_accuracy: 0.7648\n",
      "\n",
      "Epoch 00290: val_loss did not improve from 0.88891\n",
      "Epoch 291/300\n",
      "10/10 [==============================] - 31s 3s/step - loss: 0.5285 - accuracy: 0.8486 - val_loss: 1.1712 - val_accuracy: 0.6832\n",
      "\n",
      "Epoch 00291: val_loss did not improve from 0.88891\n",
      "Epoch 292/300\n",
      "10/10 [==============================] - 31s 3s/step - loss: 0.6033 - accuracy: 0.8196 - val_loss: 0.9454 - val_accuracy: 0.7520\n",
      "\n",
      "Epoch 00292: val_loss did not improve from 0.88891\n",
      "Epoch 293/300\n",
      "10/10 [==============================] - 31s 3s/step - loss: 0.5587 - accuracy: 0.8372 - val_loss: 0.9653 - val_accuracy: 0.7648\n",
      "\n",
      "Epoch 00293: val_loss did not improve from 0.88891\n",
      "Epoch 294/300\n",
      "10/10 [==============================] - 32s 3s/step - loss: 0.5760 - accuracy: 0.8199 - val_loss: 0.9082 - val_accuracy: 0.7552\n",
      "\n",
      "Epoch 00294: val_loss did not improve from 0.88891\n",
      "Epoch 295/300\n",
      "10/10 [==============================] - 33s 3s/step - loss: 0.5711 - accuracy: 0.8306 - val_loss: 0.9483 - val_accuracy: 0.7504\n",
      "\n",
      "Epoch 00295: val_loss did not improve from 0.88891\n",
      "Epoch 296/300\n",
      "10/10 [==============================] - 32s 3s/step - loss: 0.5237 - accuracy: 0.8383 - val_loss: 0.9616 - val_accuracy: 0.7488\n",
      "\n",
      "Epoch 00296: val_loss did not improve from 0.88891\n",
      "Epoch 297/300\n",
      "10/10 [==============================] - 32s 3s/step - loss: 0.5526 - accuracy: 0.8331 - val_loss: 0.9336 - val_accuracy: 0.7632\n",
      "\n",
      "Epoch 00297: val_loss did not improve from 0.88891\n",
      "Epoch 298/300\n",
      "10/10 [==============================] - 32s 3s/step - loss: 0.5383 - accuracy: 0.8365 - val_loss: 0.9203 - val_accuracy: 0.7680\n",
      "\n",
      "Epoch 00298: val_loss did not improve from 0.88891\n",
      "Epoch 299/300\n",
      "10/10 [==============================] - 32s 3s/step - loss: 0.6022 - accuracy: 0.8340 - val_loss: 0.8881 - val_accuracy: 0.7680\n",
      "\n",
      "Epoch 00299: val_loss improved from 0.88891 to 0.88811, saving model to checkpoint-epoch-300-batch-256-trial-001.h5\n",
      "Epoch 300/300\n",
      "10/10 [==============================] - 32s 3s/step - loss: 0.5025 - accuracy: 0.8485 - val_loss: 0.9275 - val_accuracy: 0.7680\n",
      "\n",
      "Epoch 00300: val_loss did not improve from 0.88811\n"
     ]
    }
   ],
   "source": [
    "history = model.fit(shift_data, y, epochs=EPOCH, batch_size=BATCH_SIZE, validation_split=0.2, callbacks=[checkpoint])"
   ]
  },
  {
   "cell_type": "code",
   "execution_count": 127,
   "metadata": {},
   "outputs": [
    {
     "output_type": "execute_result",
     "data": {
      "text/plain": [
       "(1e-08, 0.1, 0.0, 10.0)"
      ]
     },
     "metadata": {},
     "execution_count": 127
    },
    {
     "output_type": "display_data",
     "data": {
      "text/plain": "<Figure size 432x288 with 1 Axes>",
      "image/svg+xml": "<?xml version=\"1.0\" encoding=\"utf-8\" standalone=\"no\"?>\n<!DOCTYPE svg PUBLIC \"-//W3C//DTD SVG 1.1//EN\"\n  \"http://www.w3.org/Graphics/SVG/1.1/DTD/svg11.dtd\">\n<!-- Created with matplotlib (https://matplotlib.org/) -->\n<svg height=\"252.317344pt\" version=\"1.1\" viewBox=\"0 0 380.675 252.317344\" width=\"380.675pt\" xmlns=\"http://www.w3.org/2000/svg\" xmlns:xlink=\"http://www.w3.org/1999/xlink\">\n <metadata>\n  <rdf:RDF xmlns:cc=\"http://creativecommons.org/ns#\" xmlns:dc=\"http://purl.org/dc/elements/1.1/\" xmlns:rdf=\"http://www.w3.org/1999/02/22-rdf-syntax-ns#\">\n   <cc:Work>\n    <dc:type rdf:resource=\"http://purl.org/dc/dcmitype/StillImage\"/>\n    <dc:date>2021-02-02T15:52:55.462477</dc:date>\n    <dc:format>image/svg+xml</dc:format>\n    <dc:creator>\n     <cc:Agent>\n      <dc:title>Matplotlib v3.3.2, https://matplotlib.org/</dc:title>\n     </cc:Agent>\n    </dc:creator>\n   </cc:Work>\n  </rdf:RDF>\n </metadata>\n <defs>\n  <style type=\"text/css\">*{stroke-linecap:butt;stroke-linejoin:round;}</style>\n </defs>\n <g id=\"figure_1\">\n  <g id=\"patch_1\">\n   <path d=\"M -0 252.317344 \nL 380.675 252.317344 \nL 380.675 0 \nL -0 0 \nz\n\" style=\"fill:none;\"/>\n  </g>\n  <g id=\"axes_1\">\n   <g id=\"patch_2\">\n    <path d=\"M 26.925 228.439219 \nL 361.725 228.439219 \nL 361.725 10.999219 \nL 26.925 10.999219 \nz\n\" style=\"fill:#ffffff;\"/>\n   </g>\n   <g id=\"matplotlib.axis_1\">\n    <g id=\"xtick_1\">\n     <g id=\"line2d_1\">\n      <defs>\n       <path d=\"M 0 0 \nL 0 3.5 \n\" id=\"mea6adf756b\" style=\"stroke:#000000;stroke-width:0.8;\"/>\n      </defs>\n      <g>\n       <use style=\"stroke:#000000;stroke-width:0.8;\" x=\"26.925\" xlink:href=\"#mea6adf756b\" y=\"228.439219\"/>\n      </g>\n     </g>\n     <g id=\"text_1\">\n      <!-- $\\mathdefault{10^{-8}}$ -->\n      <g transform=\"translate(15.175 243.037656)scale(0.1 -0.1)\">\n       <defs>\n        <path d=\"M 12.40625 8.296875 \nL 28.515625 8.296875 \nL 28.515625 63.921875 \nL 10.984375 60.40625 \nL 10.984375 69.390625 \nL 28.421875 72.90625 \nL 38.28125 72.90625 \nL 38.28125 8.296875 \nL 54.390625 8.296875 \nL 54.390625 0 \nL 12.40625 0 \nz\n\" id=\"DejaVuSans-49\"/>\n        <path d=\"M 31.78125 66.40625 \nQ 24.171875 66.40625 20.328125 58.90625 \nQ 16.5 51.421875 16.5 36.375 \nQ 16.5 21.390625 20.328125 13.890625 \nQ 24.171875 6.390625 31.78125 6.390625 \nQ 39.453125 6.390625 43.28125 13.890625 \nQ 47.125 21.390625 47.125 36.375 \nQ 47.125 51.421875 43.28125 58.90625 \nQ 39.453125 66.40625 31.78125 66.40625 \nz\nM 31.78125 74.21875 \nQ 44.046875 74.21875 50.515625 64.515625 \nQ 56.984375 54.828125 56.984375 36.375 \nQ 56.984375 17.96875 50.515625 8.265625 \nQ 44.046875 -1.421875 31.78125 -1.421875 \nQ 19.53125 -1.421875 13.0625 8.265625 \nQ 6.59375 17.96875 6.59375 36.375 \nQ 6.59375 54.828125 13.0625 64.515625 \nQ 19.53125 74.21875 31.78125 74.21875 \nz\n\" id=\"DejaVuSans-48\"/>\n        <path d=\"M 10.59375 35.5 \nL 73.1875 35.5 \nL 73.1875 27.203125 \nL 10.59375 27.203125 \nz\n\" id=\"DejaVuSans-8722\"/>\n        <path d=\"M 31.78125 34.625 \nQ 24.75 34.625 20.71875 30.859375 \nQ 16.703125 27.09375 16.703125 20.515625 \nQ 16.703125 13.921875 20.71875 10.15625 \nQ 24.75 6.390625 31.78125 6.390625 \nQ 38.8125 6.390625 42.859375 10.171875 \nQ 46.921875 13.96875 46.921875 20.515625 \nQ 46.921875 27.09375 42.890625 30.859375 \nQ 38.875 34.625 31.78125 34.625 \nz\nM 21.921875 38.8125 \nQ 15.578125 40.375 12.03125 44.71875 \nQ 8.5 49.078125 8.5 55.328125 \nQ 8.5 64.0625 14.71875 69.140625 \nQ 20.953125 74.21875 31.78125 74.21875 \nQ 42.671875 74.21875 48.875 69.140625 \nQ 55.078125 64.0625 55.078125 55.328125 \nQ 55.078125 49.078125 51.53125 44.71875 \nQ 48 40.375 41.703125 38.8125 \nQ 48.828125 37.15625 52.796875 32.3125 \nQ 56.78125 27.484375 56.78125 20.515625 \nQ 56.78125 9.90625 50.3125 4.234375 \nQ 43.84375 -1.421875 31.78125 -1.421875 \nQ 19.734375 -1.421875 13.25 4.234375 \nQ 6.78125 9.90625 6.78125 20.515625 \nQ 6.78125 27.484375 10.78125 32.3125 \nQ 14.796875 37.15625 21.921875 38.8125 \nz\nM 18.3125 54.390625 \nQ 18.3125 48.734375 21.84375 45.5625 \nQ 25.390625 42.390625 31.78125 42.390625 \nQ 38.140625 42.390625 41.71875 45.5625 \nQ 45.3125 48.734375 45.3125 54.390625 \nQ 45.3125 60.0625 41.71875 63.234375 \nQ 38.140625 66.40625 31.78125 66.40625 \nQ 25.390625 66.40625 21.84375 63.234375 \nQ 18.3125 60.0625 18.3125 54.390625 \nz\n\" id=\"DejaVuSans-56\"/>\n       </defs>\n       <use transform=\"translate(0 0.765625)\" xlink:href=\"#DejaVuSans-49\"/>\n       <use transform=\"translate(63.623047 0.765625)\" xlink:href=\"#DejaVuSans-48\"/>\n       <use transform=\"translate(128.203125 39.046875)scale(0.7)\" xlink:href=\"#DejaVuSans-8722\"/>\n       <use transform=\"translate(186.855469 39.046875)scale(0.7)\" xlink:href=\"#DejaVuSans-56\"/>\n      </g>\n     </g>\n    </g>\n    <g id=\"xtick_2\">\n     <g id=\"line2d_2\">\n      <g>\n       <use style=\"stroke:#000000;stroke-width:0.8;\" x=\"74.753571\" xlink:href=\"#mea6adf756b\" y=\"228.439219\"/>\n      </g>\n     </g>\n     <g id=\"text_2\">\n      <!-- $\\mathdefault{10^{-7}}$ -->\n      <g transform=\"translate(63.003571 243.037656)scale(0.1 -0.1)\">\n       <defs>\n        <path d=\"M 8.203125 72.90625 \nL 55.078125 72.90625 \nL 55.078125 68.703125 \nL 28.609375 0 \nL 18.3125 0 \nL 43.21875 64.59375 \nL 8.203125 64.59375 \nz\n\" id=\"DejaVuSans-55\"/>\n       </defs>\n       <use transform=\"translate(0 0.684375)\" xlink:href=\"#DejaVuSans-49\"/>\n       <use transform=\"translate(63.623047 0.684375)\" xlink:href=\"#DejaVuSans-48\"/>\n       <use transform=\"translate(128.203125 38.965625)scale(0.7)\" xlink:href=\"#DejaVuSans-8722\"/>\n       <use transform=\"translate(186.855469 38.965625)scale(0.7)\" xlink:href=\"#DejaVuSans-55\"/>\n      </g>\n     </g>\n    </g>\n    <g id=\"xtick_3\">\n     <g id=\"line2d_3\">\n      <g>\n       <use style=\"stroke:#000000;stroke-width:0.8;\" x=\"122.582143\" xlink:href=\"#mea6adf756b\" y=\"228.439219\"/>\n      </g>\n     </g>\n     <g id=\"text_3\">\n      <!-- $\\mathdefault{10^{-6}}$ -->\n      <g transform=\"translate(110.832143 243.037656)scale(0.1 -0.1)\">\n       <defs>\n        <path d=\"M 33.015625 40.375 \nQ 26.375 40.375 22.484375 35.828125 \nQ 18.609375 31.296875 18.609375 23.390625 \nQ 18.609375 15.53125 22.484375 10.953125 \nQ 26.375 6.390625 33.015625 6.390625 \nQ 39.65625 6.390625 43.53125 10.953125 \nQ 47.40625 15.53125 47.40625 23.390625 \nQ 47.40625 31.296875 43.53125 35.828125 \nQ 39.65625 40.375 33.015625 40.375 \nz\nM 52.59375 71.296875 \nL 52.59375 62.3125 \nQ 48.875 64.0625 45.09375 64.984375 \nQ 41.3125 65.921875 37.59375 65.921875 \nQ 27.828125 65.921875 22.671875 59.328125 \nQ 17.53125 52.734375 16.796875 39.40625 \nQ 19.671875 43.65625 24.015625 45.921875 \nQ 28.375 48.1875 33.59375 48.1875 \nQ 44.578125 48.1875 50.953125 41.515625 \nQ 57.328125 34.859375 57.328125 23.390625 \nQ 57.328125 12.15625 50.6875 5.359375 \nQ 44.046875 -1.421875 33.015625 -1.421875 \nQ 20.359375 -1.421875 13.671875 8.265625 \nQ 6.984375 17.96875 6.984375 36.375 \nQ 6.984375 53.65625 15.1875 63.9375 \nQ 23.390625 74.21875 37.203125 74.21875 \nQ 40.921875 74.21875 44.703125 73.484375 \nQ 48.484375 72.75 52.59375 71.296875 \nz\n\" id=\"DejaVuSans-54\"/>\n       </defs>\n       <use transform=\"translate(0 0.765625)\" xlink:href=\"#DejaVuSans-49\"/>\n       <use transform=\"translate(63.623047 0.765625)\" xlink:href=\"#DejaVuSans-48\"/>\n       <use transform=\"translate(128.203125 39.046875)scale(0.7)\" xlink:href=\"#DejaVuSans-8722\"/>\n       <use transform=\"translate(186.855469 39.046875)scale(0.7)\" xlink:href=\"#DejaVuSans-54\"/>\n      </g>\n     </g>\n    </g>\n    <g id=\"xtick_4\">\n     <g id=\"line2d_4\">\n      <g>\n       <use style=\"stroke:#000000;stroke-width:0.8;\" x=\"170.410714\" xlink:href=\"#mea6adf756b\" y=\"228.439219\"/>\n      </g>\n     </g>\n     <g id=\"text_4\">\n      <!-- $\\mathdefault{10^{-5}}$ -->\n      <g transform=\"translate(158.660714 243.037656)scale(0.1 -0.1)\">\n       <defs>\n        <path d=\"M 10.796875 72.90625 \nL 49.515625 72.90625 \nL 49.515625 64.59375 \nL 19.828125 64.59375 \nL 19.828125 46.734375 \nQ 21.96875 47.46875 24.109375 47.828125 \nQ 26.265625 48.1875 28.421875 48.1875 \nQ 40.625 48.1875 47.75 41.5 \nQ 54.890625 34.8125 54.890625 23.390625 \nQ 54.890625 11.625 47.5625 5.09375 \nQ 40.234375 -1.421875 26.90625 -1.421875 \nQ 22.3125 -1.421875 17.546875 -0.640625 \nQ 12.796875 0.140625 7.71875 1.703125 \nL 7.71875 11.625 \nQ 12.109375 9.234375 16.796875 8.0625 \nQ 21.484375 6.890625 26.703125 6.890625 \nQ 35.15625 6.890625 40.078125 11.328125 \nQ 45.015625 15.765625 45.015625 23.390625 \nQ 45.015625 31 40.078125 35.4375 \nQ 35.15625 39.890625 26.703125 39.890625 \nQ 22.75 39.890625 18.8125 39.015625 \nQ 14.890625 38.140625 10.796875 36.28125 \nz\n\" id=\"DejaVuSans-53\"/>\n       </defs>\n       <use transform=\"translate(0 0.684375)\" xlink:href=\"#DejaVuSans-49\"/>\n       <use transform=\"translate(63.623047 0.684375)\" xlink:href=\"#DejaVuSans-48\"/>\n       <use transform=\"translate(128.203125 38.965625)scale(0.7)\" xlink:href=\"#DejaVuSans-8722\"/>\n       <use transform=\"translate(186.855469 38.965625)scale(0.7)\" xlink:href=\"#DejaVuSans-53\"/>\n      </g>\n     </g>\n    </g>\n    <g id=\"xtick_5\">\n     <g id=\"line2d_5\">\n      <g>\n       <use style=\"stroke:#000000;stroke-width:0.8;\" x=\"218.239286\" xlink:href=\"#mea6adf756b\" y=\"228.439219\"/>\n      </g>\n     </g>\n     <g id=\"text_5\">\n      <!-- $\\mathdefault{10^{-4}}$ -->\n      <g transform=\"translate(206.489286 243.037656)scale(0.1 -0.1)\">\n       <defs>\n        <path d=\"M 37.796875 64.3125 \nL 12.890625 25.390625 \nL 37.796875 25.390625 \nz\nM 35.203125 72.90625 \nL 47.609375 72.90625 \nL 47.609375 25.390625 \nL 58.015625 25.390625 \nL 58.015625 17.1875 \nL 47.609375 17.1875 \nL 47.609375 0 \nL 37.796875 0 \nL 37.796875 17.1875 \nL 4.890625 17.1875 \nL 4.890625 26.703125 \nz\n\" id=\"DejaVuSans-52\"/>\n       </defs>\n       <use transform=\"translate(0 0.684375)\" xlink:href=\"#DejaVuSans-49\"/>\n       <use transform=\"translate(63.623047 0.684375)\" xlink:href=\"#DejaVuSans-48\"/>\n       <use transform=\"translate(128.203125 38.965625)scale(0.7)\" xlink:href=\"#DejaVuSans-8722\"/>\n       <use transform=\"translate(186.855469 38.965625)scale(0.7)\" xlink:href=\"#DejaVuSans-52\"/>\n      </g>\n     </g>\n    </g>\n    <g id=\"xtick_6\">\n     <g id=\"line2d_6\">\n      <g>\n       <use style=\"stroke:#000000;stroke-width:0.8;\" x=\"266.067857\" xlink:href=\"#mea6adf756b\" y=\"228.439219\"/>\n      </g>\n     </g>\n     <g id=\"text_6\">\n      <!-- $\\mathdefault{10^{-3}}$ -->\n      <g transform=\"translate(254.317857 243.037656)scale(0.1 -0.1)\">\n       <defs>\n        <path d=\"M 40.578125 39.3125 \nQ 47.65625 37.796875 51.625 33 \nQ 55.609375 28.21875 55.609375 21.1875 \nQ 55.609375 10.40625 48.1875 4.484375 \nQ 40.765625 -1.421875 27.09375 -1.421875 \nQ 22.515625 -1.421875 17.65625 -0.515625 \nQ 12.796875 0.390625 7.625 2.203125 \nL 7.625 11.71875 \nQ 11.71875 9.328125 16.59375 8.109375 \nQ 21.484375 6.890625 26.8125 6.890625 \nQ 36.078125 6.890625 40.9375 10.546875 \nQ 45.796875 14.203125 45.796875 21.1875 \nQ 45.796875 27.640625 41.28125 31.265625 \nQ 36.765625 34.90625 28.71875 34.90625 \nL 20.21875 34.90625 \nL 20.21875 43.015625 \nL 29.109375 43.015625 \nQ 36.375 43.015625 40.234375 45.921875 \nQ 44.09375 48.828125 44.09375 54.296875 \nQ 44.09375 59.90625 40.109375 62.90625 \nQ 36.140625 65.921875 28.71875 65.921875 \nQ 24.65625 65.921875 20.015625 65.03125 \nQ 15.375 64.15625 9.8125 62.3125 \nL 9.8125 71.09375 \nQ 15.4375 72.65625 20.34375 73.4375 \nQ 25.25 74.21875 29.59375 74.21875 \nQ 40.828125 74.21875 47.359375 69.109375 \nQ 53.90625 64.015625 53.90625 55.328125 \nQ 53.90625 49.265625 50.4375 45.09375 \nQ 46.96875 40.921875 40.578125 39.3125 \nz\n\" id=\"DejaVuSans-51\"/>\n       </defs>\n       <use transform=\"translate(0 0.765625)\" xlink:href=\"#DejaVuSans-49\"/>\n       <use transform=\"translate(63.623047 0.765625)\" xlink:href=\"#DejaVuSans-48\"/>\n       <use transform=\"translate(128.203125 39.046875)scale(0.7)\" xlink:href=\"#DejaVuSans-8722\"/>\n       <use transform=\"translate(186.855469 39.046875)scale(0.7)\" xlink:href=\"#DejaVuSans-51\"/>\n      </g>\n     </g>\n    </g>\n    <g id=\"xtick_7\">\n     <g id=\"line2d_7\">\n      <g>\n       <use style=\"stroke:#000000;stroke-width:0.8;\" x=\"313.896429\" xlink:href=\"#mea6adf756b\" y=\"228.439219\"/>\n      </g>\n     </g>\n     <g id=\"text_7\">\n      <!-- $\\mathdefault{10^{-2}}$ -->\n      <g transform=\"translate(302.146429 243.037656)scale(0.1 -0.1)\">\n       <defs>\n        <path d=\"M 19.1875 8.296875 \nL 53.609375 8.296875 \nL 53.609375 0 \nL 7.328125 0 \nL 7.328125 8.296875 \nQ 12.9375 14.109375 22.625 23.890625 \nQ 32.328125 33.6875 34.8125 36.53125 \nQ 39.546875 41.84375 41.421875 45.53125 \nQ 43.3125 49.21875 43.3125 52.78125 \nQ 43.3125 58.59375 39.234375 62.25 \nQ 35.15625 65.921875 28.609375 65.921875 \nQ 23.96875 65.921875 18.8125 64.3125 \nQ 13.671875 62.703125 7.8125 59.421875 \nL 7.8125 69.390625 \nQ 13.765625 71.78125 18.9375 73 \nQ 24.125 74.21875 28.421875 74.21875 \nQ 39.75 74.21875 46.484375 68.546875 \nQ 53.21875 62.890625 53.21875 53.421875 \nQ 53.21875 48.921875 51.53125 44.890625 \nQ 49.859375 40.875 45.40625 35.40625 \nQ 44.1875 33.984375 37.640625 27.21875 \nQ 31.109375 20.453125 19.1875 8.296875 \nz\n\" id=\"DejaVuSans-50\"/>\n       </defs>\n       <use transform=\"translate(0 0.765625)\" xlink:href=\"#DejaVuSans-49\"/>\n       <use transform=\"translate(63.623047 0.765625)\" xlink:href=\"#DejaVuSans-48\"/>\n       <use transform=\"translate(128.203125 39.046875)scale(0.7)\" xlink:href=\"#DejaVuSans-8722\"/>\n       <use transform=\"translate(186.855469 39.046875)scale(0.7)\" xlink:href=\"#DejaVuSans-50\"/>\n      </g>\n     </g>\n    </g>\n    <g id=\"xtick_8\">\n     <g id=\"line2d_8\">\n      <g>\n       <use style=\"stroke:#000000;stroke-width:0.8;\" x=\"361.725\" xlink:href=\"#mea6adf756b\" y=\"228.439219\"/>\n      </g>\n     </g>\n     <g id=\"text_8\">\n      <!-- $\\mathdefault{10^{-1}}$ -->\n      <g transform=\"translate(349.975 243.037656)scale(0.1 -0.1)\">\n       <use transform=\"translate(0 0.684375)\" xlink:href=\"#DejaVuSans-49\"/>\n       <use transform=\"translate(63.623047 0.684375)\" xlink:href=\"#DejaVuSans-48\"/>\n       <use transform=\"translate(128.203125 38.965625)scale(0.7)\" xlink:href=\"#DejaVuSans-8722\"/>\n       <use transform=\"translate(186.855469 38.965625)scale(0.7)\" xlink:href=\"#DejaVuSans-49\"/>\n      </g>\n     </g>\n    </g>\n    <g id=\"xtick_9\">\n     <g id=\"line2d_9\">\n      <defs>\n       <path d=\"M 0 0 \nL 0 2 \n\" id=\"mcfd56a1013\" style=\"stroke:#000000;stroke-width:0.6;\"/>\n      </defs>\n      <g>\n       <use style=\"stroke:#000000;stroke-width:0.6;\" x=\"41.322835\" xlink:href=\"#mcfd56a1013\" y=\"228.439219\"/>\n      </g>\n     </g>\n    </g>\n    <g id=\"xtick_10\">\n     <g id=\"line2d_10\">\n      <g>\n       <use style=\"stroke:#000000;stroke-width:0.6;\" x=\"49.745028\" xlink:href=\"#mcfd56a1013\" y=\"228.439219\"/>\n      </g>\n     </g>\n    </g>\n    <g id=\"xtick_11\">\n     <g id=\"line2d_11\">\n      <g>\n       <use style=\"stroke:#000000;stroke-width:0.6;\" x=\"55.720669\" xlink:href=\"#mcfd56a1013\" y=\"228.439219\"/>\n      </g>\n     </g>\n    </g>\n    <g id=\"xtick_12\">\n     <g id=\"line2d_12\">\n      <g>\n       <use style=\"stroke:#000000;stroke-width:0.6;\" x=\"60.355737\" xlink:href=\"#mcfd56a1013\" y=\"228.439219\"/>\n      </g>\n     </g>\n    </g>\n    <g id=\"xtick_13\">\n     <g id=\"line2d_13\">\n      <g>\n       <use style=\"stroke:#000000;stroke-width:0.6;\" x=\"64.142863\" xlink:href=\"#mcfd56a1013\" y=\"228.439219\"/>\n      </g>\n     </g>\n    </g>\n    <g id=\"xtick_14\">\n     <g id=\"line2d_14\">\n      <g>\n       <use style=\"stroke:#000000;stroke-width:0.6;\" x=\"67.344832\" xlink:href=\"#mcfd56a1013\" y=\"228.439219\"/>\n      </g>\n     </g>\n    </g>\n    <g id=\"xtick_15\">\n     <g id=\"line2d_15\">\n      <g>\n       <use style=\"stroke:#000000;stroke-width:0.6;\" x=\"70.118504\" xlink:href=\"#mcfd56a1013\" y=\"228.439219\"/>\n      </g>\n     </g>\n    </g>\n    <g id=\"xtick_16\">\n     <g id=\"line2d_16\">\n      <g>\n       <use style=\"stroke:#000000;stroke-width:0.6;\" x=\"72.565056\" xlink:href=\"#mcfd56a1013\" y=\"228.439219\"/>\n      </g>\n     </g>\n    </g>\n    <g id=\"xtick_17\">\n     <g id=\"line2d_17\">\n      <g>\n       <use style=\"stroke:#000000;stroke-width:0.6;\" x=\"89.151406\" xlink:href=\"#mcfd56a1013\" y=\"228.439219\"/>\n      </g>\n     </g>\n    </g>\n    <g id=\"xtick_18\">\n     <g id=\"line2d_18\">\n      <g>\n       <use style=\"stroke:#000000;stroke-width:0.6;\" x=\"97.573599\" xlink:href=\"#mcfd56a1013\" y=\"228.439219\"/>\n      </g>\n     </g>\n    </g>\n    <g id=\"xtick_19\">\n     <g id=\"line2d_19\">\n      <g>\n       <use style=\"stroke:#000000;stroke-width:0.6;\" x=\"103.549241\" xlink:href=\"#mcfd56a1013\" y=\"228.439219\"/>\n      </g>\n     </g>\n    </g>\n    <g id=\"xtick_20\">\n     <g id=\"line2d_20\">\n      <g>\n       <use style=\"stroke:#000000;stroke-width:0.6;\" x=\"108.184308\" xlink:href=\"#mcfd56a1013\" y=\"228.439219\"/>\n      </g>\n     </g>\n    </g>\n    <g id=\"xtick_21\">\n     <g id=\"line2d_21\">\n      <g>\n       <use style=\"stroke:#000000;stroke-width:0.6;\" x=\"111.971434\" xlink:href=\"#mcfd56a1013\" y=\"228.439219\"/>\n      </g>\n     </g>\n    </g>\n    <g id=\"xtick_22\">\n     <g id=\"line2d_22\">\n      <g>\n       <use style=\"stroke:#000000;stroke-width:0.6;\" x=\"115.173403\" xlink:href=\"#mcfd56a1013\" y=\"228.439219\"/>\n      </g>\n     </g>\n    </g>\n    <g id=\"xtick_23\">\n     <g id=\"line2d_23\">\n      <g>\n       <use style=\"stroke:#000000;stroke-width:0.6;\" x=\"117.947075\" xlink:href=\"#mcfd56a1013\" y=\"228.439219\"/>\n      </g>\n     </g>\n    </g>\n    <g id=\"xtick_24\">\n     <g id=\"line2d_24\">\n      <g>\n       <use style=\"stroke:#000000;stroke-width:0.6;\" x=\"120.393627\" xlink:href=\"#mcfd56a1013\" y=\"228.439219\"/>\n      </g>\n     </g>\n    </g>\n    <g id=\"xtick_25\">\n     <g id=\"line2d_25\">\n      <g>\n       <use style=\"stroke:#000000;stroke-width:0.6;\" x=\"136.979978\" xlink:href=\"#mcfd56a1013\" y=\"228.439219\"/>\n      </g>\n     </g>\n    </g>\n    <g id=\"xtick_26\">\n     <g id=\"line2d_26\">\n      <g>\n       <use style=\"stroke:#000000;stroke-width:0.6;\" x=\"145.402171\" xlink:href=\"#mcfd56a1013\" y=\"228.439219\"/>\n      </g>\n     </g>\n    </g>\n    <g id=\"xtick_27\">\n     <g id=\"line2d_27\">\n      <g>\n       <use style=\"stroke:#000000;stroke-width:0.6;\" x=\"151.377812\" xlink:href=\"#mcfd56a1013\" y=\"228.439219\"/>\n      </g>\n     </g>\n    </g>\n    <g id=\"xtick_28\">\n     <g id=\"line2d_28\">\n      <g>\n       <use style=\"stroke:#000000;stroke-width:0.6;\" x=\"156.01288\" xlink:href=\"#mcfd56a1013\" y=\"228.439219\"/>\n      </g>\n     </g>\n    </g>\n    <g id=\"xtick_29\">\n     <g id=\"line2d_29\">\n      <g>\n       <use style=\"stroke:#000000;stroke-width:0.6;\" x=\"159.800006\" xlink:href=\"#mcfd56a1013\" y=\"228.439219\"/>\n      </g>\n     </g>\n    </g>\n    <g id=\"xtick_30\">\n     <g id=\"line2d_30\">\n      <g>\n       <use style=\"stroke:#000000;stroke-width:0.6;\" x=\"163.001975\" xlink:href=\"#mcfd56a1013\" y=\"228.439219\"/>\n      </g>\n     </g>\n    </g>\n    <g id=\"xtick_31\">\n     <g id=\"line2d_31\">\n      <g>\n       <use style=\"stroke:#000000;stroke-width:0.6;\" x=\"165.775647\" xlink:href=\"#mcfd56a1013\" y=\"228.439219\"/>\n      </g>\n     </g>\n    </g>\n    <g id=\"xtick_32\">\n     <g id=\"line2d_32\">\n      <g>\n       <use style=\"stroke:#000000;stroke-width:0.6;\" x=\"168.222199\" xlink:href=\"#mcfd56a1013\" y=\"228.439219\"/>\n      </g>\n     </g>\n    </g>\n    <g id=\"xtick_33\">\n     <g id=\"line2d_33\">\n      <g>\n       <use style=\"stroke:#000000;stroke-width:0.6;\" x=\"184.808549\" xlink:href=\"#mcfd56a1013\" y=\"228.439219\"/>\n      </g>\n     </g>\n    </g>\n    <g id=\"xtick_34\">\n     <g id=\"line2d_34\">\n      <g>\n       <use style=\"stroke:#000000;stroke-width:0.6;\" x=\"193.230742\" xlink:href=\"#mcfd56a1013\" y=\"228.439219\"/>\n      </g>\n     </g>\n    </g>\n    <g id=\"xtick_35\">\n     <g id=\"line2d_35\">\n      <g>\n       <use style=\"stroke:#000000;stroke-width:0.6;\" x=\"199.206384\" xlink:href=\"#mcfd56a1013\" y=\"228.439219\"/>\n      </g>\n     </g>\n    </g>\n    <g id=\"xtick_36\">\n     <g id=\"line2d_36\">\n      <g>\n       <use style=\"stroke:#000000;stroke-width:0.6;\" x=\"203.841451\" xlink:href=\"#mcfd56a1013\" y=\"228.439219\"/>\n      </g>\n     </g>\n    </g>\n    <g id=\"xtick_37\">\n     <g id=\"line2d_37\">\n      <g>\n       <use style=\"stroke:#000000;stroke-width:0.6;\" x=\"207.628577\" xlink:href=\"#mcfd56a1013\" y=\"228.439219\"/>\n      </g>\n     </g>\n    </g>\n    <g id=\"xtick_38\">\n     <g id=\"line2d_38\">\n      <g>\n       <use style=\"stroke:#000000;stroke-width:0.6;\" x=\"210.830546\" xlink:href=\"#mcfd56a1013\" y=\"228.439219\"/>\n      </g>\n     </g>\n    </g>\n    <g id=\"xtick_39\">\n     <g id=\"line2d_39\">\n      <g>\n       <use style=\"stroke:#000000;stroke-width:0.6;\" x=\"213.604218\" xlink:href=\"#mcfd56a1013\" y=\"228.439219\"/>\n      </g>\n     </g>\n    </g>\n    <g id=\"xtick_40\">\n     <g id=\"line2d_40\">\n      <g>\n       <use style=\"stroke:#000000;stroke-width:0.6;\" x=\"216.05077\" xlink:href=\"#mcfd56a1013\" y=\"228.439219\"/>\n      </g>\n     </g>\n    </g>\n    <g id=\"xtick_41\">\n     <g id=\"line2d_41\">\n      <g>\n       <use style=\"stroke:#000000;stroke-width:0.6;\" x=\"232.63712\" xlink:href=\"#mcfd56a1013\" y=\"228.439219\"/>\n      </g>\n     </g>\n    </g>\n    <g id=\"xtick_42\">\n     <g id=\"line2d_42\">\n      <g>\n       <use style=\"stroke:#000000;stroke-width:0.6;\" x=\"241.059314\" xlink:href=\"#mcfd56a1013\" y=\"228.439219\"/>\n      </g>\n     </g>\n    </g>\n    <g id=\"xtick_43\">\n     <g id=\"line2d_43\">\n      <g>\n       <use style=\"stroke:#000000;stroke-width:0.6;\" x=\"247.034955\" xlink:href=\"#mcfd56a1013\" y=\"228.439219\"/>\n      </g>\n     </g>\n    </g>\n    <g id=\"xtick_44\">\n     <g id=\"line2d_44\">\n      <g>\n       <use style=\"stroke:#000000;stroke-width:0.6;\" x=\"251.670022\" xlink:href=\"#mcfd56a1013\" y=\"228.439219\"/>\n      </g>\n     </g>\n    </g>\n    <g id=\"xtick_45\">\n     <g id=\"line2d_45\">\n      <g>\n       <use style=\"stroke:#000000;stroke-width:0.6;\" x=\"255.457148\" xlink:href=\"#mcfd56a1013\" y=\"228.439219\"/>\n      </g>\n     </g>\n    </g>\n    <g id=\"xtick_46\">\n     <g id=\"line2d_46\">\n      <g>\n       <use style=\"stroke:#000000;stroke-width:0.6;\" x=\"258.659118\" xlink:href=\"#mcfd56a1013\" y=\"228.439219\"/>\n      </g>\n     </g>\n    </g>\n    <g id=\"xtick_47\">\n     <g id=\"line2d_47\">\n      <g>\n       <use style=\"stroke:#000000;stroke-width:0.6;\" x=\"261.43279\" xlink:href=\"#mcfd56a1013\" y=\"228.439219\"/>\n      </g>\n     </g>\n    </g>\n    <g id=\"xtick_48\">\n     <g id=\"line2d_48\">\n      <g>\n       <use style=\"stroke:#000000;stroke-width:0.6;\" x=\"263.879342\" xlink:href=\"#mcfd56a1013\" y=\"228.439219\"/>\n      </g>\n     </g>\n    </g>\n    <g id=\"xtick_49\">\n     <g id=\"line2d_49\">\n      <g>\n       <use style=\"stroke:#000000;stroke-width:0.6;\" x=\"280.465692\" xlink:href=\"#mcfd56a1013\" y=\"228.439219\"/>\n      </g>\n     </g>\n    </g>\n    <g id=\"xtick_50\">\n     <g id=\"line2d_50\">\n      <g>\n       <use style=\"stroke:#000000;stroke-width:0.6;\" x=\"288.887885\" xlink:href=\"#mcfd56a1013\" y=\"228.439219\"/>\n      </g>\n     </g>\n    </g>\n    <g id=\"xtick_51\">\n     <g id=\"line2d_51\">\n      <g>\n       <use style=\"stroke:#000000;stroke-width:0.6;\" x=\"294.863526\" xlink:href=\"#mcfd56a1013\" y=\"228.439219\"/>\n      </g>\n     </g>\n    </g>\n    <g id=\"xtick_52\">\n     <g id=\"line2d_52\">\n      <g>\n       <use style=\"stroke:#000000;stroke-width:0.6;\" x=\"299.498594\" xlink:href=\"#mcfd56a1013\" y=\"228.439219\"/>\n      </g>\n     </g>\n    </g>\n    <g id=\"xtick_53\">\n     <g id=\"line2d_53\">\n      <g>\n       <use style=\"stroke:#000000;stroke-width:0.6;\" x=\"303.28572\" xlink:href=\"#mcfd56a1013\" y=\"228.439219\"/>\n      </g>\n     </g>\n    </g>\n    <g id=\"xtick_54\">\n     <g id=\"line2d_54\">\n      <g>\n       <use style=\"stroke:#000000;stroke-width:0.6;\" x=\"306.487689\" xlink:href=\"#mcfd56a1013\" y=\"228.439219\"/>\n      </g>\n     </g>\n    </g>\n    <g id=\"xtick_55\">\n     <g id=\"line2d_55\">\n      <g>\n       <use style=\"stroke:#000000;stroke-width:0.6;\" x=\"309.261361\" xlink:href=\"#mcfd56a1013\" y=\"228.439219\"/>\n      </g>\n     </g>\n    </g>\n    <g id=\"xtick_56\">\n     <g id=\"line2d_56\">\n      <g>\n       <use style=\"stroke:#000000;stroke-width:0.6;\" x=\"311.707913\" xlink:href=\"#mcfd56a1013\" y=\"228.439219\"/>\n      </g>\n     </g>\n    </g>\n    <g id=\"xtick_57\">\n     <g id=\"line2d_57\">\n      <g>\n       <use style=\"stroke:#000000;stroke-width:0.6;\" x=\"328.294263\" xlink:href=\"#mcfd56a1013\" y=\"228.439219\"/>\n      </g>\n     </g>\n    </g>\n    <g id=\"xtick_58\">\n     <g id=\"line2d_58\">\n      <g>\n       <use style=\"stroke:#000000;stroke-width:0.6;\" x=\"336.716457\" xlink:href=\"#mcfd56a1013\" y=\"228.439219\"/>\n      </g>\n     </g>\n    </g>\n    <g id=\"xtick_59\">\n     <g id=\"line2d_59\">\n      <g>\n       <use style=\"stroke:#000000;stroke-width:0.6;\" x=\"342.692098\" xlink:href=\"#mcfd56a1013\" y=\"228.439219\"/>\n      </g>\n     </g>\n    </g>\n    <g id=\"xtick_60\">\n     <g id=\"line2d_60\">\n      <g>\n       <use style=\"stroke:#000000;stroke-width:0.6;\" x=\"347.327165\" xlink:href=\"#mcfd56a1013\" y=\"228.439219\"/>\n      </g>\n     </g>\n    </g>\n    <g id=\"xtick_61\">\n     <g id=\"line2d_61\">\n      <g>\n       <use style=\"stroke:#000000;stroke-width:0.6;\" x=\"351.114291\" xlink:href=\"#mcfd56a1013\" y=\"228.439219\"/>\n      </g>\n     </g>\n    </g>\n    <g id=\"xtick_62\">\n     <g id=\"line2d_62\">\n      <g>\n       <use style=\"stroke:#000000;stroke-width:0.6;\" x=\"354.316261\" xlink:href=\"#mcfd56a1013\" y=\"228.439219\"/>\n      </g>\n     </g>\n    </g>\n    <g id=\"xtick_63\">\n     <g id=\"line2d_63\">\n      <g>\n       <use style=\"stroke:#000000;stroke-width:0.6;\" x=\"357.089933\" xlink:href=\"#mcfd56a1013\" y=\"228.439219\"/>\n      </g>\n     </g>\n    </g>\n    <g id=\"xtick_64\">\n     <g id=\"line2d_64\">\n      <g>\n       <use style=\"stroke:#000000;stroke-width:0.6;\" x=\"359.536485\" xlink:href=\"#mcfd56a1013\" y=\"228.439219\"/>\n      </g>\n     </g>\n    </g>\n   </g>\n   <g id=\"matplotlib.axis_2\">\n    <g id=\"ytick_1\">\n     <g id=\"line2d_65\">\n      <defs>\n       <path d=\"M 0 0 \nL -3.5 0 \n\" id=\"m79eaef6081\" style=\"stroke:#000000;stroke-width:0.8;\"/>\n      </defs>\n      <g>\n       <use style=\"stroke:#000000;stroke-width:0.8;\" x=\"26.925\" xlink:href=\"#m79eaef6081\" y=\"228.439219\"/>\n      </g>\n     </g>\n     <g id=\"text_9\">\n      <!-- 0 -->\n      <g transform=\"translate(13.5625 232.238437)scale(0.1 -0.1)\">\n       <use xlink:href=\"#DejaVuSans-48\"/>\n      </g>\n     </g>\n    </g>\n    <g id=\"ytick_2\">\n     <g id=\"line2d_66\">\n      <g>\n       <use style=\"stroke:#000000;stroke-width:0.8;\" x=\"26.925\" xlink:href=\"#m79eaef6081\" y=\"184.951219\"/>\n      </g>\n     </g>\n     <g id=\"text_10\">\n      <!-- 2 -->\n      <g transform=\"translate(13.5625 188.750437)scale(0.1 -0.1)\">\n       <use xlink:href=\"#DejaVuSans-50\"/>\n      </g>\n     </g>\n    </g>\n    <g id=\"ytick_3\">\n     <g id=\"line2d_67\">\n      <g>\n       <use style=\"stroke:#000000;stroke-width:0.8;\" x=\"26.925\" xlink:href=\"#m79eaef6081\" y=\"141.463219\"/>\n      </g>\n     </g>\n     <g id=\"text_11\">\n      <!-- 4 -->\n      <g transform=\"translate(13.5625 145.262437)scale(0.1 -0.1)\">\n       <use xlink:href=\"#DejaVuSans-52\"/>\n      </g>\n     </g>\n    </g>\n    <g id=\"ytick_4\">\n     <g id=\"line2d_68\">\n      <g>\n       <use style=\"stroke:#000000;stroke-width:0.8;\" x=\"26.925\" xlink:href=\"#m79eaef6081\" y=\"97.975219\"/>\n      </g>\n     </g>\n     <g id=\"text_12\">\n      <!-- 6 -->\n      <g transform=\"translate(13.5625 101.774437)scale(0.1 -0.1)\">\n       <use xlink:href=\"#DejaVuSans-54\"/>\n      </g>\n     </g>\n    </g>\n    <g id=\"ytick_5\">\n     <g id=\"line2d_69\">\n      <g>\n       <use style=\"stroke:#000000;stroke-width:0.8;\" x=\"26.925\" xlink:href=\"#m79eaef6081\" y=\"54.487219\"/>\n      </g>\n     </g>\n     <g id=\"text_13\">\n      <!-- 8 -->\n      <g transform=\"translate(13.5625 58.286437)scale(0.1 -0.1)\">\n       <use xlink:href=\"#DejaVuSans-56\"/>\n      </g>\n     </g>\n    </g>\n    <g id=\"ytick_6\">\n     <g id=\"line2d_70\">\n      <g>\n       <use style=\"stroke:#000000;stroke-width:0.8;\" x=\"26.925\" xlink:href=\"#m79eaef6081\" y=\"10.999219\"/>\n      </g>\n     </g>\n     <g id=\"text_14\">\n      <!-- 10 -->\n      <g transform=\"translate(7.2 14.798437)scale(0.1 -0.1)\">\n       <use xlink:href=\"#DejaVuSans-49\"/>\n       <use x=\"63.623047\" xlink:href=\"#DejaVuSans-48\"/>\n      </g>\n     </g>\n    </g>\n   </g>\n   <g id=\"line2d_71\">\n    <path clip-path=\"url(#p0286e1ef43)\" d=\"M 26.925 137.953274 \nL 77.145 137.990185 \nL 89.102142 138.025635 \nL 98.667856 138.0531 \nL 134.539286 138.462246 \nL 141.713571 138.699557 \nL 148.887857 138.966552 \nL 163.236428 139.96915 \nL 168.019286 140.516381 \nL 172.802142 141.276599 \nL 177.585001 142.313807 \nL 179.976427 143.03576 \nL 182.367856 143.955557 \nL 184.759287 145.078827 \nL 187.150715 146.637511 \nL 189.542143 148.676084 \nL 191.933571 151.396821 \nL 194.325001 154.986856 \nL 199.107858 163.143313 \nL 201.499286 165.825138 \nL 203.890715 166.778539 \nL 206.282143 167.435586 \nL 213.456428 168.71687 \nL 218.239285 170.131092 \nL 220.630714 171.044072 \nL 225.413571 173.0693 \nL 227.805 173.899406 \nL 230.196428 175.08781 \nL 232.587857 176.441621 \nL 234.979286 177.286149 \nL 237.370714 179.065766 \nL 239.762143 179.536111 \nL 242.153571 178.895218 \nL 244.545 182.180356 \nL 246.936428 182.623416 \nL 249.327857 182.914165 \nL 251.719285 184.764832 \nL 254.110713 183.91864 \nL 256.502144 186.874998 \nL 258.893571 185.6088 \nL 261.285 187.446771 \nL 263.676429 188.072159 \nL 266.067858 187.602962 \nL 268.459285 187.013221 \nL 270.850714 188.366508 \nL 273.242143 188.463354 \nL 275.633572 190.447529 \nL 278.025 188.013108 \nL 280.416428 190.761288 \nL 282.807857 187.076686 \nL 285.199286 189.745338 \nL 287.590715 181.464634 \nL 289.982143 184.836892 \nL 292.373571 190.291576 \nL 294.764999 187.961632 \nL 297.156428 183.277192 \nL 299.547857 185.528145 \nL 301.939286 188.318018 \nL 304.330715 179.809949 \nL 306.722143 188.280477 \nL 309.11357 180.125588 \nL 311.505 180.802485 \nL 313.896428 185.514137 \nL 316.287856 174.787921 \nL 318.679286 174.868193 \nL 321.070714 184.601759 \nL 323.462144 172.687885 \nL 325.853572 176.625255 \nL 328.245 167.541514 \nL 330.636429 163.747327 \nL 335.419286 171.223403 \nL 337.810713 171.685613 \nL 340.202142 171.658557 \nL 342.593571 165.205241 \nL 344.984999 143.40703 \nL 347.376428 167.69071 \nL 349.767857 160.328914 \nL 352.159285 162.317412 \nL 354.550713 166.606979 \nL 356.942143 169.376899 \nL 359.333572 167.037971 \nL 361.725 159.150764 \nL 364.116429 168.089984 \nL 368.899286 167.962744 \nL 371.290714 158.833497 \nL 373.682143 73.363085 \nL 376.073572 97.290286 \nL 378.465 157.465358 \nL 380.856428 153.046985 \nL 381.675 158.024891 \nL 381.675 158.024891 \n\" style=\"fill:none;stroke:#1f77b4;stroke-linecap:square;stroke-width:1.5;\"/>\n   </g>\n   <g id=\"patch_3\">\n    <path d=\"M 26.925 228.439219 \nL 26.925 10.999219 \n\" style=\"fill:none;stroke:#000000;stroke-linecap:square;stroke-linejoin:miter;stroke-width:0.8;\"/>\n   </g>\n   <g id=\"patch_4\">\n    <path d=\"M 361.725 228.439219 \nL 361.725 10.999219 \n\" style=\"fill:none;stroke:#000000;stroke-linecap:square;stroke-linejoin:miter;stroke-width:0.8;\"/>\n   </g>\n   <g id=\"patch_5\">\n    <path d=\"M 26.925 228.439219 \nL 361.725 228.439219 \n\" style=\"fill:none;stroke:#000000;stroke-linecap:square;stroke-linejoin:miter;stroke-width:0.8;\"/>\n   </g>\n   <g id=\"patch_6\">\n    <path d=\"M 26.925 10.999219 \nL 361.725 10.999219 \n\" style=\"fill:none;stroke:#000000;stroke-linecap:square;stroke-linejoin:miter;stroke-width:0.8;\"/>\n   </g>\n  </g>\n </g>\n <defs>\n  <clipPath id=\"p0286e1ef43\">\n   <rect height=\"217.44\" width=\"334.8\" x=\"26.925\" y=\"10.999219\"/>\n  </clipPath>\n </defs>\n</svg>\n",
      "image/png": "[encoded data removed]"
     },
     "metadata": {
      "needs_background": "light"
     }
    }
   ],
   "source": [
    "plt.semilogx(history.history[\"lr\"], history.history[\"loss\"])\n",
    "plt.axis([1e-8, 1e-1, 0, 10])"
   ]
  },
  {
   "cell_type": "code",
   "execution_count": 122,
   "metadata": {},
   "outputs": [
    {
     "output_type": "stream",
     "name": "stdout",
     "text": [
      "lr : \n1e-08\nloss : \n4.161421298980713\nlr : \n1.1220185e-08\nloss : \n4.161536693572998\nlr : \n1.2589254e-08\nloss : \n4.158461093902588\nlr : \n1.41253755e-08\nloss : \n4.160787105560303\nlr : \n1.5848931e-08\nloss : \n4.160204887390137\nlr : \n1.7782794e-08\nloss : \n4.159872055053711\nlr : \n1.9952623e-08\nloss : \n4.160655975341797\nlr : \n2.2387212e-08\nloss : \n4.160436630249023\nlr : \n2.5118863e-08\nloss : \n4.159906387329102\nlr : \n2.8183829e-08\nloss : \n4.16263484954834\nlr : \n3.1622776e-08\nloss : \n4.1595635414123535\nlr : \n3.548134e-08\nloss : \n4.16099214553833\nlr : \n3.981072e-08\nloss : \n4.161916732788086\nlr : \n4.4668358e-08\nloss : \n4.160027980804443\nlr : \n5.011872e-08\nloss : \n4.16102933883667\nlr : \n5.6234132e-08\nloss : \n4.160132884979248\nlr : \n6.309573e-08\nloss : \n4.160602569580078\nlr : \n7.079458e-08\nloss : \n4.161985397338867\nlr : \n7.943282e-08\nloss : \n4.159969329833984\nlr : \n8.9125095e-08\nloss : \n4.159895420074463\nlr : \n1e-07\nloss : \n4.159889221191406\nlr : \n1.12201846e-07\nloss : \n4.15972375869751\nlr : \n1.2589254e-07\nloss : \n4.1585693359375\nlr : \n1.4125375e-07\nloss : \n4.158163070678711\nlr : \n1.5848931e-07\nloss : \n4.157479763031006\nlr : \n1.7782794e-07\nloss : \n4.15739631652832\nlr : \n1.9952623e-07\nloss : \n4.158093452453613\nlr : \n2.2387212e-07\nloss : \n4.158820152282715\nlr : \n2.5118865e-07\nloss : \n4.15779447555542\nlr : \n2.8183828e-07\nloss : \n4.157417297363281\nlr : \n3.1622776e-07\nloss : \n4.156830310821533\nlr : \n3.5481338e-07\nloss : \n4.155810356140137\nlr : \n3.9810718e-07\nloss : \n4.15643835067749\nlr : \n4.466836e-07\nloss : \n4.156026840209961\nlr : \n5.0118723e-07\nloss : \n4.155054092407227\nlr : \n5.623413e-07\nloss : \n4.154596328735352\nlr : \n6.3095735e-07\nloss : \n4.151827335357666\nlr : \n7.079458e-07\nloss : \n4.152669906616211\nlr : \n7.9432823e-07\nloss : \n4.150998592376709\nlr : \n8.912509e-07\nloss : \n4.148726940155029\nlr : \n1e-06\nloss : \n4.148220539093018\nlr : \n1.1220185e-06\nloss : \n4.14594030380249\nlr : \n1.2589254e-06\nloss : \n4.145235061645508\nlr : \n1.4125376e-06\nloss : \n4.140963077545166\nlr : \n1.5848932e-06\nloss : \n4.1385087966918945\nlr : \n1.7782794e-06\nloss : \n4.13801383972168\nlr : \n1.9952622e-06\nloss : \n4.133092403411865\nlr : \n2.2387212e-06\nloss : \n4.132087707519531\nlr : \n2.5118864e-06\nloss : \n4.127099990844727\nlr : \n2.8183829e-06\nloss : \n4.123737335205078\nlr : \n3.1622776e-06\nloss : \n4.120050430297852\nlr : \n3.548134e-06\nloss : \n4.114820957183838\nlr : \n3.9810716e-06\nloss : \n4.1077752113342285\nlr : \n4.466836e-06\nloss : \n4.103256702423096\nlr : \n5.0118724e-06\nloss : \n4.095017910003662\nlr : \n5.6234135e-06\nloss : \n4.087703704833984\nlr : \n6.3095736e-06\nloss : \n4.079090118408203\nlr : \n7.0794576e-06\nloss : \n4.068711757659912\nlr : \n7.943282e-06\nloss : \n4.057323932647705\nlr : \n8.91251e-06\nloss : \n4.043544769287109\nlr : \n1e-05\nloss : \n4.027890682220459\nlr : \n1.1220184e-05\nloss : \n4.008582592010498\nlr : \n1.2589254e-05\nloss : \n3.9860033988952637\nlr : \n1.4125376e-05\nloss : \n3.9608817100524902\nlr : \n1.5848931e-05\nloss : \n3.9276793003082275\nlr : \n1.7782793e-05\nloss : \n3.885378122329712\nlr : \n1.9952624e-05\nloss : \n3.833719253540039\nlr : \n2.2387212e-05\nloss : \n3.762035846710205\nlr : \n2.5118865e-05\nloss : \n3.6682825088500977\nlr : \n2.818383e-05\nloss : \n3.543156623840332\nlr : \n3.1622778e-05\nloss : \n3.378051996231079\nlr : \n3.548134e-05\nloss : \n3.188732862472534\nlr : \n3.981072e-05\nloss : \n3.002938985824585\nlr : \n4.466836e-05\nloss : \n2.8796026706695557\nlr : \n5.0118724e-05\nloss : \n2.8357560634613037\nlr : \n5.6234134e-05\nloss : \n2.8055386543273926\nlr : \n6.309574e-05\nloss : \n2.784288167953491\nlr : \n7.079458e-05\nloss : \n2.7658238410949707\nlr : \n7.943282e-05\nloss : \n2.746612787246704\nlr : \n8.91251e-05\nloss : \n2.714261054992676\nlr : \n1e-04\nloss : \n2.6815731525421143\nlr : \n0.000112201844\nloss : \n2.639585494995117\nlr : \n0.00012589255\nloss : \n2.5921101570129395\nlr : \n0.00014125375\nloss : \n2.546445846557617\nlr : \n0.00015848932\nloss : \n2.5082695484161377\nlr : \n0.00017782794\nloss : \n2.453615188598633\nlr : \n0.00019952623\nloss : \n2.3913538455963135\nlr : \n0.00022387212\nloss : \n2.3525142669677734\nlr : \n0.00025118864\nloss : \n2.270670175552368\nlr : \n0.0002818383\nloss : \n2.2490391731262207\nlr : \n0.00031622776\nloss : \n2.2785136699676514\nlr : \n0.00035481338\nloss : \n2.1274311542510986\nlr : \n0.00039810716\nloss : \n2.1070549488067627\nlr : \n0.00044668358\nloss : \n2.0936834812164307\nlr : \n0.0005011872\nloss : \n2.0085718631744385\nlr : \n0.0005623413\nloss : \n2.04748797416687\nlr : \n0.00063095737\nloss : \n1.9115259647369385\nlr : \n0.0007079458\nloss : \n1.9697580337524414\nlr : \n0.0007943282\nloss : \n1.885230302810669\nlr : \n0.00089125097\nloss : \n1.856468915939331\nlr : \n0.001\nloss : \n1.8780471086502075\nlr : \n0.0011220184\nloss : \n1.905169129371643\nlr : \n0.0012589254\nloss : \n1.842931866645813\nlr : \n0.0014125375\nloss : \n1.8384779691696167\nlr : \n0.0015848932\nloss : \n1.747226357460022\nlr : \n0.0017782794\nloss : \n1.8591846227645874\nlr : \n0.0019952622\nloss : \n1.7327966690063477\nlr : \n0.0022387211\nloss : \n1.9022504091262817\nlr : \n0.0025118864\nloss : \n1.7795199155807495\nlr : \n0.002818383\nloss : \n2.1603469848632812\nlr : \n0.0031622776\nloss : \n2.0052578449249268\nlr : \n0.003548134\nloss : \n1.7543985843658447\nlr : \n0.0039810715\nloss : \n1.8615520000457764\nlr : \n0.004466836\nloss : \n2.0769879817962646\nlr : \n0.0050118724\nloss : \n1.9734673500061035\nlr : \n0.0056234132\nloss : \n1.8451619148254395\nlr : \n0.0063095735\nloss : \n2.236445426940918\nlr : \n0.007079458\nloss : \n1.8468884229660034\nlr : \n0.007943282\nloss : \n2.2219293117523193\nlr : \n0.008912509\nloss : \n2.1907989978790283\nlr : \n0.01\nloss : \n1.974111557006836\nlr : \n0.011220184\nloss : \n2.467406988143921\nlr : \n0.012589254\nloss : \n2.4637153148651123\nlr : \n0.014125375\nloss : \n2.0160715579986572\nlr : \n0.015848933\nloss : \n2.5639870166778564\nlr : \n0.017782794\nloss : \n2.382908582687378\nlr : \n0.019952623\nloss : \n2.8006670475006104\nlr : \n0.022387212\nloss : \n2.975160598754883\nlr : \n0.025118865\nloss : \n2.8019464015960693\nlr : \n0.028183829\nloss : \n2.631338119506836\nlr : \n0.031622775\nloss : \n2.610081195831299\nlr : \n0.035481337\nloss : \n2.61132550239563\nlr : \n0.039810717\nloss : \n2.908111572265625\nlr : \n0.044668358\nloss : \n3.91060471534729\nlr : \n0.050118722\nloss : \n2.7938055992126465\nlr : \n0.056234132\nloss : \n3.1323723793029785\nlr : \n0.06309573\nloss : \n3.040921926498413\nlr : \n0.070794575\nloss : \n2.8436460494995117\nlr : \n0.07943282\nloss : \n2.7162582874298096\nlr : \n0.0891251\nloss : \n2.823824882507324\nlr : \n0.1\nloss : \n3.1865551471710205\nlr : \n0.11220185\nloss : \n2.7754430770874023\nlr : \n0.12589253\nloss : \n2.7783589363098145\nlr : \n0.14125375\nloss : \n2.781294822692871\nlr : \n0.15848932\nloss : \n3.201146125793457\nlr : \n0.17782794\nloss : \n7.131904602050781\nlr : \n0.19952624\nloss : \n6.031499862670898\nlr : \n0.22387211\nloss : \n3.264066457748413\nlr : \n0.25118864\nloss : \n3.467266082763672\nlr : \n0.2818383\nloss : \n2.798448085784912\nlr : \n0.31622776\nloss : \n2.798764228820801\nlr : \n0.3548134\nloss : \n2.8064374923706055\nlr : \n0.39810717\nloss : \n2.807664155960083\nlr : \n0.4466836\nloss : \n2.818686008453369\nlr : \n0.5011872\nloss : \n2.8484199047088623\nlr : \n0.56234133\nloss : \n2.8293046951293945\nlr : \n0.63095737\nloss : \n2.8401472568511963\nlr : \n0.70794576\nloss : \n2.896953582763672\nlr : \n0.7943282\nloss : \n2.8957393169403076\nlr : \n0.8912509\nloss : \n2.910954236984253\nlr : \n1.0\nloss : \n2.9596571922302246\nlr : \n1.1220185\nloss : \n2.9776837825775146\nlr : \n1.2589254\nloss : \n3.10103702545166\nlr : \n1.4125376\nloss : \n3.0948739051818848\nlr : \n1.5848932\nloss : \n3.1923770904541016\nlr : \n1.7782794\nloss : \n3.2907285690307617\nlr : \n1.9952623\nloss : \n3.3421950340270996\nlr : \n2.2387211\nloss : \n3.621321201324463\nlr : \n2.5118864\nloss : \n3.7756054401397705\nlr : \n2.818383\nloss : \n4.2432332038879395\nlr : \n3.1622777\nloss : \n4.305493354797363\nlr : \n3.5481339\nloss : \n4.876823425292969\nlr : \n3.9810717\nloss : \n5.395610809326172\nlr : \n4.466836\nloss : \n5.7740607261657715\nlr : \n5.0118723\nloss : \n6.376462459564209\nlr : \n5.623413\nloss : \n7.559528827667236\nlr : \n6.3095737\nloss : \n8.456230163574219\nlr : \n7.0794578\nloss : \n12.257950782775879\nlr : \n7.943282\nloss : \n17.52336311340332\nlr : \n8.912509\nloss : \n21.11818504333496\nlr : \n10.0\nloss : \n29.217262268066406\nlr : \n11.220184\nloss : \n1766.8731689453125\nlr : \n12.589254\nloss : \n40.42209243774414\nlr : \n14.125376\nloss : \n45.70329666137695\nlr : \n15.848932\nloss : \n44.804542541503906\nlr : \n17.782795\nloss : \n51.90155792236328\nlr : \n19.952623\nloss : \n63.99061965942383\nlr : \n22.38721\nloss : \n85.51802825927734\nlr : \n25.118864\nloss : \n107.81718444824219\nlr : \n28.18383\nloss : \n105.01429748535156\nlr : \n31.622776\nloss : \n108.72203826904297\nlr : \n35.48134\nloss : \n135.16233825683594\nlr : \n39.81072\nloss : \n142.69296264648438\nlr : \n44.668358\nloss : \n155.69822692871094\nlr : \n50.118725\nloss : \n184.49668884277344\nlr : \n56.23413\nloss : \n197.11328125\nlr : \n63.095734\nloss : \n248.73605346679688\nlr : \n70.79458\nloss : \n282.39056396484375\nlr : \n79.43282\nloss : \n320.3056640625\nlr : \n89.12509\nloss : \n314.6645812988281\n"
     ]
    }
   ],
   "source": [
    "for i in range(0, len(history.history[\"lr\"])) :\n",
    "    print(\"lr : \" )\n",
    "    print(history.history[\"lr\"][i] )\n",
    "    print(\"loss : \")\n",
    "    print(history.history[\"loss\"][i])"
   ]
  },
  {
   "cell_type": "code",
   "execution_count": 14,
   "metadata": {},
   "outputs": [],
   "source": [
    "model.load_weights(filename)"
   ]
  },
  {
   "cell_type": "code",
   "execution_count": 15,
   "metadata": {
    "id": "XYoiWIgCqa9B"
   },
   "outputs": [
    {
     "output_type": "execute_result",
     "data": {
      "text/plain": [
       "(782, 61)"
      ]
     },
     "metadata": {},
     "execution_count": 15
    }
   ],
   "source": [
    "prediction=model.predict(x_test)\n",
    "prediction.shape"
   ]
  },
  {
   "cell_type": "code",
   "execution_count": 43,
   "metadata": {},
   "outputs": [],
   "source": [
    "prediction_test=model.predict(shift_data)"
   ]
  },
  {
   "cell_type": "code",
   "execution_count": 44,
   "metadata": {},
   "outputs": [],
   "source": [
    "logs=tf.compat.v1.losses.log_loss(y ,prediction_test)\n"
   ]
  },
  {
   "cell_type": "markdown",
   "metadata": {
    "id": "CftStE0JwlTd"
   },
   "source": [
    "# **제출**"
   ]
  },
  {
   "cell_type": "code",
   "execution_count": 16,
   "metadata": {
    "colab": {
     "base_uri": "https://localhost:8080/",
     "height": 411
    },
    "id": "Zsii9aR_qtWA",
    "outputId": "3047ef1e-c0d8-494c-88f9-b5ad50de0060"
   },
   "outputs": [
    {
     "output_type": "execute_result",
     "data": {
      "text/plain": [
       "       id  0  1  2  3  4  5  6  7  8  ...  51  52  53  54  55  56  57  58  59  \\\n",
       "0    3125  0  0  0  0  0  0  0  0  0  ...   0   0   0   0   0   0   0   0   0   \n",
       "1    3126  0  0  0  0  0  0  0  0  0  ...   0   0   0   0   0   0   0   0   0   \n",
       "2    3127  0  0  0  0  0  0  0  0  0  ...   0   0   0   0   0   0   0   0   0   \n",
       "3    3128  0  0  0  0  0  0  0  0  0  ...   0   0   0   0   0   0   0   0   0   \n",
       "4    3129  0  0  0  0  0  0  0  0  0  ...   0   0   0   0   0   0   0   0   0   \n",
       "..    ... .. .. .. .. .. .. .. .. ..  ...  ..  ..  ..  ..  ..  ..  ..  ..  ..   \n",
       "777  3902  0  0  0  0  0  0  0  0  0  ...   0   0   0   0   0   0   0   0   0   \n",
       "778  3903  0  0  0  0  0  0  0  0  0  ...   0   0   0   0   0   0   0   0   0   \n",
       "779  3904  0  0  0  0  0  0  0  0  0  ...   0   0   0   0   0   0   0   0   0   \n",
       "780  3905  0  0  0  0  0  0  0  0  0  ...   0   0   0   0   0   0   0   0   0   \n",
       "781  3906  0  0  0  0  0  0  0  0  0  ...   0   0   0   0   0   0   0   0   0   \n",
       "\n",
       "     60  \n",
       "0     0  \n",
       "1     0  \n",
       "2     0  \n",
       "3     0  \n",
       "4     0  \n",
       "..   ..  \n",
       "777   0  \n",
       "778   0  \n",
       "779   0  \n",
       "780   0  \n",
       "781   0  \n",
       "\n",
       "[782 rows x 62 columns]"
      ],
      "text/html": "<div>\n<style scoped>\n    .dataframe tbody tr th:only-of-type {\n        vertical-align: middle;\n    }\n\n    .dataframe tbody tr th {\n        vertical-align: top;\n    }\n\n    .dataframe thead th {\n        text-align: right;\n    }\n</style>\n<table border=\"1\" class=\"dataframe\">\n  <thead>\n    <tr style=\"text-align: right;\">\n      <th></th>\n      <th>id</th>\n      <th>0</th>\n      <th>1</th>\n      <th>2</th>\n      <th>3</th>\n      <th>4</th>\n      <th>5</th>\n      <th>6</th>\n      <th>7</th>\n      <th>8</th>\n      <th>...</th>\n      <th>51</th>\n      <th>52</th>\n      <th>53</th>\n      <th>54</th>\n      <th>55</th>\n      <th>56</th>\n      <th>57</th>\n      <th>58</th>\n      <th>59</th>\n      <th>60</th>\n    </tr>\n  </thead>\n  <tbody>\n    <tr>\n      <th>0</th>\n      <td>3125</td>\n      <td>0</td>\n      <td>0</td>\n      <td>0</td>\n      <td>0</td>\n      <td>0</td>\n      <td>0</td>\n      <td>0</td>\n      <td>0</td>\n      <td>0</td>\n      <td>...</td>\n      <td>0</td>\n      <td>0</td>\n      <td>0</td>\n      <td>0</td>\n      <td>0</td>\n      <td>0</td>\n      <td>0</td>\n      <td>0</td>\n      <td>0</td>\n      <td>0</td>\n    </tr>\n    <tr>\n      <th>1</th>\n      <td>3126</td>\n      <td>0</td>\n      <td>0</td>\n      <td>0</td>\n      <td>0</td>\n      <td>0</td>\n      <td>0</td>\n      <td>0</td>\n      <td>0</td>\n      <td>0</td>\n      <td>...</td>\n      <td>0</td>\n      <td>0</td>\n      <td>0</td>\n      <td>0</td>\n      <td>0</td>\n      <td>0</td>\n      <td>0</td>\n      <td>0</td>\n      <td>0</td>\n      <td>0</td>\n    </tr>\n    <tr>\n      <th>2</th>\n      <td>3127</td>\n      <td>0</td>\n      <td>0</td>\n      <td>0</td>\n      <td>0</td>\n      <td>0</td>\n      <td>0</td>\n      <td>0</td>\n      <td>0</td>\n      <td>0</td>\n      <td>...</td>\n      <td>0</td>\n      <td>0</td>\n      <td>0</td>\n      <td>0</td>\n      <td>0</td>\n      <td>0</td>\n      <td>0</td>\n      <td>0</td>\n      <td>0</td>\n      <td>0</td>\n    </tr>\n    <tr>\n      <th>3</th>\n      <td>3128</td>\n      <td>0</td>\n      <td>0</td>\n      <td>0</td>\n      <td>0</td>\n      <td>0</td>\n      <td>0</td>\n      <td>0</td>\n      <td>0</td>\n      <td>0</td>\n      <td>...</td>\n      <td>0</td>\n      <td>0</td>\n      <td>0</td>\n      <td>0</td>\n      <td>0</td>\n      <td>0</td>\n      <td>0</td>\n      <td>0</td>\n      <td>0</td>\n      <td>0</td>\n    </tr>\n    <tr>\n      <th>4</th>\n      <td>3129</td>\n      <td>0</td>\n      <td>0</td>\n      <td>0</td>\n      <td>0</td>\n      <td>0</td>\n      <td>0</td>\n      <td>0</td>\n      <td>0</td>\n      <td>0</td>\n      <td>...</td>\n      <td>0</td>\n      <td>0</td>\n      <td>0</td>\n      <td>0</td>\n      <td>0</td>\n      <td>0</td>\n      <td>0</td>\n      <td>0</td>\n      <td>0</td>\n      <td>0</td>\n    </tr>\n    <tr>\n      <th>...</th>\n      <td>...</td>\n      <td>...</td>\n      <td>...</td>\n      <td>...</td>\n      <td>...</td>\n      <td>...</td>\n      <td>...</td>\n      <td>...</td>\n      <td>...</td>\n      <td>...</td>\n      <td>...</td>\n      <td>...</td>\n      <td>...</td>\n      <td>...</td>\n      <td>...</td>\n      <td>...</td>\n      <td>...</td>\n      <td>...</td>\n      <td>...</td>\n      <td>...</td>\n      <td>...</td>\n    </tr>\n    <tr>\n      <th>777</th>\n      <td>3902</td>\n      <td>0</td>\n      <td>0</td>\n      <td>0</td>\n      <td>0</td>\n      <td>0</td>\n      <td>0</td>\n      <td>0</td>\n      <td>0</td>\n      <td>0</td>\n      <td>...</td>\n      <td>0</td>\n      <td>0</td>\n      <td>0</td>\n      <td>0</td>\n      <td>0</td>\n      <td>0</td>\n      <td>0</td>\n      <td>0</td>\n      <td>0</td>\n      <td>0</td>\n    </tr>\n    <tr>\n      <th>778</th>\n      <td>3903</td>\n      <td>0</td>\n      <td>0</td>\n      <td>0</td>\n      <td>0</td>\n      <td>0</td>\n      <td>0</td>\n      <td>0</td>\n      <td>0</td>\n      <td>0</td>\n      <td>...</td>\n      <td>0</td>\n      <td>0</td>\n      <td>0</td>\n      <td>0</td>\n      <td>0</td>\n      <td>0</td>\n      <td>0</td>\n      <td>0</td>\n      <td>0</td>\n      <td>0</td>\n    </tr>\n    <tr>\n      <th>779</th>\n      <td>3904</td>\n      <td>0</td>\n      <td>0</td>\n      <td>0</td>\n      <td>0</td>\n      <td>0</td>\n      <td>0</td>\n      <td>0</td>\n      <td>0</td>\n      <td>0</td>\n      <td>...</td>\n      <td>0</td>\n      <td>0</td>\n      <td>0</td>\n      <td>0</td>\n      <td>0</td>\n      <td>0</td>\n      <td>0</td>\n      <td>0</td>\n      <td>0</td>\n      <td>0</td>\n    </tr>\n    <tr>\n      <th>780</th>\n      <td>3905</td>\n      <td>0</td>\n      <td>0</td>\n      <td>0</td>\n      <td>0</td>\n      <td>0</td>\n      <td>0</td>\n      <td>0</td>\n      <td>0</td>\n      <td>0</td>\n      <td>...</td>\n      <td>0</td>\n      <td>0</td>\n      <td>0</td>\n      <td>0</td>\n      <td>0</td>\n      <td>0</td>\n      <td>0</td>\n      <td>0</td>\n      <td>0</td>\n      <td>0</td>\n    </tr>\n    <tr>\n      <th>781</th>\n      <td>3906</td>\n      <td>0</td>\n      <td>0</td>\n      <td>0</td>\n      <td>0</td>\n      <td>0</td>\n      <td>0</td>\n      <td>0</td>\n      <td>0</td>\n      <td>0</td>\n      <td>...</td>\n      <td>0</td>\n      <td>0</td>\n      <td>0</td>\n      <td>0</td>\n      <td>0</td>\n      <td>0</td>\n      <td>0</td>\n      <td>0</td>\n      <td>0</td>\n      <td>0</td>\n    </tr>\n  </tbody>\n</table>\n<p>782 rows × 62 columns</p>\n</div>"
     },
     "metadata": {},
     "execution_count": 16
    }
   ],
   "source": [
    "submission # 대입 전"
   ]
  },
  {
   "cell_type": "code",
   "execution_count": 17,
   "metadata": {
    "id": "bOCJS5OGqxjN"
   },
   "outputs": [
    {
     "output_type": "execute_result",
     "data": {
      "text/plain": [
       "       id         0             1             2         3             4  \\\n",
       "0    3125  0.000240  1.347092e-04  1.766771e-06  0.000029  1.614321e-01   \n",
       "1    3126  0.000129  4.424005e-07  2.046113e-08  0.000559  8.257740e-07   \n",
       "2    3127  0.010152  1.371774e-02  2.047465e-07  0.000724  1.714435e-05   \n",
       "3    3128  0.001142  2.032860e-06  4.042127e-08  0.000060  3.797761e-05   \n",
       "4    3129  0.002217  7.798604e-06  1.095230e-07  0.000317  2.140477e-03   \n",
       "..    ...       ...           ...           ...       ...           ...   \n",
       "777  3902  0.000084  2.174810e-06  3.777786e-09  0.000034  3.169900e-05   \n",
       "778  3903  0.000074  7.207404e-08  7.282483e-11  0.000013  5.237309e-07   \n",
       "779  3904  0.000392  4.934305e-07  1.399620e-08  0.000030  4.194517e-05   \n",
       "780  3905  0.000089  1.051910e-02  4.221992e-07  0.000024  1.200896e-06   \n",
       "781  3906  0.000053  3.983243e-07  3.322344e-10  0.000016  4.149264e-06   \n",
       "\n",
       "                5             6             7             8  ...  \\\n",
       "0    4.424791e-06  3.463458e-05  1.740017e-05  7.430706e-05  ...   \n",
       "1    2.343526e-06  9.093794e-07  4.240705e-06  1.462471e-06  ...   \n",
       "2    6.260178e-05  6.094365e-04  1.353542e-03  4.835736e-04  ...   \n",
       "3    4.333036e-05  2.510854e-07  1.787993e-04  1.080438e-05  ...   \n",
       "4    5.112460e-06  7.500231e-06  7.826978e-06  5.242071e-06  ...   \n",
       "..            ...           ...           ...           ...  ...   \n",
       "777  1.474271e-07  1.886434e-06  1.778025e-06  8.808286e-07  ...   \n",
       "778  1.324320e-07  7.812767e-08  1.626469e-07  2.511593e-06  ...   \n",
       "779  3.643509e-05  3.649031e-07  1.656478e-05  6.876101e-06  ...   \n",
       "780  1.047734e-07  1.945160e-02  3.255530e-04  2.622788e-06  ...   \n",
       "781  1.501871e-07  3.380976e-07  3.015188e-07  7.547982e-07  ...   \n",
       "\n",
       "               51            52            53            54            55  \\\n",
       "0    1.585404e-03  4.493349e-04  3.980137e-04  2.548228e-05  1.327194e-05   \n",
       "1    8.273541e-06  3.761283e-08  4.707277e-07  6.980721e-06  5.926229e-08   \n",
       "2    1.069753e-05  1.665910e-06  1.469030e-07  7.643314e-03  6.167265e-06   \n",
       "3    1.080930e-06  3.113977e-07  3.890761e-08  3.991811e-05  8.831680e-08   \n",
       "4    3.427697e-05  3.117480e-06  2.228643e-06  5.489841e-06  3.302522e-07   \n",
       "..            ...           ...           ...           ...           ...   \n",
       "777  6.847079e-06  7.201080e-07  8.960312e-08  5.832458e-07  6.194855e-09   \n",
       "778  2.542834e-07  3.860804e-08  3.120717e-09  3.661049e-07  5.766242e-10   \n",
       "779  1.308245e-05  8.600182e-07  1.652475e-07  9.081095e-06  2.423693e-07   \n",
       "780  5.113100e-07  2.021090e-08  1.532742e-08  1.385386e-04  7.148197e-07   \n",
       "781  1.320623e-06  1.021315e-07  2.582058e-08  3.759118e-07  1.509390e-09   \n",
       "\n",
       "               56        57            58            59            60  \n",
       "0    4.506620e-07  0.000098  1.305984e-01  4.865029e-06  1.005985e-04  \n",
       "1    4.932133e-08  0.005953  6.026338e-06  2.818183e-08  4.048059e-05  \n",
       "2    2.040667e-05  0.000081  2.405031e-05  9.255677e-05  7.752351e-04  \n",
       "3    8.327959e-07  0.000618  8.299892e-07  3.861038e-07  1.540657e-03  \n",
       "4    3.325589e-08  0.008965  4.680156e-04  1.062259e-06  1.098181e-03  \n",
       "..            ...       ...           ...           ...           ...  \n",
       "777  1.145300e-08  0.021687  2.081725e-04  1.401035e-07  1.192118e-04  \n",
       "778  4.130424e-09  0.000519  9.922036e-07  7.164446e-09  1.043399e-04  \n",
       "779  6.447446e-07  0.003164  3.681565e-06  4.387419e-07  9.811115e-04  \n",
       "780  1.074453e-06  0.000039  1.431577e-05  1.549162e-04  6.859416e-07  \n",
       "781  1.292921e-08  0.003032  2.316807e-05  4.439123e-08  5.455747e-05  \n",
       "\n",
       "[782 rows x 62 columns]"
      ],
      "text/html": "<div>\n<style scoped>\n    .dataframe tbody tr th:only-of-type {\n        vertical-align: middle;\n    }\n\n    .dataframe tbody tr th {\n        vertical-align: top;\n    }\n\n    .dataframe thead th {\n        text-align: right;\n    }\n</style>\n<table border=\"1\" class=\"dataframe\">\n  <thead>\n    <tr style=\"text-align: right;\">\n      <th></th>\n      <th>id</th>\n      <th>0</th>\n      <th>1</th>\n      <th>2</th>\n      <th>3</th>\n      <th>4</th>\n      <th>5</th>\n      <th>6</th>\n      <th>7</th>\n      <th>8</th>\n      <th>...</th>\n      <th>51</th>\n      <th>52</th>\n      <th>53</th>\n      <th>54</th>\n      <th>55</th>\n      <th>56</th>\n      <th>57</th>\n      <th>58</th>\n      <th>59</th>\n      <th>60</th>\n    </tr>\n  </thead>\n  <tbody>\n    <tr>\n      <th>0</th>\n      <td>3125</td>\n      <td>0.000240</td>\n      <td>1.347092e-04</td>\n      <td>1.766771e-06</td>\n      <td>0.000029</td>\n      <td>1.614321e-01</td>\n      <td>4.424791e-06</td>\n      <td>3.463458e-05</td>\n      <td>1.740017e-05</td>\n      <td>7.430706e-05</td>\n      <td>...</td>\n      <td>1.585404e-03</td>\n      <td>4.493349e-04</td>\n      <td>3.980137e-04</td>\n      <td>2.548228e-05</td>\n      <td>1.327194e-05</td>\n      <td>4.506620e-07</td>\n      <td>0.000098</td>\n      <td>1.305984e-01</td>\n      <td>4.865029e-06</td>\n      <td>1.005985e-04</td>\n    </tr>\n    <tr>\n      <th>1</th>\n      <td>3126</td>\n      <td>0.000129</td>\n      <td>4.424005e-07</td>\n      <td>2.046113e-08</td>\n      <td>0.000559</td>\n      <td>8.257740e-07</td>\n      <td>2.343526e-06</td>\n      <td>9.093794e-07</td>\n      <td>4.240705e-06</td>\n      <td>1.462471e-06</td>\n      <td>...</td>\n      <td>8.273541e-06</td>\n      <td>3.761283e-08</td>\n      <td>4.707277e-07</td>\n      <td>6.980721e-06</td>\n      <td>5.926229e-08</td>\n      <td>4.932133e-08</td>\n      <td>0.005953</td>\n      <td>6.026338e-06</td>\n      <td>2.818183e-08</td>\n      <td>4.048059e-05</td>\n    </tr>\n    <tr>\n      <th>2</th>\n      <td>3127</td>\n      <td>0.010152</td>\n      <td>1.371774e-02</td>\n      <td>2.047465e-07</td>\n      <td>0.000724</td>\n      <td>1.714435e-05</td>\n      <td>6.260178e-05</td>\n      <td>6.094365e-04</td>\n      <td>1.353542e-03</td>\n      <td>4.835736e-04</td>\n      <td>...</td>\n      <td>1.069753e-05</td>\n      <td>1.665910e-06</td>\n      <td>1.469030e-07</td>\n      <td>7.643314e-03</td>\n      <td>6.167265e-06</td>\n      <td>2.040667e-05</td>\n      <td>0.000081</td>\n      <td>2.405031e-05</td>\n      <td>9.255677e-05</td>\n      <td>7.752351e-04</td>\n    </tr>\n    <tr>\n      <th>3</th>\n      <td>3128</td>\n      <td>0.001142</td>\n      <td>2.032860e-06</td>\n      <td>4.042127e-08</td>\n      <td>0.000060</td>\n      <td>3.797761e-05</td>\n      <td>4.333036e-05</td>\n      <td>2.510854e-07</td>\n      <td>1.787993e-04</td>\n      <td>1.080438e-05</td>\n      <td>...</td>\n      <td>1.080930e-06</td>\n      <td>3.113977e-07</td>\n      <td>3.890761e-08</td>\n      <td>3.991811e-05</td>\n      <td>8.831680e-08</td>\n      <td>8.327959e-07</td>\n      <td>0.000618</td>\n      <td>8.299892e-07</td>\n      <td>3.861038e-07</td>\n      <td>1.540657e-03</td>\n    </tr>\n    <tr>\n      <th>4</th>\n      <td>3129</td>\n      <td>0.002217</td>\n      <td>7.798604e-06</td>\n      <td>1.095230e-07</td>\n      <td>0.000317</td>\n      <td>2.140477e-03</td>\n      <td>5.112460e-06</td>\n      <td>7.500231e-06</td>\n      <td>7.826978e-06</td>\n      <td>5.242071e-06</td>\n      <td>...</td>\n      <td>3.427697e-05</td>\n      <td>3.117480e-06</td>\n      <td>2.228643e-06</td>\n      <td>5.489841e-06</td>\n      <td>3.302522e-07</td>\n      <td>3.325589e-08</td>\n      <td>0.008965</td>\n      <td>4.680156e-04</td>\n      <td>1.062259e-06</td>\n      <td>1.098181e-03</td>\n    </tr>\n    <tr>\n      <th>...</th>\n      <td>...</td>\n      <td>...</td>\n      <td>...</td>\n      <td>...</td>\n      <td>...</td>\n      <td>...</td>\n      <td>...</td>\n      <td>...</td>\n      <td>...</td>\n      <td>...</td>\n      <td>...</td>\n      <td>...</td>\n      <td>...</td>\n      <td>...</td>\n      <td>...</td>\n      <td>...</td>\n      <td>...</td>\n      <td>...</td>\n      <td>...</td>\n      <td>...</td>\n      <td>...</td>\n    </tr>\n    <tr>\n      <th>777</th>\n      <td>3902</td>\n      <td>0.000084</td>\n      <td>2.174810e-06</td>\n      <td>3.777786e-09</td>\n      <td>0.000034</td>\n      <td>3.169900e-05</td>\n      <td>1.474271e-07</td>\n      <td>1.886434e-06</td>\n      <td>1.778025e-06</td>\n      <td>8.808286e-07</td>\n      <td>...</td>\n      <td>6.847079e-06</td>\n      <td>7.201080e-07</td>\n      <td>8.960312e-08</td>\n      <td>5.832458e-07</td>\n      <td>6.194855e-09</td>\n      <td>1.145300e-08</td>\n      <td>0.021687</td>\n      <td>2.081725e-04</td>\n      <td>1.401035e-07</td>\n      <td>1.192118e-04</td>\n    </tr>\n    <tr>\n      <th>778</th>\n      <td>3903</td>\n      <td>0.000074</td>\n      <td>7.207404e-08</td>\n      <td>7.282483e-11</td>\n      <td>0.000013</td>\n      <td>5.237309e-07</td>\n      <td>1.324320e-07</td>\n      <td>7.812767e-08</td>\n      <td>1.626469e-07</td>\n      <td>2.511593e-06</td>\n      <td>...</td>\n      <td>2.542834e-07</td>\n      <td>3.860804e-08</td>\n      <td>3.120717e-09</td>\n      <td>3.661049e-07</td>\n      <td>5.766242e-10</td>\n      <td>4.130424e-09</td>\n      <td>0.000519</td>\n      <td>9.922036e-07</td>\n      <td>7.164446e-09</td>\n      <td>1.043399e-04</td>\n    </tr>\n    <tr>\n      <th>779</th>\n      <td>3904</td>\n      <td>0.000392</td>\n      <td>4.934305e-07</td>\n      <td>1.399620e-08</td>\n      <td>0.000030</td>\n      <td>4.194517e-05</td>\n      <td>3.643509e-05</td>\n      <td>3.649031e-07</td>\n      <td>1.656478e-05</td>\n      <td>6.876101e-06</td>\n      <td>...</td>\n      <td>1.308245e-05</td>\n      <td>8.600182e-07</td>\n      <td>1.652475e-07</td>\n      <td>9.081095e-06</td>\n      <td>2.423693e-07</td>\n      <td>6.447446e-07</td>\n      <td>0.003164</td>\n      <td>3.681565e-06</td>\n      <td>4.387419e-07</td>\n      <td>9.811115e-04</td>\n    </tr>\n    <tr>\n      <th>780</th>\n      <td>3905</td>\n      <td>0.000089</td>\n      <td>1.051910e-02</td>\n      <td>4.221992e-07</td>\n      <td>0.000024</td>\n      <td>1.200896e-06</td>\n      <td>1.047734e-07</td>\n      <td>1.945160e-02</td>\n      <td>3.255530e-04</td>\n      <td>2.622788e-06</td>\n      <td>...</td>\n      <td>5.113100e-07</td>\n      <td>2.021090e-08</td>\n      <td>1.532742e-08</td>\n      <td>1.385386e-04</td>\n      <td>7.148197e-07</td>\n      <td>1.074453e-06</td>\n      <td>0.000039</td>\n      <td>1.431577e-05</td>\n      <td>1.549162e-04</td>\n      <td>6.859416e-07</td>\n    </tr>\n    <tr>\n      <th>781</th>\n      <td>3906</td>\n      <td>0.000053</td>\n      <td>3.983243e-07</td>\n      <td>3.322344e-10</td>\n      <td>0.000016</td>\n      <td>4.149264e-06</td>\n      <td>1.501871e-07</td>\n      <td>3.380976e-07</td>\n      <td>3.015188e-07</td>\n      <td>7.547982e-07</td>\n      <td>...</td>\n      <td>1.320623e-06</td>\n      <td>1.021315e-07</td>\n      <td>2.582058e-08</td>\n      <td>3.759118e-07</td>\n      <td>1.509390e-09</td>\n      <td>1.292921e-08</td>\n      <td>0.003032</td>\n      <td>2.316807e-05</td>\n      <td>4.439123e-08</td>\n      <td>5.455747e-05</td>\n    </tr>\n  </tbody>\n</table>\n<p>782 rows × 62 columns</p>\n</div>"
     },
     "metadata": {},
     "execution_count": 17
    }
   ],
   "source": [
    "submission.iloc[:,1:]=prediction\n",
    "submission # 대입 후"
   ]
  },
  {
   "cell_type": "code",
   "execution_count": 18,
   "metadata": {
    "id": "LZwpL1OOq7Uw"
   },
   "outputs": [],
   "source": [
    "submission.to_csv('baseline_submission.csv', index=False)"
   ]
  },
  {
   "cell_type": "code",
   "execution_count": null,
   "metadata": {},
   "outputs": [],
   "source": []
  }
 ],
 "metadata": {
  "accelerator": "GPU",
  "colab": {
   "collapsed_sections": [],
   "name": "월간 11 개발.ipynb",
   "provenance": []
  },
  "hide_input": false,
  "kernelspec": {
   "display_name": "Python 3",
   "language": "python",
   "name": "python3"
  },
  "language_info": {
   "codemirror_mode": {
    "name": "ipython",
    "version": 3
   },
   "file_extension": ".py",
   "mimetype": "text/x-python",
   "name": "python",
   "nbconvert_exporter": "python",
   "pygments_lexer": "ipython3",
   "version": "3.8.5-final"
  },
  "toc": {
   "base_numbering": 1,
   "nav_menu": {},
   "number_sections": true,
   "sideBar": true,
   "skip_h1_title": false,
   "title_cell": "Table of Contents",
   "title_sidebar": "Contents",
   "toc_cell": false,
   "toc_position": {},
   "toc_section_display": true,
   "toc_window_display": false
  },
  "varInspector": {
   "cols": {
    "lenName": 16,
    "lenType": 16,
    "lenVar": 40
   },
   "kernels_config": {
    "python": {
     "delete_cmd_postfix": "",
     "delete_cmd_prefix": "del ",
     "library": "var_list.py",
     "varRefreshCmd": "print(var_dic_list())"
    },
    "r": {
     "delete_cmd_postfix": ") ",
     "delete_cmd_prefix": "rm(",
     "library": "var_list.r",
     "varRefreshCmd": "cat(var_dic_list()) "
    }
   },
   "types_to_exclude": [
    "module",
    "function",
    "builtin_function_or_method",
    "instance",
    "_Feature"
   ],
   "window_display": false
  }
 },
 "nbformat": 4,
 "nbformat_minor": 1
}